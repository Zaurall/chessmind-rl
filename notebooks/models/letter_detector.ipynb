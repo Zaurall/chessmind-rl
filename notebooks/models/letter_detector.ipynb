{
 "cells": [
  {
   "cell_type": "code",
   "execution_count": 1,
   "metadata": {},
   "outputs": [],
   "source": [
    "import torch\n",
    "import torch.nn as nn\n",
    "import torch.nn.functional as F\n",
    "import torch.optim as optim\n",
    "from torch.utils.data import DataLoader, TensorDataset\n",
    "from torchvision import transforms"
   ]
  },
  {
   "cell_type": "code",
   "execution_count": 2,
   "metadata": {},
   "outputs": [],
   "source": [
    "from torchvision.io import read_image\n",
    "\n",
    "def load_img(fname):\n",
    "    img = read_image(fname)\n",
    "    x = img / 255.\n",
    "    \n",
    "    transform = transforms.Compose([\n",
    "        transforms.Resize((20, 20)),\n",
    "        transforms.Normalize(mean=[0.485, 0.456, 0.406], std=[0.229, 0.224, 0.225]),\n",
    "    ])\n",
    "\n",
    "    return transform(x)"
   ]
  },
  {
   "cell_type": "code",
   "execution_count": 4,
   "metadata": {},
   "outputs": [
    {
     "data": {
      "text/plain": [
       "Index(['image_path', 'label'], dtype='object')"
      ]
     },
     "execution_count": 4,
     "metadata": {},
     "output_type": "execute_result"
    }
   ],
   "source": [
    "import pandas as pd\n",
    "\n",
    "train_features = pd.read_csv(f\"../../data/image_labels.csv\")\n",
    "\n",
    "train_features.columns"
   ]
  },
  {
   "cell_type": "code",
   "execution_count": 5,
   "metadata": {},
   "outputs": [
    {
     "name": "stderr",
     "output_type": "stream",
     "text": [
      "C:\\Users\\mbred\\AppData\\Local\\Temp\\ipykernel_14916\\3579183458.py:11: FutureWarning: Downcasting behavior in `replace` is deprecated and will be removed in a future version. To retain the old behavior, explicitly call `result.infer_objects(copy=False)`. To opt-in to the future behavior, set `pd.set_option('future.no_silent_downcasting', True)`\n",
      "  labels.replace('E', 2, inplace=True)\n"
     ]
    }
   ],
   "source": [
    "img_path = \"../../data/corners\"\n",
    "\n",
    "# Load and transform images \n",
    "images = torch.stack([load_img(f\"{img_path}/{item['image_path']}\") for _, item in  train_features.iterrows()])\n",
    "\n",
    "# Select label(s) from train_features\n",
    "labels = train_features['label']\n",
    "# Leave values that only 1 or 0 and convert to float just for simplicity\n",
    "labels.replace('-', 0, inplace=True)\n",
    "labels.replace('D', 1, inplace=True)\n",
    "labels.replace('E', 2, inplace=True)\n",
    "labels = torch.from_numpy(labels.to_numpy()).float()"
   ]
  },
  {
   "cell_type": "code",
   "execution_count": 6,
   "metadata": {},
   "outputs": [
    {
     "data": {
      "text/plain": [
       "(torch.Size([64, 3, 20, 20]), torch.Size([64]))"
      ]
     },
     "execution_count": 6,
     "metadata": {},
     "output_type": "execute_result"
    }
   ],
   "source": [
    "images.shape, labels.shape"
   ]
  },
  {
   "cell_type": "code",
   "execution_count": 7,
   "metadata": {},
   "outputs": [],
   "source": [
    "processed_dataset = TensorDataset(images, labels)\n",
    "\n",
    "# Set proportion and split dataset into train and validation parts\n",
    "proportion = 0.8\n",
    "\n",
    "train_dataset, val_dataset = torch.utils.data.random_split(\n",
    "    processed_dataset,\n",
    "   [(int(len(images) * proportion)), len(images) - int(len(images) * proportion)],\n",
    ")"
   ]
  },
  {
   "cell_type": "code",
   "execution_count": 8,
   "metadata": {},
   "outputs": [],
   "source": [
    "batch_size = 32\n",
    "train_loader = DataLoader(train_dataset, batch_size=batch_size, shuffle=True)\n",
    "val_loader = DataLoader(val_dataset, batch_size=batch_size)"
   ]
  },
  {
   "cell_type": "code",
   "execution_count": 12,
   "metadata": {},
   "outputs": [
    {
     "name": "stderr",
     "output_type": "stream",
     "text": [
      "Clipping input data to the valid range for imshow with RGB data ([0..1] for floats or [0..255] for integers). Got range [-0.3569411..2.0959387].\n",
      "Clipping input data to the valid range for imshow with RGB data ([0..1] for floats or [0..255] for integers). Got range [-0.19681765..2.0959387].\n",
      "Clipping input data to the valid range for imshow with RGB data ([0..1] for floats or [0..255] for integers). Got range [-1.843908..2.4657085].\n",
      "Clipping input data to the valid range for imshow with RGB data ([0..1] for floats or [0..255] for integers). Got range [-0.7347945..2.4134207].\n",
      "Clipping input data to the valid range for imshow with RGB data ([0..1] for floats or [0..255] for integers). Got range [1.2805228..1.9920374].\n"
     ]
    },
    {
     "data": {
      "image/png": "[encoded data removed]",
      "text/plain": [
       "<Figure size 1200x400 with 5 Axes>"
      ]
     },
     "metadata": {},
     "output_type": "display_data"
    }
   ],
   "source": [
    "import matplotlib.pyplot as plt\n",
    "\n",
    "\n",
    "for images, labels in train_loader:\n",
    "    fig, axes = plt.subplots(1, 5, figsize=(12, 4))\n",
    "    for i in range(5):\n",
    "        ax = axes[i]\n",
    "\n",
    "        img = images[i]\n",
    "        img = img.permute(1, 2, 0)\n",
    "\n",
    "        ax.imshow(img)\n",
    "        ax.set_title(f'letter: {labels[i].item()}')\n",
    "        ax.axis('off')\n",
    "    plt.show()\n",
    "    break"
   ]
  },
  {
   "cell_type": "code",
   "execution_count": 13,
   "metadata": {},
   "outputs": [],
   "source": [
    "class SimpleCNN(nn.Module):\n",
    "    def __init__(self):\n",
    "        super(SimpleCNN, self).__init__()\n",
    "        self.conv1 = nn.Conv2d(3, 32, kernel_size=3, padding=1)\n",
    "        self.conv2 = nn.Conv2d(32, 64, kernel_size=3, padding=1)\n",
    "        self.conv3 = nn.Conv2d(64, 64, kernel_size=3, padding=1)\n",
    "        self.pool = nn.MaxPool2d(kernel_size=2, stride=2)\n",
    "        self.flatten = nn.Flatten()\n",
    "        self.fc1 = nn.Linear(64 * 5 * 5, 256)\n",
    "        self.fc2 = nn.Linear(256, 64)\n",
    "        self.fc3 = nn.Linear(64, 3)\n",
    "\n",
    "    def forward(self, x):\n",
    "        x = self.pool(nn.functional.relu(self.conv1(x)))\n",
    "        x = self.pool(nn.functional.relu(self.conv2(x)))\n",
    "        x = nn.functional.relu(self.conv3(x))\n",
    "        x = self.flatten(x)\n",
    "        x = nn.functional.relu(self.fc1(x))\n",
    "        x = nn.functional.relu(self.fc2(x))\n",
    "        x = self.fc3(x)\n",
    "        return x"
   ]
  },
  {
   "cell_type": "code",
   "execution_count": 23,
   "metadata": {},
   "outputs": [],
   "source": [
    "model = SimpleCNN()\n",
    "criterion = nn.CrossEntropyLoss()\n",
    "optimizer = optim.Adam(model.parameters(), lr=0.001)"
   ]
  },
  {
   "cell_type": "code",
   "execution_count": 25,
   "metadata": {},
   "outputs": [
    {
     "name": "stdout",
     "output_type": "stream",
     "text": [
      "Epoch 1/20, Loss: 0.1558595597743988\n",
      "Validation Loss: 0.21856331825256348, Accuracy: 84.61538461538461%\n",
      "Epoch 2/20, Loss: 0.12741683050990105\n",
      "Validation Loss: 0.14147837460041046, Accuracy: 92.3076923076923%\n",
      "Epoch 3/20, Loss: 0.09545949101448059\n",
      "Validation Loss: 0.8247563242912292, Accuracy: 76.92307692307692%\n",
      "Epoch 4/20, Loss: 0.11964107304811478\n",
      "Validation Loss: 0.33811360597610474, Accuracy: 84.61538461538461%\n",
      "Epoch 5/20, Loss: 0.030910547822713852\n",
      "Validation Loss: 0.09368327260017395, Accuracy: 92.3076923076923%\n",
      "Epoch 6/20, Loss: 0.11233776621520519\n",
      "Validation Loss: 0.30279871821403503, Accuracy: 84.61538461538461%\n",
      "Epoch 7/20, Loss: 0.027153007686138153\n",
      "Validation Loss: 0.9107643961906433, Accuracy: 84.61538461538461%\n",
      "Epoch 8/20, Loss: 0.05367675982415676\n",
      "Validation Loss: 0.6171512603759766, Accuracy: 84.61538461538461%\n",
      "Epoch 9/20, Loss: 0.012634528800845146\n",
      "Validation Loss: 0.20915906131267548, Accuracy: 84.61538461538461%\n",
      "Epoch 10/20, Loss: 0.01228873385116458\n",
      "Validation Loss: 0.054843418300151825, Accuracy: 100.0%\n",
      "Epoch 11/20, Loss: 0.022469389252364635\n",
      "Validation Loss: 0.043717943131923676, Accuracy: 100.0%\n",
      "Epoch 12/20, Loss: 0.009968241094611585\n",
      "Validation Loss: 0.09535810351371765, Accuracy: 100.0%\n",
      "Epoch 13/20, Loss: 0.00343165552476421\n",
      "Validation Loss: 0.1896352469921112, Accuracy: 84.61538461538461%\n",
      "Epoch 14/20, Loss: 0.005274512339383364\n",
      "Validation Loss: 0.27145564556121826, Accuracy: 84.61538461538461%\n",
      "Epoch 15/20, Loss: 0.005031067878007889\n",
      "Validation Loss: 0.24206885695457458, Accuracy: 84.61538461538461%\n",
      "Epoch 16/20, Loss: 0.004320779698900878\n",
      "Validation Loss: 0.16065384447574615, Accuracy: 84.61538461538461%\n",
      "Epoch 17/20, Loss: 0.0029303445480763912\n",
      "Validation Loss: 0.09332137554883957, Accuracy: 100.0%\n",
      "Epoch 18/20, Loss: 0.0019430050160735846\n",
      "Validation Loss: 0.04821711406111717, Accuracy: 100.0%\n",
      "Epoch 19/20, Loss: 0.0014048219891265035\n",
      "Validation Loss: 0.024504294618964195, Accuracy: 100.0%\n",
      "Epoch 20/20, Loss: 0.0010987698333337903\n",
      "Validation Loss: 0.01341434195637703, Accuracy: 100.0%\n"
     ]
    }
   ],
   "source": [
    "num_epochs = 20\n",
    "for epoch in range(num_epochs):\n",
    "    model.train()\n",
    "    running_loss = 0.0\n",
    "    for inputs, labels in train_loader:\n",
    "        labels = labels.long()\n",
    "        optimizer.zero_grad()\n",
    "        outputs = model(inputs)\n",
    "        loss = criterion(outputs, labels)\n",
    "        loss.backward()\n",
    "        optimizer.step()\n",
    "        running_loss += loss.item()\n",
    "    \n",
    "    print(f'Epoch {epoch+1}/{num_epochs}, Loss: {running_loss/len(train_loader)}')\n",
    "\n",
    "    # Validation\n",
    "    model.eval()\n",
    "    val_loss = 0.0\n",
    "    correct = 0\n",
    "    total = 0\n",
    "    with torch.no_grad():\n",
    "        for inputs, labels in val_loader:\n",
    "            labels = labels.long()\n",
    "            outputs = model(inputs)\n",
    "            loss = criterion(outputs, labels)\n",
    "            val_loss += loss.item()\n",
    "            _, predicted = torch.max(outputs.data, 1)\n",
    "            total += labels.size(0)\n",
    "            correct += (predicted == labels).sum().item()\n",
    "    \n",
    "    print(f'Validation Loss: {val_loss/len(val_loader)}, Accuracy: {100 * correct / total}%')\n",
    "\n",
    "# Save the model\n",
    "torch.save(model.state_dict(), 'letter_detection_model.pt')"
   ]
  },
  {
   "cell_type": "code",
   "execution_count": 27,
   "metadata": {},
   "outputs": [
    {
     "name": "stdout",
     "output_type": "stream",
     "text": [
      "Predicted: tensor([0, 2, 2, 2, 2, 2, 0, 2, 1, 0, 0, 0, 1, 1, 0, 0, 1, 0, 0, 0, 0, 0, 1, 0,\n",
      "        0, 2, 0, 1, 1, 1, 0, 1]), Actual: tensor([0, 2, 2, 2, 2, 2, 0, 2, 1, 0, 0, 0, 1, 1, 0, 0, 1, 0, 0, 0, 0, 0, 1, 0,\n",
      "        0, 2, 0, 1, 1, 1, 0, 1])\n",
      "Predicted: tensor([0, 2, 2, 2, 0, 2, 1, 1, 0, 0, 1, 0, 0, 0, 0, 1, 0, 0, 1]), Actual: tensor([0, 2, 2, 2, 0, 2, 1, 1, 0, 0, 1, 0, 0, 0, 0, 1, 0, 0, 1])\n"
     ]
    },
    {
     "name": "stderr",
     "output_type": "stream",
     "text": [
      "C:\\Users\\mbred\\AppData\\Local\\Temp\\ipykernel_14916\\895192891.py:2: FutureWarning: You are using `torch.load` with `weights_only=False` (the current default value), which uses the default pickle module implicitly. It is possible to construct malicious pickle data which will execute arbitrary code during unpickling (See https://github.com/pytorch/pytorch/blob/main/SECURITY.md#untrusted-models for more details). In a future release, the default value for `weights_only` will be flipped to `True`. This limits the functions that could be executed during unpickling. Arbitrary objects will no longer be allowed to be loaded via this mode unless they are explicitly allowlisted by the user via `torch.serialization.add_safe_globals`. We recommend you start setting `weights_only=True` for any use case where you don't have full control of the loaded file. Please open an issue on GitHub for any issues related to this experimental feature.\n",
      "  model.load_state_dict(torch.load('letter_detection_model.pt'))\n"
     ]
    }
   ],
   "source": [
    "model = SimpleCNN()\n",
    "model.load_state_dict(torch.load('letter_detection_model.pt'))\n",
    "model.eval()\n",
    "\n",
    "with torch.no_grad():\n",
    "    for inputs, labels in train_loader: #Change loader to some different input\n",
    "        labels = labels.long()\n",
    "        outputs = model(inputs)\n",
    "        _, predicted = torch.max(outputs.data, 1)\n",
    "        print(f'Predicted: {predicted}, Actual: {labels}')"
   ]
  }
 ],
 "metadata": {
  "kernelspec": {
   "display_name": "Python 3",
   "language": "python",
   "name": "python3"
  },
  "language_info": {
   "codemirror_mode": {
    "name": "ipython",
    "version": 3
   },
   "file_extension": ".py",
   "mimetype": "text/x-python",
   "name": "python",
   "nbconvert_exporter": "python",
   "pygments_lexer": "ipython3",
   "version": "3.12.1"
  }
 },
 "nbformat": 4,
 "nbformat_minor": 2
}
