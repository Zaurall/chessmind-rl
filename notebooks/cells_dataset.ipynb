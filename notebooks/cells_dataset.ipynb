{
 "cells": [
  {
   "cell_type": "code",
   "execution_count": 16,
   "id": "initial_id",
   "metadata": {
    "collapsed": true,
    "ExecuteTime": {
     "end_time": "2024-10-04T13:07:28.513807Z",
     "start_time": "2024-10-04T13:07:28.494657700Z"
    }
   },
   "outputs": [],
   "source": [
    "import cv2\n",
    "import numpy as np\n",
    "import os"
   ]
  },
  {
   "cell_type": "code",
   "outputs": [],
   "source": [
    "def are_pixels_similar(pixel1, pixel2, threshold=10):\n",
    "    distance = np.linalg.norm(pixel1 - pixel2)\n",
    "    return distance < threshold\n",
    "\n",
    "def remove_lines(chess_board):\n",
    "    while not are_pixels_similar(chess_board[10][0], chess_board[10][1]):  # left \n",
    "        chess_board = chess_board[:, 1:]\n",
    "    while not are_pixels_similar(chess_board[0][10], chess_board[1][10]):  # top\n",
    "        chess_board = chess_board[1:, :]\n",
    "    while not are_pixels_similar(chess_board[-11][-1], chess_board[-11][-2]):  # right\n",
    "        chess_board = chess_board[:, :-1]\n",
    "    while not are_pixels_similar(chess_board[-1][-11], chess_board[-2][-11]):  # bottom\n",
    "        chess_board = chess_board[:-1, :]\n",
    "    return chess_board"
   ],
   "metadata": {
    "collapsed": false,
    "ExecuteTime": {
     "end_time": "2024-10-04T12:52:14.543331700Z",
     "start_time": "2024-10-04T12:52:14.530346900Z"
    }
   },
   "id": "6d7b3d1b4214c081",
   "execution_count": 3
  },
  {
   "cell_type": "code",
   "outputs": [],
   "source": [
    "def preprocess_cells(filename, piece_setup, player_side):\n",
    "    screenshot = cv2.imread(filename)\n",
    "    screenshot_gray = cv2.cvtColor(screenshot, cv2.COLOR_BGR2GRAY)\n",
    "    \n",
    "    sigma=0.33\n",
    "    v = np.mean(screenshot_gray)\n",
    "    lower = int(max(0, (1.0 - sigma) * v))\n",
    "    upper = int(min(255, (1.0 + sigma) * v))\n",
    "    \n",
    "    edges = cv2.Canny(screenshot_gray, lower, upper)\n",
    "    kernel = cv2.getStructuringElement(cv2.MORPH_RECT, (3, 3))\n",
    "    edges = cv2.morphologyEx(edges, cv2.MORPH_CLOSE, kernel)\n",
    "\n",
    "    contours, _ = cv2.findContours(edges, cv2.RETR_TREE, cv2.CHAIN_APPROX_SIMPLE)\n",
    "    contours = sorted(contours, key = cv2.contourArea, reverse = True)[:5]\n",
    "    \n",
    "    (x, y, w, h) = cv2.boundingRect(contours[0])   \n",
    "    best_area = cv2.contourArea(contours[0])\n",
    "    for i, cnt in enumerate(contours):\n",
    "        epsilon = 0.01 * cv2.arcLength(cnt, True)\n",
    "        approx = cv2.approxPolyDP(cnt, epsilon, True)\n",
    "        if len(approx) == 4:\n",
    "            area = cv2.contourArea(cnt)\n",
    "            area_diff = abs(area - best_area) / best_area\n",
    "            if area_diff > 0.05:\n",
    "                break\n",
    "            (x, y, w, h) = cv2.boundingRect(cnt)\n",
    "\n",
    "    chess_board = screenshot[y:y+h, x:x+w]\n",
    "    chess_board = remove_lines(chess_board)\n",
    "    chess_board = cv2.resize(chess_board, (1024, 1024))\n",
    "    \n",
    "    columns = ['a', 'b', 'c', 'd', 'e', 'f', 'g', 'h']\n",
    "    rows = ['1', '2', '3', '4', '5', '6', '7', '8']\n",
    "    step = (chess_board.shape[0]//8)\n",
    "    \n",
    "    for row in range(len(rows)):\n",
    "        for col in range(len(columns)):\n",
    "            cell_image = chess_board[row*step:(row+1)*step, col*step:(col+1)*step]\n",
    "            if player_side == \"white\":\n",
    "                cell_label = f\"{columns[col]}{rows[7-row]}\"\n",
    "            else:\n",
    "                cell_label = f\"{columns[7-col]}{rows[row]}\"\n",
    "                \n",
    "            if cell_label in piece_setup.keys():\n",
    "                filename = f\"../data/cells/pieces/{piece_setup[cell_label]}.png\"\n",
    "                print(filename)\n",
    "                cv2.imwrite(filename, cell_image)\n",
    "\n",
    "    print(\"Cells processed successfully\")\n",
    "            "
   ],
   "metadata": {
    "collapsed": false,
    "ExecuteTime": {
     "end_time": "2024-10-04T12:59:06.853616700Z",
     "start_time": "2024-10-04T12:59:06.818838400Z"
    }
   },
   "id": "2d5870615eea1830",
   "execution_count": 10
  },
  {
   "cell_type": "code",
   "outputs": [
    {
     "name": "stdout",
     "output_type": "stream",
     "text": [
      "../data/cells/pieces/lichess_white_king_on_white.png\n",
      "../data/cells/pieces/lichess_white_queen_on_black.png\n",
      "Cells processed successfully\n"
     ]
    }
   ],
   "source": [
    "# initial_piece_setup = {\n",
    "#     'a1': 'lichess_white_rook_on_black',   'b1': 'lichess_white_knight_on_white', 'c1': 'lichess_white_bishop_on_black', 'd1': 'lichess_white_queen_on_white',\n",
    "#     'e1': 'lichess_white_king_on_black',   'f1': 'lichess_white_bishop_on_white', 'g1': 'lichess_white_knight_on_black', 'h1': 'lichess_white_rook_on_white',\n",
    "#     'a2': 'lichess_white_pawn_on_white',   'b2': 'lichess_white_pawn_on_black',\n",
    "# \n",
    "#     'a8': 'lichess_black_rook_on_white',   'b8': 'lichess_black_knight_on_black', 'c8': 'lichess_black_bishop_on_white', 'd8': 'lichess_black_queen_on_black',\n",
    "#     'e8': 'lichess_black_king_on_white',   'f8': 'lichess_black_bishop_on_black', 'g8': 'lichess_black_knight_on_white', 'h8': 'lichess_black_rook_on_black',\n",
    "#     'a7': 'lichess_black_pawn_on_black',   'b7': 'lichess_black_pawn_on_white'\n",
    "# }\n",
    "\n",
    "piece_setup = {\n",
    "    'e1': \"lichess_white_queen_on_black\",\n",
    "    'e2': \"lichess_white_king_on_white\",\n",
    "    # 'e2': \"lichess_white_king_on_white\",\n",
    "    # 'e7': \"lichess_black_king_on_black\",\n",
    "}\n",
    "\n",
    "preprocess_cells(\n",
    "    filename=\"../data/cells/screenshots/lichess_white_queen_king_another.png\",\n",
    "    player_side=\"white\",\n",
    "    piece_setup=piece_setup\n",
    ")\n"
   ],
   "metadata": {
    "collapsed": false,
    "ExecuteTime": {
     "end_time": "2024-10-04T13:00:43.156421Z",
     "start_time": "2024-10-04T13:00:43.092579100Z"
    }
   },
   "id": "59fe378a4e195b38",
   "execution_count": 14
  },
  {
   "cell_type": "code",
   "outputs": [],
   "source": [
    "def preprocess_bottom_cell(filename, file):\n",
    "    screenshot = cv2.imread(filename)\n",
    "    screenshot_gray = cv2.cvtColor(screenshot, cv2.COLOR_BGR2GRAY)\n",
    "    \n",
    "    sigma=0.33\n",
    "    v = np.mean(screenshot_gray)\n",
    "    lower = int(max(0, (1.0 - sigma) * v))\n",
    "    upper = int(min(255, (1.0 + sigma) * v))\n",
    "    \n",
    "    edges = cv2.Canny(screenshot_gray, lower, upper)\n",
    "    kernel = cv2.getStructuringElement(cv2.MORPH_RECT, (3, 3))\n",
    "    edges = cv2.morphologyEx(edges, cv2.MORPH_CLOSE, kernel)\n",
    "\n",
    "    contours, _ = cv2.findContours(edges, cv2.RETR_TREE, cv2.CHAIN_APPROX_SIMPLE)\n",
    "    contours = sorted(contours, key = cv2.contourArea, reverse = True)[:5]\n",
    "    \n",
    "    (x, y, w, h) = cv2.boundingRect(contours[0])   \n",
    "    best_area = cv2.contourArea(contours[0])\n",
    "    for i, cnt in enumerate(contours):\n",
    "        epsilon = 0.01 * cv2.arcLength(cnt, True)\n",
    "        approx = cv2.approxPolyDP(cnt, epsilon, True)\n",
    "        if len(approx) == 4:\n",
    "            area = cv2.contourArea(cnt)\n",
    "            area_diff = abs(area - best_area) / best_area\n",
    "            if area_diff > 0.05:\n",
    "                break\n",
    "            (x, y, w, h) = cv2.boundingRect(cnt)\n",
    "\n",
    "    chess_board = screenshot[y:y+h, x:x+w]\n",
    "    chess_board = remove_lines(chess_board)\n",
    "    chess_board = cv2.resize(chess_board, (1024, 1024))\n",
    "    \n",
    "    step = (chess_board.shape[0]//8)\n",
    "    row, col = 7, 3\n",
    "    bottom_cell = chess_board[row*step : (row+1)*step, col*step : (col+1)*step]\n",
    "    \n",
    "    new_filename = f\"../data/cells/player_side_cell/{file}\"\n",
    "    cv2.imwrite(new_filename, bottom_cell)\n",
    "            "
   ],
   "metadata": {
    "collapsed": false,
    "ExecuteTime": {
     "end_time": "2024-10-04T13:27:42.522444700Z",
     "start_time": "2024-10-04T13:27:42.495716100Z"
    }
   },
   "id": "ea82c688da9fe19d",
   "execution_count": 37
  },
  {
   "cell_type": "code",
   "outputs": [],
   "source": [
    "for dir in os.walk(\"../data/sites\"):\n",
    "    for file in dir[2]:\n",
    "        file_path = os.path.join(dir[0], file)\n",
    "        if \"chesscom\" in file_path:\n",
    "            player_side = \"black\"\n",
    "        preprocess_bottom_cell(file_path, file)\n"
   ],
   "metadata": {
    "collapsed": false,
    "ExecuteTime": {
     "end_time": "2024-10-04T13:28:21.602930500Z",
     "start_time": "2024-10-04T13:28:21.012720800Z"
    }
   },
   "id": "524fef447264f8fa",
   "execution_count": 40
  },
  {
   "cell_type": "code",
   "outputs": [],
   "source": [],
   "metadata": {
    "collapsed": false,
    "ExecuteTime": {
     "end_time": "2024-10-04T13:28:16.104217700Z",
     "start_time": "2024-10-04T13:28:16.091986100Z"
    }
   },
   "id": "e25270dd2b0b805c",
   "execution_count": 39
  }
 ],
 "metadata": {
  "kernelspec": {
   "display_name": "Python 3",
   "language": "python",
   "name": "python3"
  },
  "language_info": {
   "codemirror_mode": {
    "name": "ipython",
    "version": 2
   },
   "file_extension": ".py",
   "mimetype": "text/x-python",
   "name": "python",
   "nbconvert_exporter": "python",
   "pygments_lexer": "ipython2",
   "version": "2.7.6"
  }
 },
 "nbformat": 4,
 "nbformat_minor": 5
}
