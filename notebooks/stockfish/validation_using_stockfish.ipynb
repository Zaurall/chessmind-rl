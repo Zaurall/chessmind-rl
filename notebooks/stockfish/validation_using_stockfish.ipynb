{
 "cells": [
  {
   "cell_type": "code",
   "outputs": [],
   "source": [
    "import chess\n",
    "from stockfish import Stockfish"
   ],
   "metadata": {
    "collapsed": false,
    "ExecuteTime": {
     "end_time": "2024-11-18T17:55:19.455203100Z",
     "start_time": "2024-11-18T17:55:19.361461700Z"
    }
   },
   "id": "6e354c85bb0c2fa1",
   "execution_count": 1
  },
  {
   "cell_type": "code",
   "execution_count": 2,
   "id": "initial_id",
   "metadata": {
    "collapsed": true,
    "ExecuteTime": {
     "end_time": "2024-11-18T18:15:29.770992200Z",
     "start_time": "2024-11-18T17:55:19.462205Z"
    }
   },
   "outputs": [
    {
     "name": "stdout",
     "output_type": "stream",
     "text": [
      "Skill Level 500: Wins: 2, Losses: 0, Draws: 18, Win Rate: 0.55\n",
      "Skill Level 600: Wins: 0, Losses: 0, Draws: 20, Win Rate: 0.50\n",
      "Skill Level 700: Wins: 0, Losses: 0, Draws: 20, Win Rate: 0.50\n",
      "{'Stockfish Level': 500, 'Wins': 2, 'Losses': 0, 'Draws': 18, 'Win Rate': 0.55}\n",
      "{'Stockfish Level': 600, 'Wins': 0, 'Losses': 0, 'Draws': 20, 'Win Rate': 0.5}\n",
      "{'Stockfish Level': 700, 'Wins': 0, 'Losses': 0, 'Draws': 20, 'Win Rate': 0.5}\n"
     ]
    }
   ],
   "source": [
    "def configure_stockfish_using_skill_level(skill_level):\n",
    "    stockfish = Stockfish(path=\"../models/stockfish-windows-x86-64-avx2.exe\")\n",
    "    stockfish.set_skill_level(skill_level)\n",
    "    return stockfish\n",
    "\n",
    "def configure_stockfish_using_rating(elo_rating):\n",
    "    stockfish = Stockfish(path=\"../models/stockfish-windows-x86-64-avx2.exe\")\n",
    "    stockfish.set_elo_rating(elo_rating)\n",
    "    return stockfish\n",
    "\n",
    "def play_game(agent, stockfish, max_moves=50, both_agents_are_stockfish=True, second_stockfish=None):\n",
    "    board = chess.Board()\n",
    "    stockfish.set_fen_position(board.fen())\n",
    "    if both_agents_are_stockfish:\n",
    "        second_stockfish.set_fen_position(board.fen())\n",
    "    done = False\n",
    "    game_moves = 0\n",
    "\n",
    "    while not done:\n",
    "        if board.turn:\n",
    "            # make best move using agent or stockfish\n",
    "            if both_agents_are_stockfish:\n",
    "                best_move = second_stockfish.get_best_move()\n",
    "                best_move = chess.Move.from_uci(best_move)\n",
    "            else:\n",
    "                # best move made by your model\n",
    "                best_move = stockfish.get_best_move()\n",
    "                best_move = chess.Move.from_uci(best_move)\n",
    "                best_move = agent.select_action(board, best_move)\n",
    "            \n",
    "            board.push(best_move)\n",
    "            stockfish.set_fen_position(board.fen())\n",
    "            if both_agents_are_stockfish:\n",
    "                second_stockfish.set_fen_position(board.fen())\n",
    "        else:\n",
    "            stockfish_move = stockfish.get_best_move()\n",
    "            stockfish_move = chess.Move.from_uci(stockfish_move)\n",
    "            board.push(stockfish_move)\n",
    "            stockfish.set_fen_position(board.fen())\n",
    "            if both_agents_are_stockfish:\n",
    "                second_stockfish.set_fen_position(board.fen())\n",
    "\n",
    "        done = board.is_game_over() or game_moves >= max_moves\n",
    "        game_moves += 1\n",
    "\n",
    "    result = board.result()  # \"1-0\", \"0-1\", \"1/2-1/2\", \"*\"\n",
    "    if result == \"1-0\":\n",
    "        return 1  # Agent wins\n",
    "    elif result == \"0-1\":\n",
    "        return -1  # Stockfish wins\n",
    "    else:\n",
    "        return 0  # Draw\n",
    "\n",
    "def evaluate_elo(agent, stockfish_elo_ratings, games_per_level=20, both_agents_are_stockfish=True, second_stockfish_level = 1):\n",
    "    results = []\n",
    "\n",
    "    for rating in stockfish_elo_ratings:\n",
    "        stockfish = configure_stockfish_using_rating(rating)\n",
    "        if both_agents_are_stockfish:\n",
    "            second_stockfish = configure_stockfish_using_skill_level(second_stockfish_level)\n",
    "            \n",
    "        wins, losses, draws = 0, 0, 0\n",
    "\n",
    "        for _ in range(games_per_level):\n",
    "            result = play_game(agent, stockfish, both_agents_are_stockfish=True, second_stockfish=second_stockfish)\n",
    "            if result == 1:\n",
    "                wins += 1\n",
    "            elif result == -1:\n",
    "                losses += 1\n",
    "            else:\n",
    "                draws += 1\n",
    "\n",
    "        win_rate = (wins + 0.5 * draws) / games_per_level\n",
    "        results.append({\n",
    "            \"Stockfish Level\": rating,\n",
    "            \"Wins\": wins,\n",
    "            \"Losses\": losses,\n",
    "            \"Draws\": draws,\n",
    "            \"Win Rate\": win_rate\n",
    "        })\n",
    "        print(f\"Skill Level {rating}: Wins: {wins}, Losses: {losses}, Draws: {draws}, Win Rate: {win_rate:.2f}\")\n",
    "\n",
    "    return results\n",
    "\n",
    "stockfish_elo_ratings = [500, 600, 700]\n",
    "agent = None\n",
    "results = evaluate_elo(agent, stockfish_elo_ratings, both_agents_are_stockfish=True, second_stockfish_level = 1)"
   ]
  },
  {
   "cell_type": "code",
   "outputs": [
    {
     "name": "stdout",
     "output_type": "stream",
     "text": [
      "Skill Level 500: Wins: 1, Losses: 0, Draws: 19, Win Rate: 0.53\n",
      "Skill Level 500: Wins: 3, Losses: 1, Draws: 16, Win Rate: 0.55\n",
      "Skill Level 500: Wins: 2, Losses: 0, Draws: 18, Win Rate: 0.55\n"
     ]
    }
   ],
   "source": [
    "stockfish_elo_ratings = [500, 500, 500]\n",
    "results = evaluate_elo(agent, stockfish_elo_ratings, both_agents_are_stockfish=True, second_stockfish_level = 1)\n"
   ],
   "metadata": {
    "collapsed": false,
    "ExecuteTime": {
     "end_time": "2024-11-18T18:55:22.411323100Z",
     "start_time": "2024-11-18T18:32:42.009573Z"
    }
   },
   "id": "763f6e221e3bfdd7",
   "execution_count": 3
  },
  {
   "cell_type": "code",
   "outputs": [],
   "source": [],
   "metadata": {
    "collapsed": false
   },
   "id": "df8624d313e2f1e1"
  }
 ],
 "metadata": {
  "kernelspec": {
   "display_name": "Python 3",
   "language": "python",
   "name": "python3"
  },
  "language_info": {
   "codemirror_mode": {
    "name": "ipython",
    "version": 2
   },
   "file_extension": ".py",
   "mimetype": "text/x-python",
   "name": "python",
   "nbconvert_exporter": "python",
   "pygments_lexer": "ipython2",
   "version": "2.7.6"
  }
 },
 "nbformat": 4,
 "nbformat_minor": 5
}
