{
 "cells": [
  {
   "cell_type": "code",
   "outputs": [],
   "source": [
    "import os\n",
    "import shutil\n",
    "import chess\n",
    "import random\n",
    "from stockfish import Stockfish"
   ],
   "metadata": {
    "collapsed": false
   },
   "id": "c3ef520562121281"
  },
  {
   "cell_type": "markdown",
   "source": [
    "# Stockfish initialization"
   ],
   "metadata": {
    "collapsed": false
   },
   "id": "bfd6ff09e163f78b"
  },
  {
   "cell_type": "code",
   "execution_count": null,
   "id": "initial_id",
   "metadata": {
    "collapsed": true
   },
   "outputs": [],
   "source": [
    "KAGGLE = True\n",
    "\n",
    "if KAGGLE:\n",
    "    input_stockfish_path = \"/kaggle/input/stockfish_ubuntu/other/default/1/stockfish-ubuntu-x86-64-avx2\"\n",
    "    stockfish_path = \"/kaggle/working/stockfish\"\n",
    "    shutil.copy(input_stockfish_path, stockfish_path)\n",
    "    os.chmod(stockfish_path, 0o755)\n",
    "else:\n",
    "    stockfish_path = \"../../models/validation_stockfish/stockfish-windows-x86-64-avx2.exe\"\n",
    "    \n",
    "stockfish = Stockfish(path=stockfish_path)\n",
    "stockfish.set_skill_level(20)\n"
   ]
  },
  {
   "cell_type": "markdown",
   "source": [
    "# How to analyze the moves"
   ],
   "metadata": {
    "collapsed": false
   },
   "id": "6fa5497020814701"
  },
  {
   "cell_type": "code",
   "outputs": [],
   "source": [
    "board = chess.Board()\n",
    "\n",
    "def analyze_move(board, stockfish):\n",
    "    stockfish.set_fen_position(board.fen())\n",
    "    board_score_before = stockfish.get_evaluation()['value']\n",
    "\n",
    "    move = random.choice(list(board.legal_moves))\n",
    "    board.push(move)\n",
    "    \n",
    "    stockfish.set_fen_position(board.fen())\n",
    "    board_score_after = stockfish.get_evaluation()['value']\n",
    "\n",
    "    # division by 100 converts from pawn to centipawn score, while subtracting 0.01 is penalization for each move, to win as fast as possible\n",
    "    reward = board_score_after / 100 - board_score_before / 100 - 0.01\n",
    "\n",
    "    return reward, board_score_after, board_score_before, move\n",
    "\n",
    "print(analyze_move(board, stockfish))"
   ],
   "metadata": {
    "collapsed": false
   },
   "id": "dd7d0aaff7f48e38"
  },
  {
   "cell_type": "markdown",
   "source": [
    "# How to analyze models with stockfish"
   ],
   "metadata": {
    "collapsed": false
   },
   "id": "83a7debaa7936dea"
  },
  {
   "cell_type": "code",
   "outputs": [],
   "source": [
    "def configure_stockfish_using_skill_level(skill_level):\n",
    "    stockfish = Stockfish(path=stockfish_path)\n",
    "    stockfish.set_skill_level(skill_level)\n",
    "    return stockfish\n",
    "\n",
    "def configure_stockfish_using_rating(elo_rating):\n",
    "    stockfish = Stockfish(path=stockfish_path)\n",
    "    stockfish.set_elo_rating(elo_rating)\n",
    "    return stockfish\n",
    "\n",
    "def play_single_game(agent, stockfish, max_moves=50):\n",
    "    board = chess.Board()\n",
    "    stockfish.set_fen_position(board.fen())\n",
    "\n",
    "    for move_count in range(max_moves):\n",
    "        if board.turn:\n",
    "            move = agent.select_action(board)\n",
    "        else:\n",
    "            move = chess.Move.from_uci(stockfish.get_best_move())\n",
    "        board.push(move)\n",
    "        stockfish.set_fen_position(board.fen())\n",
    "\n",
    "        if board.is_game_over():\n",
    "            break\n",
    "\n",
    "    return board.result()\n",
    "\n",
    "def evaluate_agent(agent, skill_levels, games_per_rating=20):\n",
    "    results = []\n",
    "\n",
    "    for level in skill_levels:\n",
    "        stockfish = configure_stockfish_using_skill_level(level)\n",
    "        outcomes = {\"Wins\": 0, \"Losses\": 0, \"Draws\": 0}\n",
    "\n",
    "        for _ in range(games_per_rating):\n",
    "            result = play_single_game(agent, stockfish)\n",
    "            if result == \"1-0\":\n",
    "                outcomes[\"Wins\"] += 1\n",
    "            elif result == \"0-1\":\n",
    "                outcomes[\"Losses\"] += 1\n",
    "            else:\n",
    "                outcomes[\"Draws\"] += 1\n",
    "\n",
    "        win_rate = (outcomes[\"Wins\"] + 0.5 * outcomes[\"Draws\"]) / games_per_rating\n",
    "        outcomes[\"Win Rate\"] = win_rate\n",
    "        outcomes[\"Stockfish Level\"] = level\n",
    "        results.append(outcomes)\n",
    "\n",
    "        print(f\"Elo {level}: {outcomes}\")\n",
    "\n",
    "    return results\n",
    "\n",
    "agent = None\n",
    "stockfish_skill_levels = [1, 2, 3, 4] \n",
    "results = evaluate_agent(agent, stockfish_skill_levels)"
   ],
   "metadata": {
    "collapsed": false
   },
   "id": "e9d011557afdd83d"
  }
 ],
 "metadata": {
  "kernelspec": {
   "display_name": "Python 3",
   "language": "python",
   "name": "python3"
  },
  "language_info": {
   "codemirror_mode": {
    "name": "ipython",
    "version": 2
   },
   "file_extension": ".py",
   "mimetype": "text/x-python",
   "name": "python",
   "nbconvert_exporter": "python",
   "pygments_lexer": "ipython2",
   "version": "2.7.6"
  }
 },
 "nbformat": 4,
 "nbformat_minor": 5
}
