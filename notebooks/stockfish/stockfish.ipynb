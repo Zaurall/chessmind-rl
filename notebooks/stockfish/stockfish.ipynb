{
 "cells": [
  {
   "cell_type": "markdown",
   "metadata": {},
   "source": [
    "Testing the StockFish"
   ]
  },
  {
   "cell_type": "code",
   "execution_count": 8,
   "metadata": {},
   "outputs": [
    {
     "name": "stdout",
     "output_type": "stream",
     "text": [
      "Requirement already satisfied: stockfish in c:\\users\\mbred\\appdata\\local\\programs\\python\\python312\\lib\\site-packages (3.28.0)\n",
      "Requirement already satisfied: chess in c:\\users\\mbred\\appdata\\local\\programs\\python\\python312\\lib\\site-packages (1.11.1)\n"
     ]
    }
   ],
   "source": [
    "!pip install stockfish chess"
   ]
  },
  {
   "cell_type": "markdown",
   "metadata": {},
   "source": [
    "The idea is to make a function, which will turn the board state into win probability for the player"
   ]
  },
  {
   "cell_type": "code",
   "execution_count": 9,
   "metadata": {},
   "outputs": [
    {
     "name": "stdout",
     "output_type": "stream",
     "text": [
      "{'type': 'cp', 'value': 28}\n",
      "Win probability: 0.5099986668799655\n"
     ]
    }
   ],
   "source": [
    "from stockfish import Stockfish\n",
    "import numpy as np\n",
    "\n",
    "def sigmoid(x):\n",
    "    return 1 / (1 + np.exp(-x))\n",
    "\n",
    "def convert_cp_to_win_probability(cp_score):\n",
    "    return sigmoid(cp_score / 700)\n",
    "\n",
    "# Initialize Stockfish\n",
    "stockfish = Stockfish(path=\"stockfish.exe\")\n",
    "\n",
    "stockfish.set_fen_position(\"rnbqkbnr/pppppppp/8/8/8/8/PPPPPPPP/RNBQKBNR w KQkq - 0 1\")\n",
    "evaluation = stockfish.get_evaluation()\n",
    "print(evaluation)\n",
    "print(f'Win probability: {convert_cp_to_win_probability(evaluation['value'])}')"
   ]
  },
  {
   "cell_type": "markdown",
   "metadata": {},
   "source": [
    "The function is working fine, now let's create random board state and look at the win probability for it."
   ]
  },
  {
   "cell_type": "code",
   "execution_count": 11,
   "metadata": {},
   "outputs": [
    {
     "name": "stdout",
     "output_type": "stream",
     "text": [
      "Random Board FEN: r1q1kbnr/pb1p1ppp/np6/2P1pP2/2P5/7N/PP2PKPP/RNBQ1B1R b kq - 2 7\n"
     ]
    }
   ],
   "source": [
    "import chess\n",
    "import random\n",
    "\n",
    "# Initialize board\n",
    "board = chess.Board()\n",
    "\n",
    "num_moves = random.randint(10, 20)\n",
    "\n",
    "for _ in range(num_moves):\n",
    "    legal_moves = list(board.legal_moves)\n",
    "    if not legal_moves:\n",
    "        break\n",
    "    random_move = random.choice(legal_moves)\n",
    "    board.push(random_move)\n",
    "\n",
    "fen = board.fen()\n",
    "print(f\"Random Board FEN: {fen}\")"
   ]
  },
  {
   "cell_type": "code",
   "execution_count": 12,
   "metadata": {},
   "outputs": [
    {
     "name": "stdout",
     "output_type": "stream",
     "text": [
      "{'type': 'cp', 'value': -264}\n",
      "Win probability: 0.40681618958716037\n"
     ]
    }
   ],
   "source": [
    "stockfish.set_fen_position(fen)\n",
    "evaluation = stockfish.get_evaluation()\n",
    "print(evaluation)\n",
    "print(f'Win probability: {convert_cp_to_win_probability(evaluation['value'])}')"
   ]
  },
  {
   "cell_type": "markdown",
   "metadata": {},
   "source": [
    "Connecting everything together:"
   ]
  },
  {
   "cell_type": "code",
   "execution_count": 13,
   "metadata": {},
   "outputs": [
    {
     "name": "stdout",
     "output_type": "stream",
     "text": [
      "0.40681618958716037\n"
     ]
    }
   ],
   "source": [
    "from stockfish import Stockfish\n",
    "import numpy as np\n",
    "import chess\n",
    "import random\n",
    "\n",
    "def sigmoid(x):\n",
    "    return 1 / (1 + np.exp(-x))\n",
    "\n",
    "def convert_cp_to_win_probability(cp_score):\n",
    "    return sigmoid(cp_score / 700)\n",
    "\n",
    "def calculate_cp(board):\n",
    "    fen = board.fen()\n",
    "    stockfish.set_fen_position(fen)\n",
    "    evaluation = stockfish.get_evaluation()\n",
    "    return evaluation\n",
    "\n",
    "def calculate_probability(board):\n",
    "    eval = calculate_cp(board)\n",
    "    prob = convert_cp_to_win_probability(eval['value'])\n",
    "    return prob\n",
    "\n",
    "\n",
    "stockfish = Stockfish(path=\"stockfish.exe\")\n",
    "print(calculate_probability(board))"
   ]
  }
 ],
 "metadata": {
  "kernelspec": {
   "display_name": "Python 3",
   "language": "python",
   "name": "python3"
  },
  "language_info": {
   "codemirror_mode": {
    "name": "ipython",
    "version": 3
   },
   "file_extension": ".py",
   "mimetype": "text/x-python",
   "name": "python",
   "nbconvert_exporter": "python",
   "pygments_lexer": "ipython3",
   "version": "3.12.1"
  }
 },
 "nbformat": 4,
 "nbformat_minor": 2
}
