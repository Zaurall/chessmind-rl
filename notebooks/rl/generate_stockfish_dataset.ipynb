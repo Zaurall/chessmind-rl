{
 "cells": [
  {
   "cell_type": "code",
   "execution_count": 81,
   "id": "42eac7a1-8a46-46a5-aa36-51ed1a05103c",
   "metadata": {},
   "outputs": [
    {
     "name": "stdout",
     "output_type": "stream",
     "text": [
      "cuda\n"
     ]
    }
   ],
   "source": [
    "import os\n",
    "import pickle\n",
    "import shutil\n",
    "import chess\n",
    "import chess.engine\n",
    "import pandas as pd\n",
    "import random\n",
    "import numpy as np\n",
    "import torch\n",
    "import torch.nn as nn\n",
    "import torch.nn.functional as F\n",
    "import matplotlib.pyplot as plt\n",
    "from torch.optim import Adam\n",
    "from stockfish import Stockfish\n",
    "from tqdm import tqdm\n",
    "\n",
    "device = torch.device('cuda' if torch.cuda.is_available() else 'cpu')\n",
    "print(device)"
   ]
  },
  {
   "cell_type": "code",
   "execution_count": 86,
   "id": "e84eec89-8e4f-49d5-9d28-2bfb5ee64776",
   "metadata": {},
   "outputs": [],
   "source": [
    "KAGGLE = False\n",
    "\n",
    "if KAGGLE:\n",
    "    input_stockfish_path = \"/kaggle/input/stockfish_ubuntu/other/default/1/stockfish-ubuntu-x86-64-avx2\"\n",
    "    stockfish_path = \"/kaggle/working/stockfish\"\n",
    "    if not os.path.exists(stockfish_path):\n",
    "        shutil.copy(input_stockfish_path, stockfish_path)\n",
    "    os.chmod(stockfish_path, 0o755)\n",
    "else:\n",
    "    stockfish_path = \"./stockfish-ubuntu-x86-64-avx2\"\n",
    "    os.chmod(stockfish_path, 0o755)\n",
    "    \n",
    "stockfish = Stockfish(path=stockfish_path, depth=15, parameters={\"Skill Level\": 20, \"Threads\": 4})\n"
   ]
  },
  {
   "cell_type": "code",
   "execution_count": 87,
   "id": "106e26a5-3724-45c9-a3a5-3b7c6d7cc774",
   "metadata": {},
   "outputs": [],
   "source": [
    "def convert_board_to_bitarray(board):\n",
    "    bitboards = np.zeros((16, 8, 8), dtype=np.uint8)\n",
    "    \n",
    "    for i, (pt, color) in enumerate([(pt, color) for pt in chess.PIECE_TYPES for color in chess.COLORS]):\n",
    "        bitboard = board.pieces_mask(pt, color)\n",
    "        for square in chess.SQUARES:\n",
    "            if bitboard & (1 << square):\n",
    "                bitboards[i, square // 8, square % 8] = 1\n",
    "\n",
    "    # Player to move\n",
    "    bitboards[12, :, :] = int(board.turn)\n",
    "\n",
    "    # Castling rights\n",
    "    castling_kingside_white = bool(board.castling_rights & chess.BB_H1)\n",
    "    castling_queenside_white = bool(board.castling_rights & chess.BB_A1)\n",
    "    castling_kingside_black = bool(board.castling_rights & chess.BB_H8)\n",
    "    castling_queenside_black = bool(board.castling_rights & chess.BB_A8)\n",
    "    \n",
    "    bitboards[13, 0, 0] = castling_kingside_white\n",
    "    bitboards[13, 0, 1] = castling_queenside_white\n",
    "    bitboards[13, 1, 0] = castling_kingside_black\n",
    "    bitboards[13, 1, 1] = castling_queenside_black\n",
    "\n",
    "    # En passant square\n",
    "    if board.ep_square:\n",
    "        ep_rank, ep_file = divmod(board.ep_square, 8)\n",
    "        bitboards[14, ep_rank, ep_file] = 1\n",
    "\n",
    "    return bitboards\n"
   ]
  },
  {
   "cell_type": "code",
   "execution_count": 88,
   "id": "6b527a91-2b44-41ba-9f88-347b4e3fd179",
   "metadata": {},
   "outputs": [],
   "source": [
    "def generate_stockfish_training_data(stockfish, num_games=10000, max_moves_per_game=50):\n",
    "    training_data = []\n",
    "    \n",
    "    for _ in tqdm(range(num_games), desc=\"Generating Training Data\"):\n",
    "        board = chess.Board()\n",
    "        for _ in range(max_moves_per_game):\n",
    "            if board.is_game_over():\n",
    "                break\n",
    "\n",
    "            stockfish.set_fen_position(board.fen())\n",
    "            best_move = chess.Move.from_uci(stockfish.get_best_move())\n",
    "            board_state = convert_board_to_bitarray(board)\n",
    "            \n",
    "            training_data.append((board_state, best_move))\n",
    "            \n",
    "            board.push(best_move)\n",
    "            if board.is_game_over():\n",
    "                break\n",
    "            \n",
    "            if random.uniform(0, 1) < 0.5:\n",
    "                opponent_move = random.choice(list(board.legal_moves))\n",
    "            else:\n",
    "                stockfish.set_fen_position(board.fen())\n",
    "                opponent_move = chess.Move.from_uci(stockfish.get_best_move())\n",
    "                \n",
    "            board.push(opponent_move)\n",
    "    \n",
    "    return training_data"
   ]
  },
  {
   "cell_type": "code",
   "execution_count": 89,
   "id": "76565b6a-192a-4a5b-af31-fea294b3242f",
   "metadata": {},
   "outputs": [
    {
     "name": "stderr",
     "output_type": "stream",
     "text": [
      "Generating Training Data: 100%|██████████| 10000/10000 [3:13:07<00:00,  1.16s/it] \n"
     ]
    }
   ],
   "source": [
    "training_data = generate_stockfish_training_data(stockfish, max_moves_per_game=50)"
   ]
  },
  {
   "cell_type": "code",
   "execution_count": 90,
   "id": "0c8dfbf2-e5db-466a-8b91-d9784b3d7d20",
   "metadata": {},
   "outputs": [],
   "source": [
    "def save_training_data_pickle(training_data, file_path=\"training_data.pkl\"):\n",
    "    with open(file_path, \"wb\") as f:\n",
    "        pickle.dump(training_data, f)\n",
    "    print(f\"Training data saved to {file_path}\")\n",
    "\n",
    "def load_training_data_pickle(file_path=\"training_data.pkl\"):\n",
    "    with open(file_path, \"rb\") as f:\n",
    "        return pickle.load(f)"
   ]
  },
  {
   "cell_type": "code",
   "execution_count": 91,
   "id": "86101ddf-cb9d-411e-a5ae-29955992d4e3",
   "metadata": {},
   "outputs": [
    {
     "name": "stdout",
     "output_type": "stream",
     "text": [
      "Training data saved to training_data.pkl\n"
     ]
    }
   ],
   "source": [
    "save_training_data_pickle(training_data)"
   ]
  },
  {
   "cell_type": "code",
   "execution_count": 92,
   "id": "e2be1fbc-a463-47ca-97e2-889bac312b33",
   "metadata": {},
   "outputs": [],
   "source": [
    "loaded_data = load_training_data_pickle()"
   ]
  },
  {
   "cell_type": "code",
   "execution_count": 93,
   "id": "376d2f3b-054b-46c1-b0e4-862cd36e5521",
   "metadata": {},
   "outputs": [
    {
     "data": {
      "text/plain": [
       "(array([[[0, 0, 0, ..., 0, 0, 0],\n",
       "         [1, 1, 1, ..., 1, 1, 1],\n",
       "         [0, 0, 0, ..., 0, 0, 0],\n",
       "         ...,\n",
       "         [0, 0, 0, ..., 0, 0, 0],\n",
       "         [0, 0, 0, ..., 0, 0, 0],\n",
       "         [0, 0, 0, ..., 0, 0, 0]],\n",
       " \n",
       "        [[0, 0, 0, ..., 0, 0, 0],\n",
       "         [0, 0, 0, ..., 0, 0, 0],\n",
       "         [0, 0, 0, ..., 0, 0, 0],\n",
       "         ...,\n",
       "         [0, 0, 0, ..., 0, 0, 0],\n",
       "         [1, 1, 1, ..., 1, 1, 1],\n",
       "         [0, 0, 0, ..., 0, 0, 0]],\n",
       " \n",
       "        [[0, 1, 0, ..., 0, 1, 0],\n",
       "         [0, 0, 0, ..., 0, 0, 0],\n",
       "         [0, 0, 0, ..., 0, 0, 0],\n",
       "         ...,\n",
       "         [0, 0, 0, ..., 0, 0, 0],\n",
       "         [0, 0, 0, ..., 0, 0, 0],\n",
       "         [0, 0, 0, ..., 0, 0, 0]],\n",
       " \n",
       "        ...,\n",
       " \n",
       "        [[1, 1, 0, ..., 0, 0, 0],\n",
       "         [1, 1, 0, ..., 0, 0, 0],\n",
       "         [0, 0, 0, ..., 0, 0, 0],\n",
       "         ...,\n",
       "         [0, 0, 0, ..., 0, 0, 0],\n",
       "         [0, 0, 0, ..., 0, 0, 0],\n",
       "         [0, 0, 0, ..., 0, 0, 0]],\n",
       " \n",
       "        [[0, 0, 0, ..., 0, 0, 0],\n",
       "         [0, 0, 0, ..., 0, 0, 0],\n",
       "         [0, 0, 0, ..., 0, 0, 0],\n",
       "         ...,\n",
       "         [0, 0, 0, ..., 0, 0, 0],\n",
       "         [0, 0, 0, ..., 0, 0, 0],\n",
       "         [0, 0, 0, ..., 0, 0, 0]],\n",
       " \n",
       "        [[0, 0, 0, ..., 0, 0, 0],\n",
       "         [0, 0, 0, ..., 0, 0, 0],\n",
       "         [0, 0, 0, ..., 0, 0, 0],\n",
       "         ...,\n",
       "         [0, 0, 0, ..., 0, 0, 0],\n",
       "         [0, 0, 0, ..., 0, 0, 0],\n",
       "         [0, 0, 0, ..., 0, 0, 0]]], dtype=uint8),\n",
       " Move.from_uci('e2e4'))"
      ]
     },
     "execution_count": 93,
     "metadata": {},
     "output_type": "execute_result"
    }
   ],
   "source": [
    "loaded_data[0]"
   ]
  },
  {
   "cell_type": "code",
   "execution_count": null,
   "id": "33e60630-b22a-4421-be4c-8fe22832dd7c",
   "metadata": {},
   "outputs": [],
   "source": []
  }
 ],
 "metadata": {
  "kernelspec": {
   "display_name": "Python 3 (ipykernel)",
   "language": "python",
   "name": "python3"
  },
  "language_info": {
   "codemirror_mode": {
    "name": "ipython",
    "version": 3
   },
   "file_extension": ".py",
   "mimetype": "text/x-python",
   "name": "python",
   "nbconvert_exporter": "python",
   "pygments_lexer": "ipython3",
   "version": "3.11.9"
  }
 },
 "nbformat": 4,
 "nbformat_minor": 5
}
