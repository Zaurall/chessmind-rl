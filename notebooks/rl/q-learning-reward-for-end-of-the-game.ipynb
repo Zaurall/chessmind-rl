{
 "cells": [
  {
   "cell_type": "markdown",
   "metadata": {},
   "source": [
    "The idea of this notebook is to implement q-learning with the reward for the end of the game (big negative reward for losing and some positive reward for winning) and test it using StockFish."
   ]
  },
  {
   "cell_type": "code",
   "execution_count": 13,
   "metadata": {
    "_cell_guid": "b1076dfc-b9ad-4769-8c92-a6c4dae69d19",
    "_uuid": "8f2839f25d086af736a60e9eeb907d3b93b6e0e5",
    "execution": {
     "iopub.execute_input": "2024-11-21T17:20:14.008935Z",
     "iopub.status.busy": "2024-11-21T17:20:14.008578Z",
     "iopub.status.idle": "2024-11-21T17:20:29.820404Z",
     "shell.execute_reply": "2024-11-21T17:20:29.819279Z",
     "shell.execute_reply.started": "2024-11-21T17:20:14.008905Z"
    },
    "id": "mjOvmXyn3VWa",
    "outputId": "5787b38f-bc8c-455d-ba3c-65e57114f698",
    "trusted": true
   },
   "outputs": [
    {
     "name": "stdout",
     "output_type": "stream",
     "text": [
      "Requirement already satisfied: chess in /opt/conda/lib/python3.10/site-packages (1.11.1)\n",
      "Requirement already satisfied: stockfish in /opt/conda/lib/python3.10/site-packages (3.28.0)\n"
     ]
    }
   ],
   "source": [
    "!pip install chess\n",
    "!pip install stockfish"
   ]
  },
  {
   "cell_type": "markdown",
   "metadata": {},
   "source": [
    "Importing all the necessary libraries"
   ]
  },
  {
   "cell_type": "code",
   "execution_count": 14,
   "metadata": {
    "execution": {
     "iopub.execute_input": "2024-11-21T17:20:29.822855Z",
     "iopub.status.busy": "2024-11-21T17:20:29.822531Z",
     "iopub.status.idle": "2024-11-21T17:20:29.829478Z",
     "shell.execute_reply": "2024-11-21T17:20:29.828579Z",
     "shell.execute_reply.started": "2024-11-21T17:20:29.822825Z"
    },
    "id": "kYsHR5-y3VWb",
    "outputId": "c56f5e78-52e1-43bc-f115-c8399792fdab",
    "trusted": true
   },
   "outputs": [
    {
     "name": "stdout",
     "output_type": "stream",
     "text": [
      "cuda\n"
     ]
    }
   ],
   "source": [
    "import os\n",
    "import shutil\n",
    "import chess\n",
    "import chess.engine\n",
    "import pandas as pd\n",
    "import random\n",
    "import numpy as np\n",
    "import torch\n",
    "import torch.nn as nn\n",
    "import torch.nn.functional as F\n",
    "import matplotlib.pyplot as plt\n",
    "from torch.optim import Adam\n",
    "from stockfish import Stockfish\n",
    "from tqdm import tqdm\n",
    "\n",
    "device = torch.device('cuda' if torch.cuda.is_available() else 'cpu')\n",
    "print(device)"
   ]
  },
  {
   "cell_type": "markdown",
   "metadata": {},
   "source": [
    "We are using Kaggle to train the model, so here are just some paths in Kaggle"
   ]
  },
  {
   "cell_type": "code",
   "execution_count": 15,
   "metadata": {
    "execution": {
     "iopub.execute_input": "2024-11-21T17:20:29.830745Z",
     "iopub.status.busy": "2024-11-21T17:20:29.830488Z",
     "iopub.status.idle": "2024-11-21T17:20:30.194319Z",
     "shell.execute_reply": "2024-11-21T17:20:30.193620Z",
     "shell.execute_reply.started": "2024-11-21T17:20:29.830720Z"
    },
    "id": "AFipBS1d3VWc",
    "trusted": true
   },
   "outputs": [],
   "source": [
    "KAGGLE = True\n",
    "\n",
    "if KAGGLE:\n",
    "    input_stockfish_path = \"/kaggle/input/stockfish_ubuntu/other/default/1/stockfish-ubuntu-x86-64-avx2\"\n",
    "    stockfish_path = \"/kaggle/working/stockfish\"\n",
    "    if not os.path.exists(stockfish_path):\n",
    "        shutil.copy(input_stockfish_path, stockfish_path)\n",
    "    os.chmod(stockfish_path, 0o755)\n",
    "else:\n",
    "    stockfish_path = \"../../models/validation_stockfish/stockfish-windows-x86-64-avx2.exe\"\n",
    "\n",
    "stockfish = Stockfish(path=stockfish_path)\n",
    "stockfish.set_skill_level(20)"
   ]
  },
  {
   "cell_type": "markdown",
   "metadata": {},
   "source": [
    "Implementation of the Deep Q-Learning (DQN) class"
   ]
  },
  {
   "cell_type": "code",
   "execution_count": 16,
   "metadata": {
    "execution": {
     "iopub.execute_input": "2024-11-21T17:20:30.197279Z",
     "iopub.status.busy": "2024-11-21T17:20:30.196640Z",
     "iopub.status.idle": "2024-11-21T17:20:30.205014Z",
     "shell.execute_reply": "2024-11-21T17:20:30.204088Z",
     "shell.execute_reply.started": "2024-11-21T17:20:30.197236Z"
    },
    "id": "-qwUYqEw3VWc",
    "trusted": true
   },
   "outputs": [],
   "source": [
    "class MaskLayer(nn.Module):\n",
    "    def __init__(self):\n",
    "        super(MaskLayer, self).__init__()\n",
    "\n",
    "    def forward(self, x, mask):\n",
    "        return torch.mul(x, mask)\n",
    "\n",
    "class ChessDQN(nn.Module):\n",
    "    def __init__(self):\n",
    "        super(ChessDQN, self).__init__()\n",
    "\n",
    "        self.feature_extractor = nn.Sequential(\n",
    "            nn.Conv2d(16, 32, kernel_size=3, stride=1, padding=1),\n",
    "            nn.BatchNorm2d(32),\n",
    "            nn.ReLU(),\n",
    "            nn.Conv2d(32, 64, kernel_size=3, stride=1, padding=1),\n",
    "            nn.BatchNorm2d(64),\n",
    "            nn.ReLU(),\n",
    "            nn.Conv2d(64, 128, kernel_size=3, stride=1, padding=1),\n",
    "            nn.BatchNorm2d(128),\n",
    "            nn.ReLU()\n",
    "        )\n",
    "\n",
    "        self.fc_layers = nn.Sequential(\n",
    "            nn.Linear(128*64, 128*64),  # Flattened input size for the chessboard\n",
    "            nn.ReLU(),\n",
    "            nn.Linear(128*64, 64*64)  # Output layer matches 64x64 move possibilities\n",
    "        )\n",
    "\n",
    "        self.mask_layer = MaskLayer()\n",
    "\n",
    "    def forward(self, x, mask=None):\n",
    "        x = self.feature_extractor(x)\n",
    "        x = x.view(x.size(0), -1)\n",
    "        x = self.fc_layers(x)\n",
    "        if mask is not None:\n",
    "            x = self.mask_layer(x, mask)\n",
    "        return x"
   ]
  },
  {
   "cell_type": "markdown",
   "metadata": {},
   "source": [
    "Implementation of the agent with the main q_learning() function which starts the training process with the use of deep q-learning algorithm."
   ]
  },
  {
   "cell_type": "code",
   "execution_count": 17,
   "metadata": {
    "execution": {
     "iopub.execute_input": "2024-11-21T17:20:30.206735Z",
     "iopub.status.busy": "2024-11-21T17:20:30.206475Z",
     "iopub.status.idle": "2024-11-21T17:20:30.235559Z",
     "shell.execute_reply": "2024-11-21T17:20:30.234946Z",
     "shell.execute_reply.started": "2024-11-21T17:20:30.206711Z"
    },
    "id": "RIEyEHDo3VWd",
    "trusted": true
   },
   "outputs": [],
   "source": [
    "class ChessAgent:\n",
    "    def __init__(self, model_path=None):\n",
    "        self.epsilon = 0.9\n",
    "        self.epsilon_decay = 0.999\n",
    "        self.epsilon_min = 0.01\n",
    "        self.gamma = 0.5 # Balance between immediate and long-term rewards\n",
    "        self.learning_rate = 1e-03\n",
    "        self.MEMORY_SIZE = 512 # how many steps to store for experience replay\n",
    "        self.MAX_PRIORITY = 1e+06 # max priority for a sample in memory. The higher the priority, the more likely the sample will be included in training\n",
    "        self.memory = []\n",
    "        self.batch_size = 10\n",
    "\n",
    "        self.policy_net = ChessDQN().to(device)\n",
    "        if model_path and os.path.exists(model_path):\n",
    "            state_dict = torch.load(model_path, weights_only=True)\n",
    "            self.policy_net.load_state_dict(state_dict)\n",
    "\n",
    "        self.loss_function = nn.MSELoss()\n",
    "        self.optimizer = Adam(self.policy_net.parameters(), lr=self.learning_rate)\n",
    "\n",
    "    def convert_board_to_bitarray(self, board):\n",
    "        \"\"\"\n",
    "        Convert the chess board state to a 3D bitarray.\n",
    "        \"\"\"\n",
    "        piece_bitboards = {\n",
    "            (chess.piece_symbol(pt).upper() if color else chess.piece_symbol(pt)): board.pieces_mask(pt, color)\n",
    "            for pt in chess.PIECE_TYPES for color in chess.COLORS\n",
    "        }\n",
    "        piece_bitboards['-'] = board.occupied ^ (2**64 - 1)\n",
    "        player = (2**64 - 1) if board.turn else 0\n",
    "        castling_rights = board.castling_rights\n",
    "        en_passant = 0\n",
    "        if board.ep_square is not None:\n",
    "            en_passant = 1 << board.ep_square\n",
    "\n",
    "        bitboards = list(piece_bitboards.values()) + [player, castling_rights, en_passant]\n",
    "        # convert each bitboard into a matrix 1 and 0\n",
    "        bitarray = np.array([[((bb >> i) & 1) for i in range(64)] for bb in bitboards]).reshape((16, 8, 8))\n",
    "\n",
    "        return bitarray\n",
    "\n",
    "    def get_move_index(self, move):\n",
    "        \"\"\"\n",
    "        Map a chess.Move object to a unique index.\n",
    "        \"\"\"\n",
    "        return 64 * (move.from_square) + (move.to_square)\n",
    "\n",
    "    def mask_valid_moves(self, board):\n",
    "        \"\"\"\n",
    "        Create a tensor mask of valid moves and a dictionary of move indices.\n",
    "        \"\"\"\n",
    "        mask = np.zeros((64, 64))\n",
    "        move_dict  = {}\n",
    "        for move in board.legal_moves:\n",
    "            mask[move.from_square, move.to_square] = 1\n",
    "            move_dict[self.get_move_index(move)] = move\n",
    "        return torch.from_numpy(mask.flatten()), move_dict\n",
    "\n",
    "    def select_action(self, board):\n",
    "        \"\"\"\n",
    "        Choose an action based on the current board state.\n",
    "        Use an epsilon-greedy strategy.\n",
    "        \"\"\"\n",
    "        bit_state = self.convert_board_to_bitarray(board)\n",
    "        valid_moves_tensor, legal_moves = self.mask_valid_moves(board)\n",
    "\n",
    "        if np.random.rand() < self.epsilon:\n",
    "            chosen_move = random.choice(list(board.legal_moves))\n",
    "        else:\n",
    "            state_tensor = torch.tensor(np.array(bit_state), dtype=torch.float32).unsqueeze(0).to(device)\n",
    "            q_values = self.policy_net(state_tensor)\n",
    "            q_values = q_values.detach().cpu().numpy().flatten()\n",
    "            valid_q_values = q_values * valid_moves_tensor.numpy()\n",
    "            best_action_index = np.argmax(valid_q_values)\n",
    "            chosen_move = legal_moves.get(best_action_index, random.choice(list(board.legal_moves)))\n",
    "\n",
    "        return self.get_move_index(chosen_move), chosen_move, bit_state, valid_moves_tensor\n",
    "\n",
    "    def remember(self, priority, state, action, reward, next_state, done, valid_moves, next_valid_moves):\n",
    "        \"\"\"\n",
    "        Store a step in memory, ensuring it doesn't exceed maximum size.\n",
    "        \"\"\"\n",
    "        if len(self.memory) >= self.MEMORY_SIZE:\n",
    "            min_index = np.argmin([sample[0] for sample in self.memory])\n",
    "            del self.memory[min_index]\n",
    "        self.memory.append((priority, state, action, reward, next_state, done, valid_moves, next_valid_moves))\n",
    "\n",
    "    def adaptive_epsilon_decay(self):\n",
    "        \"\"\"\n",
    "        Reduce epsilon over time for less exploration.\n",
    "        \"\"\"\n",
    "        self.epsilon = max(self.epsilon * self.epsilon_decay, self.epsilon_min)\n",
    "\n",
    "    def save_model(self, path):\n",
    "        \"\"\"\n",
    "        Save the model weights to a file.\n",
    "        \"\"\"\n",
    "        torch.save(self.policy_net.state_dict(), path)\n",
    "\n",
    "\n",
    "    def experience_replay(self):\n",
    "        \"\"\"\n",
    "        Perform experience replay to update the model's policy network using a prioritized replay buffer.\n",
    "        \"\"\"\n",
    "        if len(self.memory) < self.batch_size:\n",
    "            return\n",
    "\n",
    "        priorities = np.array([sample[0] for sample in self.memory])\n",
    "        probabilities = priorities / np.sum(priorities)\n",
    "\n",
    "        minibatch_indexes = np.random.choice(len(self.memory), size=self.batch_size, replace=False, p=probabilities)\n",
    "        minibatch = [self.memory[x] for x in minibatch_indexes]\n",
    "\n",
    "        states, state_valid_moves, actions, rewards, next_states, next_state_valid_moves, dones = [], [], [], [], [], [], []\n",
    "\n",
    "        for priority, bit_state, action, reward, next_bit_state, done, state_valid_move, next_state_valid_move in minibatch:\n",
    "            states.append(bit_state)\n",
    "            state_valid_moves.append(state_valid_move.unsqueeze(0))\n",
    "            actions.append([action])\n",
    "            rewards.append(reward)\n",
    "            dones.append(done)\n",
    "\n",
    "            if not done:\n",
    "                next_states.append(next_bit_state)\n",
    "                next_state_valid_moves.append(next_state_valid_move.unsqueeze(0))\n",
    "\n",
    "        state_tensor = torch.tensor(np.array(states), dtype=torch.float32, device=device)\n",
    "        action_tensor = torch.tensor(np.array(actions), dtype=torch.int64, device=device)\n",
    "        reward_tensor = torch.tensor(np.array(rewards), dtype=torch.float32, device=device)\n",
    "        next_state_tensor = torch.tensor(np.array(next_states), dtype=torch.float32, device=device)\n",
    "        not_done_mask = torch.tensor(np.array([not done for done in dones]), dtype=torch.bool, device=device)\n",
    "        state_valid_tensor = torch.cat(state_valid_moves).to(device)\n",
    "        next_state_valid_tensor = torch.cat(next_state_valid_moves).to(device)\n",
    "\n",
    "        policy_q_values = self.policy_net(state_tensor, state_valid_tensor).gather(1, action_tensor)\n",
    "        with torch.no_grad():\n",
    "            next_q_values = torch.zeros(self.batch_size, dtype=torch.double, device=device)\n",
    "            next_q_values[not_done_mask] = self.policy_net(next_state_tensor, next_state_valid_tensor).max(1)[0]\n",
    "\n",
    "        target_q_values = reward_tensor + self.gamma * next_q_values\n",
    "        target_q_values = target_q_values.unsqueeze(1)\n",
    "\n",
    "        loss = self.loss_function(policy_q_values, target_q_values)\n",
    "        self.optimizer.zero_grad()\n",
    "        loss.backward()\n",
    "        self.optimizer.step()\n",
    "\n",
    "        priority = F.mse_loss(policy_q_values, target_q_values, reduction='mean').detach().cpu().numpy()\n",
    "        for idx, new_priority in zip(minibatch_indexes, priorities):\n",
    "            self.memory[idx] = (new_priority, *self.memory[idx][1:])\n",
    "\n",
    "        return float(loss)\n",
    "\n",
    "    def generate_random_sample(self, board):\n",
    "        \"\"\"\n",
    "        Generate a random sample for training by simulating a move.\n",
    "        \"\"\"\n",
    "        if not board.legal_moves:\n",
    "            return\n",
    "\n",
    "        priority = 1\n",
    "        state = self.convert_board_to_bitarray(board)\n",
    "        valid_moves, _ = self.mask_valid_moves(board)\n",
    "\n",
    "        random_move = random.choice(list(board.legal_moves))\n",
    "        action = self.get_move_index(random_move)\n",
    "        board.push(random_move)\n",
    "\n",
    "        if board.is_game_over() or not list(board.legal_moves):\n",
    "            reward = 10.0 if board.is_checkmate() else 3.0  # Final reward logic\n",
    "            done = True\n",
    "            next_state = self.convert_board_to_bitarray(board)\n",
    "            next_valid_moves = torch.zeros_like(valid_moves)  # No valid moves\n",
    "        else:\n",
    "            random_move_black = random.choice(list(board.legal_moves))\n",
    "            board.push(random_move_black)\n",
    "            next_state = self.convert_board_to_bitarray(board)\n",
    "            done = board.is_game_over()\n",
    "            next_valid_moves, _ = self.mask_valid_moves(board)\n",
    "            board.pop()\n",
    "\n",
    "            if board.is_checkmate():\n",
    "                reward = -10.0  # Loss for the agent\n",
    "            elif board.is_stalemate() or board.is_insufficient_material():\n",
    "                reward = 3.0  # Draw\n",
    "            else:\n",
    "                reward = 0.2  # Intermediate move\n",
    "\n",
    "        board.pop()\n",
    "        self.remember(priority, state, action, reward, next_state, done, valid_moves, next_valid_moves)\n",
    "\n",
    "    def game_result(self, board):\n",
    "        \"\"\"\n",
    "        Determine the game result.\n",
    "        \"\"\"\n",
    "        if board.is_checkmate():\n",
    "            return 1 # Win\n",
    "        elif board.is_stalemate() or board.is_insufficient_material():\n",
    "            return 0 # Draw\n",
    "        else:\n",
    "            return -1 # Loss\n",
    "\n",
    "    def play_single_game(self, board, max_moves):\n",
    "        \"\"\"\n",
    "        Simulate a single game for training.\n",
    "        \"\"\"\n",
    "        done, game_moves, game_loss = False, 0, []\n",
    "\n",
    "        while not done and game_moves < max_moves:\n",
    "            action_index, chosen_move, bit_state, valid_moves_tensor = self.select_action(board)\n",
    "            board.push(chosen_move)\n",
    "            self.generate_random_sample(board)\n",
    "            loss_value = self.experience_replay()\n",
    "            if loss_value is not None:\n",
    "                game_loss.append(loss_value)\n",
    "            done = board.is_game_over()\n",
    "            game_moves += 1\n",
    "\n",
    "        return sum(game_loss) / len(game_loss) if game_loss else 0.0, self.game_result(board)\n",
    "\n",
    "    def q_learning(self, games_to_play, max_game_moves, board_config=None):\n",
    "        \"\"\"\n",
    "        Train the agent using Q-learning.\n",
    "        \"\"\"\n",
    "        loss, final_score, steps = [], [], 0\n",
    "\n",
    "        for _ in tqdm(range(games_to_play), desc=\"Training Games\"):\n",
    "            board = chess.Board() if board_config is None else chess.Board(board_config)\n",
    "            game_loss, result = self.play_single_game(board, max_game_moves)\n",
    "            loss.append(game_loss)\n",
    "            final_score.append(result)\n",
    "            self.adaptive_epsilon_decay()\n",
    "\n",
    "        return pd.DataFrame({\"Loss\": loss, \"Score\": final_score})"
   ]
  },
  {
   "cell_type": "markdown",
   "metadata": {},
   "source": [
    "Testing how the agent class works on 10 random board samples."
   ]
  },
  {
   "cell_type": "code",
   "execution_count": 18,
   "metadata": {
    "execution": {
     "iopub.execute_input": "2024-11-21T17:20:30.236821Z",
     "iopub.status.busy": "2024-11-21T17:20:30.236524Z",
     "iopub.status.idle": "2024-11-21T17:20:31.841349Z",
     "shell.execute_reply": "2024-11-21T17:20:31.840449Z",
     "shell.execute_reply.started": "2024-11-21T17:20:30.236796Z"
    },
    "id": "mx3Tv3-d3VWd",
    "outputId": "23d7d1d5-1fa9-4200-beae-4f339504ee4c",
    "trusted": true
   },
   "outputs": [
    {
     "data": {
      "image/png": "[encoded data removed]",
      "text/plain": [
       "<Figure size 640x480 with 1 Axes>"
      ]
     },
     "metadata": {},
     "output_type": "display_data"
    }
   ],
   "source": [
    "board = chess.Board()\n",
    "agent = ChessAgent()\n",
    "\n",
    "for i in range(10):\n",
    "    agent.generate_random_sample(board)\n",
    "\n",
    "loss = []\n",
    "for i in range(10):\n",
    "    loss.append(agent.experience_replay())\n",
    "\n",
    "plt.plot(loss)\n",
    "plt.show()"
   ]
  },
  {
   "cell_type": "markdown",
   "metadata": {},
   "source": [
    "Loss is dropping significantly, let's train an agent on the bigger number of games:\n",
    "1000 epochs with the batch size of 10 games."
   ]
  },
  {
   "cell_type": "code",
   "execution_count": 19,
   "metadata": {
    "execution": {
     "iopub.execute_input": "2024-11-21T17:20:31.842706Z",
     "iopub.status.busy": "2024-11-21T17:20:31.842415Z",
     "iopub.status.idle": "2024-11-21T17:56:57.765377Z",
     "shell.execute_reply": "2024-11-21T17:56:57.764484Z",
     "shell.execute_reply.started": "2024-11-21T17:20:31.842678Z"
    },
    "id": "OESca2YK3VWe",
    "outputId": "6f5f9c98-4515-4355-cb59-f1c6e8c71f1c",
    "trusted": true
   },
   "outputs": [
    {
     "name": "stderr",
     "output_type": "stream",
     "text": [
      "Training Games: 100%|██████████| 1000/1000 [36:25<00:00,  2.19s/it]\n"
     ]
    }
   ],
   "source": [
    "df = agent.q_learning(games_to_play=1000, max_game_moves=50)"
   ]
  },
  {
   "cell_type": "code",
   "execution_count": 20,
   "metadata": {
    "execution": {
     "iopub.execute_input": "2024-11-21T17:56:57.768106Z",
     "iopub.status.busy": "2024-11-21T17:56:57.767496Z",
     "iopub.status.idle": "2024-11-21T17:56:57.778676Z",
     "shell.execute_reply": "2024-11-21T17:56:57.777673Z",
     "shell.execute_reply.started": "2024-11-21T17:56:57.768076Z"
    },
    "id": "OESca2YK3VWe",
    "outputId": "6f5f9c98-4515-4355-cb59-f1c6e8c71f1c",
    "trusted": true
   },
   "outputs": [
    {
     "data": {
      "text/html": [
       "<div>\n",
       "<style scoped>\n",
       "    .dataframe tbody tr th:only-of-type {\n",
       "        vertical-align: middle;\n",
       "    }\n",
       "\n",
       "    .dataframe tbody tr th {\n",
       "        vertical-align: top;\n",
       "    }\n",
       "\n",
       "    .dataframe thead th {\n",
       "        text-align: right;\n",
       "    }\n",
       "</style>\n",
       "<table border=\"1\" class=\"dataframe\">\n",
       "  <thead>\n",
       "    <tr style=\"text-align: right;\">\n",
       "      <th></th>\n",
       "      <th>Loss</th>\n",
       "      <th>Score</th>\n",
       "    </tr>\n",
       "  </thead>\n",
       "  <tbody>\n",
       "    <tr>\n",
       "      <th>7</th>\n",
       "      <td>0.020946</td>\n",
       "      <td>1</td>\n",
       "    </tr>\n",
       "    <tr>\n",
       "      <th>28</th>\n",
       "      <td>0.011023</td>\n",
       "      <td>1</td>\n",
       "    </tr>\n",
       "    <tr>\n",
       "      <th>53</th>\n",
       "      <td>0.007552</td>\n",
       "      <td>1</td>\n",
       "    </tr>\n",
       "    <tr>\n",
       "      <th>139</th>\n",
       "      <td>0.003787</td>\n",
       "      <td>1</td>\n",
       "    </tr>\n",
       "    <tr>\n",
       "      <th>145</th>\n",
       "      <td>0.002382</td>\n",
       "      <td>1</td>\n",
       "    </tr>\n",
       "    <tr>\n",
       "      <th>319</th>\n",
       "      <td>0.009095</td>\n",
       "      <td>1</td>\n",
       "    </tr>\n",
       "    <tr>\n",
       "      <th>496</th>\n",
       "      <td>0.000868</td>\n",
       "      <td>1</td>\n",
       "    </tr>\n",
       "    <tr>\n",
       "      <th>501</th>\n",
       "      <td>0.002806</td>\n",
       "      <td>1</td>\n",
       "    </tr>\n",
       "    <tr>\n",
       "      <th>678</th>\n",
       "      <td>0.000696</td>\n",
       "      <td>1</td>\n",
       "    </tr>\n",
       "    <tr>\n",
       "      <th>685</th>\n",
       "      <td>0.001676</td>\n",
       "      <td>1</td>\n",
       "    </tr>\n",
       "    <tr>\n",
       "      <th>739</th>\n",
       "      <td>0.003097</td>\n",
       "      <td>1</td>\n",
       "    </tr>\n",
       "    <tr>\n",
       "      <th>785</th>\n",
       "      <td>0.001857</td>\n",
       "      <td>1</td>\n",
       "    </tr>\n",
       "    <tr>\n",
       "      <th>811</th>\n",
       "      <td>0.003204</td>\n",
       "      <td>1</td>\n",
       "    </tr>\n",
       "    <tr>\n",
       "      <th>848</th>\n",
       "      <td>0.000623</td>\n",
       "      <td>1</td>\n",
       "    </tr>\n",
       "    <tr>\n",
       "      <th>886</th>\n",
       "      <td>0.000615</td>\n",
       "      <td>1</td>\n",
       "    </tr>\n",
       "    <tr>\n",
       "      <th>975</th>\n",
       "      <td>0.000366</td>\n",
       "      <td>1</td>\n",
       "    </tr>\n",
       "    <tr>\n",
       "      <th>984</th>\n",
       "      <td>0.000225</td>\n",
       "      <td>1</td>\n",
       "    </tr>\n",
       "    <tr>\n",
       "      <th>989</th>\n",
       "      <td>0.000238</td>\n",
       "      <td>1</td>\n",
       "    </tr>\n",
       "  </tbody>\n",
       "</table>\n",
       "</div>"
      ],
      "text/plain": [
       "         Loss  Score\n",
       "7    0.020946      1\n",
       "28   0.011023      1\n",
       "53   0.007552      1\n",
       "139  0.003787      1\n",
       "145  0.002382      1\n",
       "319  0.009095      1\n",
       "496  0.000868      1\n",
       "501  0.002806      1\n",
       "678  0.000696      1\n",
       "685  0.001676      1\n",
       "739  0.003097      1\n",
       "785  0.001857      1\n",
       "811  0.003204      1\n",
       "848  0.000623      1\n",
       "886  0.000615      1\n",
       "975  0.000366      1\n",
       "984  0.000225      1\n",
       "989  0.000238      1"
      ]
     },
     "execution_count": 20,
     "metadata": {},
     "output_type": "execute_result"
    }
   ],
   "source": [
    "non_zero_rows = df[df['Score'] != -1]\n",
    "non_zero_rows"
   ]
  },
  {
   "cell_type": "markdown",
   "metadata": {},
   "source": [
    "So, we see that loss became smaller than it was initially, but the agent won only a few games against randomly-acting opponent.\n",
    "Now, let's test our agent on different StockFish levels."
   ]
  },
  {
   "cell_type": "code",
   "execution_count": 25,
   "metadata": {
    "execution": {
     "iopub.execute_input": "2024-11-21T18:06:18.230021Z",
     "iopub.status.busy": "2024-11-21T18:06:18.229554Z",
     "iopub.status.idle": "2024-11-21T18:06:18.234058Z",
     "shell.execute_reply": "2024-11-21T18:06:18.233137Z",
     "shell.execute_reply.started": "2024-11-21T18:06:18.229988Z"
    },
    "trusted": true
   },
   "outputs": [],
   "source": [
    "test_agent = agent"
   ]
  },
  {
   "cell_type": "code",
   "execution_count": 26,
   "metadata": {
    "execution": {
     "iopub.execute_input": "2024-11-21T18:06:21.011134Z",
     "iopub.status.busy": "2024-11-21T18:06:21.010830Z",
     "iopub.status.idle": "2024-11-21T18:10:31.516453Z",
     "shell.execute_reply": "2024-11-21T18:10:31.515514Z",
     "shell.execute_reply.started": "2024-11-21T18:06:21.011109Z"
    },
    "id": "3XK_mOPi3VWg",
    "outputId": "c754f465-ca09-4d1c-a074-a26538287306",
    "trusted": true
   },
   "outputs": [
    {
     "name": "stdout",
     "output_type": "stream",
     "text": [
      "Stockfish level: 1: {'Wins': 0, 'Losses': 13, 'Draws': 7, 'Win Rate': 0.175, 'Stockfish Level': 1}\n",
      "Stockfish level: 5: {'Wins': 0, 'Losses': 12, 'Draws': 8, 'Win Rate': 0.2, 'Stockfish Level': 5}\n",
      "Stockfish level: 10: {'Wins': 0, 'Losses': 15, 'Draws': 5, 'Win Rate': 0.125, 'Stockfish Level': 10}\n",
      "Stockfish level: 15: {'Wins': 0, 'Losses': 18, 'Draws': 2, 'Win Rate': 0.05, 'Stockfish Level': 15}\n"
     ]
    }
   ],
   "source": [
    "def configure_stockfish_using_skill_level(skill_level):\n",
    "    stockfish = Stockfish(path=stockfish_path)\n",
    "    stockfish.set_skill_level(skill_level)\n",
    "    return stockfish\n",
    "\n",
    "def configure_stockfish_using_rating(elo_rating):\n",
    "    stockfish = Stockfish(path=stockfish_path)\n",
    "    stockfish.set_elo_rating(elo_rating)\n",
    "    return stockfish\n",
    "\n",
    "def play_single_stockfish_game(agent, stockfish, max_moves=50):\n",
    "    board = chess.Board()\n",
    "    stockfish.set_fen_position(board.fen())\n",
    "\n",
    "    for move_count in range(max_moves):\n",
    "        if board.turn:\n",
    "            _, move, _, _ = agent.select_action(board)\n",
    "        else:\n",
    "            move = chess.Move.from_uci(stockfish.get_best_move())\n",
    "        board.push(move)\n",
    "        stockfish.set_fen_position(board.fen())\n",
    "\n",
    "        if board.is_game_over():\n",
    "            break\n",
    "\n",
    "    return board.result()\n",
    "\n",
    "def evaluate_agent(agent, skill_levels, games_per_rating=20):\n",
    "    results = []\n",
    "\n",
    "    for level in skill_levels:\n",
    "        stockfish = configure_stockfish_using_skill_level(level)\n",
    "        outcomes = {\"Wins\": 0, \"Losses\": 0, \"Draws\": 0}\n",
    "\n",
    "        for _ in range(games_per_rating):\n",
    "            result = play_single_stockfish_game(agent, stockfish)\n",
    "            if result == \"1-0\":\n",
    "                outcomes[\"Wins\"] += 1\n",
    "            elif result == \"0-1\":\n",
    "                outcomes[\"Losses\"] += 1\n",
    "            else:\n",
    "                outcomes[\"Draws\"] += 1\n",
    "\n",
    "        win_rate = (outcomes[\"Wins\"] + 0.5 * outcomes[\"Draws\"]) / games_per_rating\n",
    "        outcomes[\"Win Rate\"] = win_rate\n",
    "        outcomes[\"Stockfish Level\"] = level\n",
    "        results.append(outcomes)\n",
    "\n",
    "        print(f\"Stockfish level: {level}: {outcomes}\")\n",
    "\n",
    "    return results\n",
    "\n",
    "stockfish_skill_levels = [1, 5, 10, 15]\n",
    "results = evaluate_agent(test_agent, stockfish_skill_levels)"
   ]
  },
  {
   "cell_type": "markdown",
   "metadata": {},
   "source": [
    "Unfortunately, agent performance is very low now.\n",
    "It could be because of the overfitting, but as we can see from the epochs on which it was winning, it is not the case. I guess that it is just not a good algorithm to use for chess\n",
    "(We tried other parameters and different combinations of layers in this notebook, but the results were almost the same)"
   ]
  }
 ],
 "metadata": {
  "colab": {
   "name": "Q-learning-mate-reward",
   "provenance": []
  },
  "kaggle": {
   "accelerator": "gpu",
   "dataSources": [
    {
     "isSourceIdPinned": true,
     "modelId": 168146,
     "modelInstanceId": 145576,
     "sourceId": 171063,
     "sourceType": "modelInstanceVersion"
    }
   ],
   "dockerImageVersionId": 30787,
   "isGpuEnabled": true,
   "isInternetEnabled": true,
   "language": "python",
   "sourceType": "notebook"
  },
  "kernelspec": {
   "display_name": "Python 3",
   "language": "python",
   "name": "python3"
  },
  "language_info": {
   "codemirror_mode": {
    "name": "ipython",
    "version": 3
   },
   "file_extension": ".py",
   "mimetype": "text/x-python",
   "name": "python",
   "nbconvert_exporter": "python",
   "pygments_lexer": "ipython3",
   "version": "3.10.14"
  }
 },
 "nbformat": 4,
 "nbformat_minor": 4
}
