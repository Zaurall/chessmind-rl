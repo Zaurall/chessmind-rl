{
 "cells": [
  {
   "cell_type": "code",
   "execution_count": 4,
   "id": "initial_id",
   "metadata": {
    "collapsed": true,
    "ExecuteTime": {
     "end_time": "2024-11-27T02:20:28.098042200Z",
     "start_time": "2024-11-27T02:20:26.099870300Z"
    }
   },
   "outputs": [],
   "source": [
    "import os\n",
    "import chess.pgn\n",
    "import encoder\n",
    "import torch\n",
    "import torch.nn as nn\n",
    "import torch.optim as optim\n",
    "from torch.utils.data import Dataset, DataLoader\n",
    "\n",
    "device = torch.device('cuda' if torch.cuda.is_available() else 'cpu')"
   ]
  },
  {
   "cell_type": "code",
   "outputs": [],
   "source": [
    "def reformat_games(file_names, new_dir):\n",
    "    \"\"\"Reformats PGN games and saves them to a new directory with unique filenames.\"\"\"\n",
    "    file_name_idx = 0\n",
    "\n",
    "    for file_name in file_names:\n",
    "        with open(file_name, 'r') as pgn_fh:\n",
    "            while True:\n",
    "                game = chess.pgn.read_game(pgn_fh)\n",
    "                if not game:\n",
    "                    break\n",
    "                new_file_name = os.path.join(new_dir, f'game_{file_name_idx}.pgn')\n",
    "                with open(new_file_name, 'w') as new_file:\n",
    "                    print(game, file=new_file, end='\\n\\n')\n",
    "                file_name_idx += 1\n",
    "                if file_name_idx % 1000 == 0:\n",
    "                    print(f'Processed {file_name_idx} games so far...')\n",
    "\n",
    "\n",
    "original_dir = '../../data/2_5_million_chess_games/original/train'\n",
    "file_names = os.listdir(original_dir)\n",
    "for i in range(len(file_names)):\n",
    "    file_names[i] = os.path.join(original_dir, file_names[i])\n",
    "reformat_dir = '../../data/2_5_million_chess_games/reformated/train'"
   ],
   "metadata": {
    "collapsed": false,
    "ExecuteTime": {
     "end_time": "2024-11-27T02:22:17.246337600Z",
     "start_time": "2024-11-27T02:22:17.223333700Z"
    }
   },
   "id": "d4627e515127bfa5",
   "execution_count": 16
  },
  {
   "cell_type": "code",
   "outputs": [],
   "source": [
    "reformat_games(file_names, reformat_dir)"
   ],
   "metadata": {
    "collapsed": false,
    "ExecuteTime": {
     "end_time": "2024-11-27T02:22:23.555943300Z",
     "start_time": "2024-11-27T02:22:23.541942800Z"
    }
   },
   "id": "31085f9ff1e633ee",
   "execution_count": 18
  },
  {
   "cell_type": "code",
   "outputs": [],
   "source": [
    "class ConvBlock(nn.Module):\n",
    "    def __init__(self, input_channels, num_filters):\n",
    "        super().__init__()\n",
    "        self.conv1 = nn.Conv2d(in_channels=input_channels, out_channels=num_filters, kernel_size=3, padding=1)\n",
    "        self.bn1 = nn.BatchNorm2d(num_features=num_filters)\n",
    "        self.relu1 = nn.ReLU()\n",
    "\n",
    "    def __call__(self, x):\n",
    "        return self.relu1(self.bn1(self.conv1(x)))"
   ],
   "metadata": {
    "collapsed": false,
    "ExecuteTime": {
     "end_time": "2024-11-27T02:22:28.081060700Z",
     "start_time": "2024-11-27T02:22:28.065600500Z"
    }
   },
   "id": "4bd9f01164454d7f",
   "execution_count": 19
  },
  {
   "cell_type": "code",
   "outputs": [],
   "source": [
    "class ResidualBlock(nn.Module):\n",
    "    def __init__(self, num_filters):\n",
    "        super().__init__()\n",
    "        self.conv1 = nn.Conv2d(in_channels=num_filters, out_channels=num_filters, kernel_size=3, padding=1)\n",
    "        self.bn1 = nn.BatchNorm2d(num_features=num_filters)\n",
    "        self.relu1 = nn.ReLU()\n",
    "        self.conv2 = nn.Conv2d(in_channels=num_filters, out_channels=num_filters, kernel_size=3, padding=1)\n",
    "        self.bn2 = nn.BatchNorm2d(num_features=num_filters)\n",
    "        self.relu2 = nn.ReLU()\n",
    "\n",
    "    def __call__(self, x):\n",
    "        residual = x\n",
    "        temp = self.relu1(self.bn1(self.conv1(x)))\n",
    "        output = self.relu2(self.bn2(self.conv2(temp)) + residual)\n",
    "        return output\n"
   ],
   "metadata": {
    "collapsed": false,
    "ExecuteTime": {
     "end_time": "2024-11-27T02:22:29.255561100Z",
     "start_time": "2024-11-27T02:22:29.241660300Z"
    }
   },
   "id": "9262a1eae4488ff7",
   "execution_count": 20
  },
  {
   "cell_type": "code",
   "outputs": [],
   "source": [
    "class ValueHead(nn.Module):\n",
    "    def __init__(self, input_channels):\n",
    "        super().__init__()\n",
    "        self.conv1 = nn.Conv2d(in_channels=input_channels, out_channels=1, kernel_size=1)\n",
    "        self.bn1 = nn.BatchNorm2d(num_features=1)\n",
    "        self.relu1 = nn.ReLU()\n",
    "        self.fc1 = nn.Linear(64, 256)\n",
    "        self.relu2 = nn.ReLU()\n",
    "        self.fc2 = nn.Linear(256, 1)\n",
    "        self.tanh1 = nn.Tanh()\n",
    "\n",
    "    def __call__(self, x):\n",
    "        temp1 = self.relu1(self.bn1(self.conv1(x)))\n",
    "        view = temp1.view(temp1.shape[0], 64)\n",
    "        temp2 = self.tanh1(self.fc2(self.relu2(self.fc1(view))))\n",
    "        return temp2\n"
   ],
   "metadata": {
    "collapsed": false,
    "ExecuteTime": {
     "end_time": "2024-11-27T02:22:29.480437300Z",
     "start_time": "2024-11-27T02:22:29.469426100Z"
    }
   },
   "id": "93a820331a28195e",
   "execution_count": 21
  },
  {
   "cell_type": "code",
   "outputs": [],
   "source": [
    "class PolicyHead(nn.Module):\n",
    "    def __init__(self, input_channels):\n",
    "        super().__init__()\n",
    "        self.conv1 = nn.Conv2d(in_channels=input_channels, out_channels=2, kernel_size=1)\n",
    "        self.bn1 = nn.BatchNorm2d(num_features=2)\n",
    "        self.relu1 = nn.ReLU()\n",
    "        self.fc1 = nn.Linear(128, 4608)\n",
    "\n",
    "    def __call__(self, x):\n",
    "        temp = self.relu1(self.bn1(self.conv1(x)))\n",
    "        view = temp.view(temp.shape[0], 128)\n",
    "        temp = self.fc1(view)\n",
    "        return temp"
   ],
   "metadata": {
    "collapsed": false,
    "ExecuteTime": {
     "end_time": "2024-11-27T02:22:29.740411900Z",
     "start_time": "2024-11-27T02:22:29.727377300Z"
    }
   },
   "id": "44e14967d907a3b0",
   "execution_count": 22
  },
  {
   "cell_type": "code",
   "outputs": [],
   "source": [
    "class AlphaZero(nn.Module):\n",
    "    def __init__(self, num_blocks, num_filters):\n",
    "        super().__init__()\n",
    "        self.convBlock1 = ConvBlock(16, num_filters)\n",
    "        residual_blocks = []\n",
    "        for i in range(num_blocks):\n",
    "            residual_blocks.append(ResidualBlock(num_filters))\n",
    "        self.residualBlocks = nn.ModuleList(residual_blocks)\n",
    "        self.valueHead = ValueHead(num_filters)\n",
    "        self.policyHead = PolicyHead(num_filters)\n",
    "        self.softmax1 = nn.Softmax(dim=1)\n",
    "        self.mseLoss = nn.MSELoss()\n",
    "        self.crossEntropyLoss = nn.CrossEntropyLoss()\n",
    "\n",
    "    def __call__(self, x, value_target=None, policy_target=None, policy_mask=None):\n",
    "        x = self.convBlock1(x)\n",
    "        for block in self.residualBlocks:\n",
    "            x = block(x)\n",
    "        value, policy = self.valueHead(x), self.policyHead(x)\n",
    "\n",
    "        if self.training:\n",
    "            value_loss = self.mseLoss(value, value_target)\n",
    "            policy_target = policy_target.view(policy_target.shape[0])\n",
    "            policy_loss = self.cross_entropy_loss(policy, policy_target)\n",
    "            return value_loss, policy_loss\n",
    "        else:\n",
    "            policy_mask = policy_mask.view(policy_mask.shape[0], -1)\n",
    "            policy_exp = torch.exp(policy)\n",
    "            policy_exp *= policy_mask.type(torch.float32)\n",
    "            policy_exp_sum = torch.sum(policy_exp, dim=1, keepdim=True)\n",
    "            policy_softmax = policy_exp / policy_exp_sum\n",
    "            return value, policy_softmax\n"
   ],
   "metadata": {
    "collapsed": false,
    "ExecuteTime": {
     "end_time": "2024-11-27T02:22:30.066531Z",
     "start_time": "2024-11-27T02:22:30.048998800Z"
    }
   },
   "id": "9f940e7603827114",
   "execution_count": 23
  },
  {
   "cell_type": "code",
   "outputs": [],
   "source": [
    "class AlphaZeroDataset(Dataset):\n",
    "    def __init__(self, dataset_path):\n",
    "        self.dataset_path = dataset_path\n",
    "        self.pgn_files = os.listdir(dataset_path)\n",
    "\n",
    "    def __len__(self):\n",
    "        return len(self.pgn_files)\n",
    "\n",
    "    def __getitem__(self, i):\n",
    "        pgn_file_path = os.path.join(self.dataset_path, self.pgn_files[i])\n",
    "        with open(pgn_file_path) as pgn_file:\n",
    "            game = chess.pgn.read_game(pgn_file)\n",
    "\n",
    "        move_sequence = list(game.mainline_moves())\n",
    "        random_move_index = np.random.randint(0, len(move_sequence) - 1)\n",
    "\n",
    "        board = game.board()\n",
    "        for i, move in enumerate(move_sequence):\n",
    "            board.push(move)\n",
    "            if random_move_index == i:\n",
    "                next_move = move_sequence[i + 1]\n",
    "                break\n",
    "\n",
    "        winner = encoder.game_result(game.headers['Result'])\n",
    "        position, policy_target, value_target, mask = encoder.encode_training_point(board, next_move, winner)\n",
    "\n",
    "        return {\n",
    "            'position': torch.from_numpy(position),\n",
    "            'policy': torch.Tensor([policy_target]).type(dtype=torch.long),\n",
    "            'value': torch.Tensor([value_target], dtype=torch.float32),\n",
    "            'mask': torch.from_numpy(mask)\n",
    "        }\n"
   ],
   "metadata": {
    "collapsed": false,
    "ExecuteTime": {
     "end_time": "2024-11-27T02:22:30.933705400Z",
     "start_time": "2024-11-27T02:22:30.922560600Z"
    }
   },
   "id": "d0371aeab1635095",
   "execution_count": 24
  },
  {
   "cell_type": "code",
   "outputs": [
    {
     "name": "stdout",
     "output_type": "stream",
     "text": [
      "Epoch 000 | Value Loss: 0.01679 | Policy Loss: 0.00806\n",
      "Model saved at epoch 0\n",
      "Epoch 001 | Value Loss: 0.01289 | Policy Loss: 0.00907\n",
      "Model saved at epoch 1\n",
      "Epoch 002 | Value Loss: 0.00103 | Policy Loss: 0.01157\n",
      "Model saved at epoch 2\n",
      "Epoch 003 | Value Loss: 0.01130 | Policy Loss: 0.00865\n",
      "Model saved at epoch 3\n",
      "Epoch 004 | Value Loss: 0.00843 | Policy Loss: 0.01550\n",
      "Model saved at epoch 4\n",
      "Epoch 005 | Value Loss: 0.00848 | Policy Loss: 0.00005\n",
      "Model saved at epoch 5\n",
      "Epoch 006 | Value Loss: 0.01554 | Policy Loss: 0.00943\n",
      "Model saved at epoch 6\n",
      "Epoch 007 | Value Loss: 0.00005 | Policy Loss: 0.01392\n",
      "Model saved at epoch 7\n",
      "Epoch 008 | Value Loss: 0.01128 | Policy Loss: 0.00005\n",
      "Model saved at epoch 8\n",
      "Epoch 009 | Value Loss: 0.00627 | Policy Loss: 0.01506\n",
      "Model saved at epoch 9\n",
      "Epoch 010 | Value Loss: 0.00574 | Policy Loss: 0.00005\n",
      "Model saved at epoch 10\n",
      "Epoch 011 | Value Loss: 0.00474 | Policy Loss: 0.00389\n",
      "Model saved at epoch 11\n",
      "Epoch 012 | Value Loss: 0.00265 | Policy Loss: 0.00028\n",
      "Model saved at epoch 12\n",
      "Epoch 013 | Value Loss: 0.00005 | Policy Loss: 0.00005\n",
      "Model saved at epoch 13\n",
      "Epoch 014 | Value Loss: 0.00586 | Policy Loss: 0.00207\n",
      "Model saved at epoch 14\n",
      "Epoch 015 | Value Loss: 0.00554 | Policy Loss: 0.01171\n",
      "Model saved at epoch 15\n",
      "Epoch 016 | Value Loss: 0.01034 | Policy Loss: 0.00005\n",
      "Model saved at epoch 16\n",
      "Epoch 017 | Value Loss: 0.00950 | Policy Loss: 0.01187\n",
      "Model saved at epoch 17\n",
      "Epoch 018 | Value Loss: 0.00085 | Policy Loss: 0.00876\n",
      "Model saved at epoch 18\n",
      "Epoch 019 | Value Loss: 0.00005 | Policy Loss: 0.00005\n",
      "Model saved at epoch 19\n",
      "Epoch 020 | Value Loss: 0.00005 | Policy Loss: 0.00378\n",
      "Model saved at epoch 20\n",
      "Epoch 021 | Value Loss: 0.00122 | Policy Loss: 0.00396\n",
      "Model saved at epoch 21\n",
      "Epoch 022 | Value Loss: 0.00005 | Policy Loss: 0.00005\n",
      "Model saved at epoch 22\n",
      "Epoch 023 | Value Loss: 0.00763 | Policy Loss: 0.00037\n",
      "Model saved at epoch 23\n",
      "Epoch 024 | Value Loss: 0.00005 | Policy Loss: 0.00005\n",
      "Model saved at epoch 24\n",
      "Epoch 025 | Value Loss: 0.00416 | Policy Loss: 0.00790\n",
      "Model saved at epoch 25\n",
      "Epoch 026 | Value Loss: 0.00723 | Policy Loss: 0.01123\n",
      "Model saved at epoch 26\n",
      "Epoch 027 | Value Loss: 0.00005 | Policy Loss: 0.00419\n",
      "Model saved at epoch 27\n",
      "Epoch 028 | Value Loss: 0.00005 | Policy Loss: 0.00970\n",
      "Model saved at epoch 28\n",
      "Epoch 029 | Value Loss: 0.00971 | Policy Loss: 0.00005\n",
      "Model saved at epoch 29\n",
      "Epoch 030 | Value Loss: 0.00005 | Policy Loss: 0.00416\n",
      "Model saved at epoch 30\n",
      "Epoch 031 | Value Loss: 0.00005 | Policy Loss: 0.00005\n",
      "Model saved at epoch 31\n",
      "Epoch 032 | Value Loss: 0.00005 | Policy Loss: 0.00005\n",
      "Model saved at epoch 32\n",
      "Epoch 033 | Value Loss: 0.00370 | Policy Loss: 0.00005\n",
      "Model saved at epoch 33\n",
      "Epoch 034 | Value Loss: 0.00878 | Policy Loss: 0.00880\n",
      "Model saved at epoch 34\n",
      "Epoch 035 | Value Loss: 0.00005 | Policy Loss: 0.00005\n",
      "Model saved at epoch 35\n",
      "Epoch 036 | Value Loss: 0.00664 | Policy Loss: 0.00270\n",
      "Model saved at epoch 36\n",
      "Epoch 037 | Value Loss: 0.00366 | Policy Loss: 0.00612\n",
      "Model saved at epoch 37\n",
      "Epoch 038 | Value Loss: 0.00054 | Policy Loss: 0.00033\n",
      "Model saved at epoch 38\n",
      "Epoch 039 | Value Loss: 0.00005 | Policy Loss: 0.00272\n",
      "Model saved at epoch 39\n"
     ]
    }
   ],
   "source": [
    "EPOCHS = 40\n",
    "RESIDUAL_BLOCKS = 20\n",
    "NUM_FILTERS = 128\n",
    "DATASET_PATH = reformat_dir\n",
    "BATCH_SIZE = 256\n",
    "NUM_WORKERS = 48\n",
    "\n",
    "train_loader = DataLoader(\n",
    "    AlphaZeroDataset(DATASET_PATH),\n",
    "    batch_size=BATCH_SIZE,\n",
    "    shuffle=True,\n",
    "    num_workers=NUM_WORKERS\n",
    ")\n",
    "\n",
    "az = AlphaZero(RESIDUAL_BLOCKS, NUM_FILTERS)\n",
    "if device == 'cuda':\n",
    "    az_model = az.cuda()\n",
    "\n",
    "optimizer = optim.Adam(az.parameters())\n",
    "\n",
    "for epoch in range(EPOCHS):\n",
    "    az.train()\n",
    "    total_value_loss, total_policy_loss = 0, 0\n",
    "    \n",
    "    for iter_num, data in enumerate(train_loader):\n",
    "        optimizer.zero_grad()\n",
    "\n",
    "        position = data['position']\n",
    "        value_target = data['value']\n",
    "        policy_target = data['policy']\n",
    "\n",
    "        if device == 'cuda':\n",
    "            position = position.cuda()\n",
    "            value_target = value_target.cuda()\n",
    "            policy_target = policy_target.cuda()\n",
    "\n",
    "        value_loss, policy_loss = az(position, value_target=value_target, policy_target=policy_target)\n",
    "        total_value_loss += value_loss.item()\n",
    "        total_policy_loss += policy_loss.item()\n",
    "\n",
    "        loss = value_loss + policy_loss\n",
    "        loss.backward()\n",
    "        optimizer.step()\n",
    "\n",
    "    avg_value_loss = total_value_loss / len(train_loader)\n",
    "    avg_policy_loss = total_policy_loss / len(train_loader)\n",
    "    print(f\"Epoch {epoch:03} | Value Loss: {avg_value_loss:.5f} | Policy Loss: {avg_policy_loss:.5f}\")\n",
    "\n",
    "    model_filename = f'alpha_zero_net_epoch_{epoch:03}.pt'\n",
    "    torch.save(az.state_dict(), model_filename)\n",
    "    print(f\"Model saved at epoch {epoch}\\n\")"
   ],
   "metadata": {
    "collapsed": false,
    "ExecuteTime": {
     "end_time": "2024-11-27T02:43:23.626967200Z",
     "start_time": "2024-11-27T02:41:59.792817500Z"
    }
   },
   "id": "1d76114b7e736ec5",
   "execution_count": 41
  },
  {
   "cell_type": "code",
   "outputs": [],
   "source": [],
   "metadata": {
    "collapsed": false
   },
   "id": "c7c71fac2b2841c4"
  }
 ],
 "metadata": {
  "kernelspec": {
   "display_name": "Python 3",
   "language": "python",
   "name": "python3"
  },
  "language_info": {
   "codemirror_mode": {
    "name": "ipython",
    "version": 2
   },
   "file_extension": ".py",
   "mimetype": "text/x-python",
   "name": "python",
   "nbconvert_exporter": "python",
   "pygments_lexer": "ipython2",
   "version": "2.7.6"
  }
 },
 "nbformat": 4,
 "nbformat_minor": 5
}
