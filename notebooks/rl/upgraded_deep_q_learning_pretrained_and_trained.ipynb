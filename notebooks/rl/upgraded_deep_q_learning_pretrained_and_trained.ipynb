{
 "cells": [
  {
   "cell_type": "code",
   "execution_count": 1,
   "metadata": {
    "_cell_guid": "b1076dfc-b9ad-4769-8c92-a6c4dae69d19",
    "_uuid": "8f2839f25d086af736a60e9eeb907d3b93b6e0e5"
   },
   "outputs": [
    {
     "name": "stdout",
     "output_type": "stream",
     "text": [
      "Collecting chess\n",
      "  Downloading chess-1.11.1.tar.gz (156 kB)\n",
      "\u001B[2K     \u001B[90m━━━━━━━━━━━━━━━━━━━━━━━━━━━━━━━━━━━━━\u001B[0m \u001B[32m156.5/156.5 kB\u001B[0m \u001B[31m332.9 kB/s\u001B[0m eta \u001B[36m0:00:00\u001B[0m00:01\u001B[0m00:01\u001B[0m\n",
      "\u001B[?25h  Preparing metadata (setup.py) ... \u001B[?25ldone\n",
      "\u001B[?25hBuilding wheels for collected packages: chess\n",
      "  Building wheel for chess (setup.py) ... \u001B[?25ldone\n",
      "\u001B[?25h  Created wheel for chess: filename=chess-1.11.1-py3-none-any.whl size=148495 sha256=1f30867a8087c0517bfcb6328c122b485ccdb9d5c188227520b8cec24d9984d4\n",
      "  Stored in directory: /home/jovyan/.cache/pip/wheels/f0/3f/76/8783033e8524d407e1bebaf72fdd3f3eba27e0c030e92bbd87\n",
      "Successfully built chess\n",
      "Installing collected packages: chess\n",
      "Successfully installed chess-1.11.1\n",
      "Collecting stockfish\n",
      "  Downloading stockfish-3.28.0-py3-none-any.whl.metadata (12 kB)\n",
      "Downloading stockfish-3.28.0-py3-none-any.whl (13 kB)\n",
      "Installing collected packages: stockfish\n",
      "Successfully installed stockfish-3.28.0\n"
     ]
    }
   ],
   "source": [
    "!pip install chess\n",
    "!pip install stockfish"
   ]
  },
  {
   "cell_type": "code",
   "execution_count": 1,
   "metadata": {},
   "outputs": [
    {
     "name": "stdout",
     "output_type": "stream",
     "text": [
      "cuda\n"
     ]
    }
   ],
   "source": [
    "import os\n",
    "import pickle\n",
    "import shutil\n",
    "import chess\n",
    "import chess.engine\n",
    "import pandas as pd\n",
    "import random\n",
    "import numpy as np\n",
    "import torch\n",
    "import torch.nn as nn\n",
    "import torch.nn.functional as F\n",
    "import matplotlib.pyplot as plt\n",
    "from torch.optim import Adam\n",
    "from stockfish import Stockfish\n",
    "from tqdm import tqdm\n",
    "\n",
    "device = torch.device('cuda' if torch.cuda.is_available() else 'cpu')\n",
    "print(device)"
   ]
  },
  {
   "cell_type": "code",
   "execution_count": 2,
   "metadata": {},
   "outputs": [],
   "source": [
    "KAGGLE = False\n",
    "\n",
    "if KAGGLE:\n",
    "    input_stockfish_path = \"/kaggle/input/stockfish_ubuntu/other/default/1/stockfish-ubuntu-x86-64-avx2\"\n",
    "    stockfish_path = \"/kaggle/working/stockfish\"\n",
    "    if not os.path.exists(stockfish_path):\n",
    "        shutil.copy(input_stockfish_path, stockfish_path)\n",
    "    os.chmod(stockfish_path, 0o755)\n",
    "else:\n",
    "    stockfish_path = \"./stockfish-ubuntu-x86-64-avx2\"\n",
    "    os.chmod(stockfish_path, 0o755)\n",
    "    \n",
    "stockfish = Stockfish(path=stockfish_path)\n",
    "stockfish.set_skill_level(20)\n"
   ]
  },
  {
   "cell_type": "code",
   "execution_count": 7,
   "metadata": {},
   "outputs": [],
   "source": [
    "class MaskLayer(nn.Module):\n",
    "    def __init__(self):\n",
    "        super(MaskLayer, self).__init__()\n",
    "    \n",
    "    def forward(self, x, mask):\n",
    "        return torch.mul(x, mask)\n",
    "\n",
    "class SpatialAttentionLayer(nn.Module):\n",
    "    def __init__(self, channels):\n",
    "        super(SpatialAttentionLayer, self).__init__()\n",
    "        self.conv1 = nn.Conv2d(channels, 1, kernel_size=1)\n",
    "        self.sigmoid = nn.Sigmoid()\n",
    "\n",
    "    def forward(self, x):\n",
    "        attention = self.sigmoid(self.conv1(x))  # Generate attention map\n",
    "        return x * attention  # Apply attention map\n",
    "\n",
    "class ResidualBlock(nn.Module):\n",
    "    def __init__(self, in_channels, out_channels, stride=1):\n",
    "        super(ResidualBlock, self).__init__()\n",
    "        self.conv1 = nn.Conv2d(in_channels, out_channels, kernel_size=3, stride=stride, padding=1, bias=False)\n",
    "        self.bn1 = nn.BatchNorm2d(out_channels)\n",
    "        self.conv2 = nn.Conv2d(out_channels, out_channels, kernel_size=3, stride=1, padding=1, bias=False)\n",
    "        self.bn2 = nn.BatchNorm2d(out_channels)\n",
    "        self.relu = nn.ReLU(inplace=True)\n",
    "        \n",
    "        # If dimensions mismatch, use a 1x1 convolution to match dimensions\n",
    "        self.downsample = None\n",
    "        if in_channels != out_channels or stride != 1:\n",
    "            self.downsample = nn.Sequential(\n",
    "                nn.Conv2d(in_channels, out_channels, kernel_size=1, stride=stride, bias=False),\n",
    "                nn.BatchNorm2d(out_channels)\n",
    "            )\n",
    "\n",
    "    def forward(self, x):\n",
    "        residual = x\n",
    "        out = self.relu(self.bn1(self.conv1(x)))\n",
    "        out = self.bn2(self.conv2(out))\n",
    "        \n",
    "        # Apply downsample if dimensions mismatch\n",
    "        if self.downsample is not None:\n",
    "            residual = self.downsample(x)\n",
    "        \n",
    "        out += residual  # Add skip connection\n",
    "        return self.relu(out)\n",
    "\n",
    "class ChessDQN(nn.Module):\n",
    "    def __init__(self):\n",
    "        super(ChessDQN, self).__init__()\n",
    "\n",
    "        # Initial convolution layers\n",
    "        self.conv1 = nn.Conv2d(16, 32, kernel_size=3, stride=1, padding=1)\n",
    "        self.bn1 = nn.BatchNorm2d(32)\n",
    "        \n",
    "        # Residual blocks\n",
    "        self.res_block1 = ResidualBlock(32, 32)\n",
    "        self.res_block2 = ResidualBlock(32, 64)\n",
    "        \n",
    "        # Second convolution layers\n",
    "        self.conv2 = nn.Conv2d(64, 128, kernel_size=3, stride=1, padding=1)\n",
    "        self.bn2 = nn.BatchNorm2d(128)\n",
    "        \n",
    "        # Attention layer\n",
    "        self.attention = SpatialAttentionLayer(128)\n",
    "        \n",
    "        # Third convolution layers\n",
    "        self.conv3 = nn.Conv2d(128, 256, kernel_size=3, stride=1, padding=1)\n",
    "        self.bn3 = nn.BatchNorm2d(256)\n",
    "        \n",
    "        # Fully connected layers\n",
    "        self.fc1 = nn.Linear(256 * 64, 256 * 64)\n",
    "        self.dropout1 = nn.Dropout(0.3)\n",
    "        self.fc2 = nn.Linear(256 * 64, 128 * 64)\n",
    "        self.dropout2 = nn.Dropout(0.3)\n",
    "        self.fc3 = nn.Linear(128 * 64, 64 * 64)\n",
    "        \n",
    "        # Mask layer\n",
    "        self.mask = MaskLayer()\n",
    "\n",
    "    def forward(self, x, mask=None, debug=False):\n",
    "        # Convolution + BatchNorm + ReLU\n",
    "        x = nn.functional.relu(self.bn1(self.conv1(x)))\n",
    "        \n",
    "        # Residual blocks\n",
    "        x = self.res_block1(x)\n",
    "        x = self.res_block2(x)\n",
    "        \n",
    "        # Second convolution\n",
    "        x = nn.functional.relu(self.bn2(self.conv2(x)))\n",
    "        \n",
    "        # Attention mechanism\n",
    "        x = self.attention(x)\n",
    "        \n",
    "        # Third convolution\n",
    "        x = nn.functional.relu(self.bn3(self.conv3(x)))\n",
    "        \n",
    "        # Flatten for fully connected layers\n",
    "        x = nn.Flatten()(x)\n",
    "        \n",
    "        # Fully connected layers with Dropout\n",
    "        x = nn.functional.relu(self.fc1(x))\n",
    "        x = self.dropout1(x)\n",
    "        x = nn.functional.relu(self.fc2(x))\n",
    "        x = self.dropout2(x)\n",
    "        x = self.fc3(x)  # Output layer (no activation)\n",
    "        \n",
    "        # Masking output if provided\n",
    "        if mask is not None:\n",
    "            x = self.mask(x, mask)\n",
    "            \n",
    "        return x\n"
   ]
  },
  {
   "cell_type": "code",
   "execution_count": 8,
   "metadata": {},
   "outputs": [],
   "source": [
    "class ChessAgent:\n",
    "    def __init__(self, model_path=None):\n",
    "        self.epsilon = 1.0\n",
    "        self.epsilon_decay = 0.999999999\n",
    "        self.epsilon_min = 0.01\n",
    "        self.gamma = 0.3 # Balance between immediate and long-term rewards\n",
    "        self.learning_rate = 1e-03\n",
    "        self.MEMORY_SIZE = 256 # how many steps to store for experience replay\n",
    "        self.MAX_PRIORITY = 1e+06 # max priority for a sample in memory. The higher the priority, the more likely the sample will be included in training\n",
    "        self.memory = []\n",
    "        self.batch_size = 30\n",
    "        \n",
    "        self.policy_net = ChessDQN().to(device)\n",
    "        if model_path and os.path.exists(model_path):\n",
    "            state_dict = torch.load(model_path, weights_only=True)\n",
    "            self.policy_net.load_state_dict(state_dict)  \n",
    "\n",
    "        for param in self.policy_net.parameters():\n",
    "            param.requires_grad = True\n",
    "\n",
    "        self.loss_function = nn.MSELoss()\n",
    "        self.optimizer = Adam(self.policy_net.parameters(), lr=self.learning_rate)\n",
    "\n",
    "        self.stockfish = Stockfish(path=stockfish_path)\n",
    "        self.stockfish.set_skill_level(20)\n",
    "\n",
    "    def convert_board_to_bitarray(self, board):\n",
    "        \"\"\"\n",
    "        Convert the chess board state to a 3D bitarray.\n",
    "        \"\"\"\n",
    "        piece_bitboards = {\n",
    "            (chess.piece_symbol(pt).upper() if color else chess.piece_symbol(pt)): board.pieces_mask(pt, color)\n",
    "            for pt in chess.PIECE_TYPES for color in chess.COLORS\n",
    "        }\n",
    "        piece_bitboards['-'] = board.occupied ^ (2**64 - 1)\n",
    "        player = (2**64 - 1) if board.turn else 0\n",
    "        castling_rights = board.castling_rights\n",
    "        en_passant = 0\n",
    "        if board.ep_square is not None:\n",
    "            en_passant = 1 << board.ep_square\n",
    "\n",
    "        bitboards = list(piece_bitboards.values()) + [player, castling_rights, en_passant]\n",
    "        # convert each bitboard into a matrix 1 and 0\n",
    "        bitarray = np.array([[((bb >> i) & 1) for i in range(64)] for bb in bitboards]).reshape((16, 8, 8))\n",
    "\n",
    "        return bitarray\n",
    "        \n",
    "    def get_move_index(self, move):\n",
    "        \"\"\"\n",
    "        Map a chess.Move object to a unique index.\n",
    "        \"\"\"\n",
    "        return 64 * (move.from_square) + (move.to_square)\n",
    "\n",
    "    def mask_valid_moves(self, board):\n",
    "        \"\"\"\n",
    "        Create a tensor mask of valid moves and a dictionary of move indices.\n",
    "        \"\"\"\n",
    "        mask = np.zeros((64, 64))\n",
    "        move_dict  = {}\n",
    "        for move in board.legal_moves:\n",
    "            mask[move.from_square, move.to_square] = 1\n",
    "            move_dict[self.get_move_index(move)] = move\n",
    "        return torch.from_numpy(mask.flatten()), move_dict\n",
    "\n",
    "    def select_action(self, board, evaluate=False):\n",
    "        \"\"\"\n",
    "        Choose an action based on the current board state.\n",
    "        Use an epsilon-greedy strategy.\n",
    "        \"\"\"\n",
    "        bit_state = self.convert_board_to_bitarray(board)\n",
    "        valid_moves_tensor, legal_moves = self.mask_valid_moves(board)\n",
    "    \n",
    "        if np.random.rand() < self.epsilon and not evaluate:\n",
    "            if random.uniform(0, 1) <= 0.8:\n",
    "                self.stockfish.set_fen_position(board.fen())\n",
    "                chosen_move = chess.Move.from_uci(self.stockfish.get_best_move())\n",
    "            else:\n",
    "                chosen_move = random.choice(list(board.legal_moves))\n",
    "        else:\n",
    "            state_tensor = torch.tensor(bit_state, dtype=torch.float32).unsqueeze(0).to(device)\n",
    "            q_values = self.policy_net(state_tensor)\n",
    "            q_values = q_values.detach().cpu().numpy().flatten()\n",
    "            valid_q_values = q_values * valid_moves_tensor.numpy()\n",
    "            best_action_index = np.argmax(valid_q_values)\n",
    "            chosen_move = legal_moves.get(best_action_index, random.choice(list(board.legal_moves)))\n",
    "    \n",
    "        return self.get_move_index(chosen_move), chosen_move, bit_state, valid_moves_tensor\n",
    "\n",
    "    def remember(self, priority, state, action, reward, next_state, done, valid_moves, next_valid_moves):\n",
    "        \"\"\"\n",
    "        Store a step in memory, ensuring it doesn't exceed maximum size.\n",
    "        \"\"\"\n",
    "        if len(self.memory) >= self.MEMORY_SIZE:\n",
    "            min_index = np.argmin([sample[0] for sample in self.memory])\n",
    "            del self.memory[min_index]\n",
    "        self.memory.append((priority, state, action, reward, next_state, done, valid_moves, next_valid_moves))\n",
    "    \n",
    "    def adaptive_epsilon_decay(self):\n",
    "        \"\"\"\n",
    "        Reduce epsilon over time for less exploration.\n",
    "        \"\"\"\n",
    "        self.epsilon = max(self.epsilon * self.epsilon_decay, self.epsilon_min)\n",
    "\n",
    "    def save_model(self, path):\n",
    "        \"\"\"\n",
    "        Save the model weights to a file.\n",
    "        \"\"\"\n",
    "        torch.save(self.policy_net.state_dict(), path)\n",
    "\n",
    "    def experience_replay(self):\n",
    "        \"\"\"\n",
    "        Perform experience replay to update the model's policy network using a prioritized replay buffer.\n",
    "        \"\"\"\n",
    "        if len(self.memory) < self.batch_size:\n",
    "            return\n",
    "    \n",
    "        priorities = np.array([sample[0] for sample in self.memory])\n",
    "        # probabilities = priorities / np.sum(priorities)\n",
    "        epsilon = 1e-6\n",
    "        probabilities = (priorities + epsilon) / (np.sum(priorities) + epsilon * len(priorities))\n",
    "    \n",
    "        minibatch_indexes = np.random.choice(len(self.memory), size=self.batch_size, replace=False, p=probabilities)\n",
    "        minibatch = [self.memory[x] for x in minibatch_indexes]\n",
    "        \n",
    "        states, state_valid_moves, actions, rewards, next_states, next_state_valid_moves, dones = [], [], [], [], [], [], []\n",
    "    \n",
    "        for priority, bit_state, action, reward, next_bit_state, done, state_valid_move, next_state_valid_move in minibatch:\n",
    "            states.append(bit_state)\n",
    "            state_valid_moves.append(state_valid_move.unsqueeze(0))\n",
    "            actions.append([action])\n",
    "            rewards.append(reward)\n",
    "            dones.append(done)\n",
    "    \n",
    "            if not done:\n",
    "                next_states.append(next_bit_state)\n",
    "                next_state_valid_moves.append(next_state_valid_move.unsqueeze(0))\n",
    "\n",
    "        # states = np.array(states)\n",
    "        # actions = np.array(actions)\n",
    "        # next_states = np.array(next_states)\n",
    "        # rewards = np.array(rewards)\n",
    "        state_tensor = torch.tensor(states, dtype=torch.float32, device=device)\n",
    "        action_tensor = torch.tensor(actions, dtype=torch.int64, device=device)\n",
    "        reward_tensor = torch.tensor(rewards, dtype=torch.float32, device=device)\n",
    "        next_state_tensor = torch.tensor(next_states, dtype=torch.float32, device=device)\n",
    "        not_done_mask = torch.tensor([not done for done in dones], dtype=torch.bool, device=device)\n",
    "        state_valid_tensor = torch.cat(state_valid_moves).to(device)\n",
    "        next_state_valid_tensor = torch.cat(next_state_valid_moves).to(device)\n",
    "\n",
    "        policy_q_values = self.policy_net(state_tensor, state_valid_tensor).gather(1, action_tensor)\n",
    "        with torch.no_grad():\n",
    "            next_q_values = torch.zeros(self.batch_size, dtype=torch.double, device=device)\n",
    "            next_q_values[not_done_mask] = self.policy_net(next_state_tensor, next_state_valid_tensor).max(1)[0]\n",
    "    \n",
    "        target_q_values = reward_tensor + self.gamma * next_q_values\n",
    "        target_q_values = target_q_values.unsqueeze(1)\n",
    "\n",
    "        loss = self.loss_function(policy_q_values, target_q_values)\n",
    "        self.optimizer.zero_grad()\n",
    "        loss.backward()\n",
    "        self.optimizer.step()\n",
    "    \n",
    "        priority = F.mse_loss(policy_q_values, target_q_values, reduction='mean').detach().cpu().numpy()\n",
    "        for idx, new_priority in zip(minibatch_indexes, priorities):\n",
    "            self.memory[idx] = (new_priority, *self.memory[idx][1:])\n",
    "    \n",
    "        return float(loss)\n",
    "\n",
    "    def generate_random_sample(self, board):\n",
    "        \"\"\"\n",
    "        Generate a random sample for training by simulating a move.\n",
    "        \"\"\"\n",
    "        priority = 1\n",
    "        state = self.convert_board_to_bitarray(board)\n",
    "        valid_moves, _ = self.mask_valid_moves(board)\n",
    "\n",
    "        self.stockfish.set_fen_position(board.fen())\n",
    "        random_move = chess.Move.from_uci(self.stockfish.get_best_move())\n",
    "        action = self.get_move_index(random_move)\n",
    "        self.stockfish.set_fen_position(board.fen())\n",
    "        board_score_before = self.stockfish.get_evaluation()['value']\n",
    "        board.push(random_move)\n",
    "\n",
    "        self.stockfish.set_fen_position(board.fen())\n",
    "        random_move_black = chess.Move.from_uci(self.stockfish.get_best_move())\n",
    "        board.push(random_move_black)\n",
    "        self.stockfish.set_fen_position(board.fen())\n",
    "        board_score_after = self.stockfish.get_evaluation()['value']\n",
    "\n",
    "        next_state = self.convert_board_to_bitarray(board)\n",
    "        done = board.result() != '*'\n",
    "        next_valid_moves, _ = self.mask_valid_moves(board)\n",
    "\n",
    "        board.pop()\n",
    "        board.pop()\n",
    "        \n",
    "        reward = board_score_after / 100 - board_score_before / 100 - 0.01\n",
    "        \n",
    "        self.remember(priority, state, action, reward, next_state, done, valid_moves, next_valid_moves)\n",
    "\n",
    "    def calculate_endgame_reward(self, result, board_score_before):\n",
    "        \"\"\"\n",
    "        Calculate the reward based on the endgame result.\n",
    "        \"\"\"\n",
    "        if result == \"1-0\":  # White wins\n",
    "            reward = 1.0\n",
    "        elif result == \"0-1\":  # Black wins\n",
    "            reward = -1.0\n",
    "        elif result == \"1/2-1/2\":  # Draw\n",
    "            reward = 0.0\n",
    "        else:  # Should not occur, but for safety\n",
    "            reward = 0.0\n",
    "    \n",
    "        done = True\n",
    "        return reward, done\n",
    "    \n",
    "\n",
    "    def generate_random_sample(self, board):\n",
    "        \"\"\"\n",
    "        Generate a random sample for training by simulating a move.\n",
    "        \"\"\"\n",
    "        priority = 1\n",
    "        state = self.convert_board_to_bitarray(board)\n",
    "        valid_moves, _ = self.mask_valid_moves(board)\n",
    "    \n",
    "        # Stockfish move for white\n",
    "        self.stockfish.set_fen_position(board.fen())\n",
    "        best_move_white = self.stockfish.get_best_move()\n",
    "        if best_move_white is None or board.is_game_over():\n",
    "            print(\"Game over or no move for white.\")\n",
    "            return\n",
    "    \n",
    "        random_move_white = chess.Move.from_uci(best_move_white)\n",
    "        action = self.get_move_index(random_move_white)\n",
    "        board_score_before = self.stockfish.get_evaluation()['value']\n",
    "        board.push(random_move_white)\n",
    "    \n",
    "        # Check if the game is over after white's move\n",
    "        if board.is_game_over():\n",
    "            result = board.result()\n",
    "            reward, done = self.calculate_endgame_reward(result, board_score_before)\n",
    "            next_state = self.convert_board_to_bitarray(board)\n",
    "            next_valid_moves, _ = self.mask_valid_moves(board)\n",
    "            self.remember(priority, state, action, reward, next_state, done, valid_moves, next_valid_moves)\n",
    "            board.pop()  # Undo the move\n",
    "            return\n",
    "    \n",
    "        # Stockfish move for black\n",
    "        self.stockfish.set_fen_position(board.fen())\n",
    "        best_move_black = self.stockfish.get_best_move()\n",
    "        if best_move_black is None or board.is_game_over():\n",
    "            print(\"Game over or no move for black.\")\n",
    "            return\n",
    "    \n",
    "        random_move_black = chess.Move.from_uci(best_move_black)\n",
    "        board.push(random_move_black)\n",
    "    \n",
    "        # Check if the game is over after black's move\n",
    "        if board.is_game_over():\n",
    "            result = board.result()\n",
    "            reward, done = self.calculate_endgame_reward(result, board_score_before)\n",
    "            next_state = self.convert_board_to_bitarray(board)\n",
    "            next_valid_moves, _ = self.mask_valid_moves(board)\n",
    "            self.remember(priority, state, action, reward, next_state, done, valid_moves, next_valid_moves)\n",
    "            board.pop()  # Undo black's move\n",
    "            board.pop()  # Undo white's move\n",
    "            return\n",
    "    \n",
    "        # Normal gameplay: calculate reward and store memory\n",
    "        self.stockfish.set_fen_position(board.fen())\n",
    "        board_score_after = self.stockfish.get_evaluation()['value']\n",
    "        next_state = self.convert_board_to_bitarray(board)\n",
    "        next_valid_moves, _ = self.mask_valid_moves(board)\n",
    "        reward = board_score_after / 100 - board_score_before / 100 - 0.01\n",
    "        done = False\n",
    "    \n",
    "        self.remember(priority, state, action, reward, next_state, done, valid_moves, next_valid_moves)\n",
    "    \n",
    "        # Undo the moves to reset the board\n",
    "        board.pop()\n",
    "        board.pop()\n",
    "\n",
    "    def game_result(self, board):\n",
    "        \"\"\"\n",
    "        Determine the game result.\n",
    "        \"\"\"\n",
    "        if board.result() == \"1-0\":\n",
    "            return 1000 # Draw\n",
    "        elif board.result() in (\"*\", \"1/2-1/2\"):\n",
    "            return -10 # Draw\n",
    "        else:\n",
    "            return -1000 # Loss\n",
    "\n",
    "    def play_single_game(self, board, loss, max_moves, steps):\n",
    "        \"\"\"\n",
    "        Simulate a single game for training.\n",
    "        \"\"\"\n",
    "        done, game_moves, board_score_after = False, 0, 0\n",
    "\n",
    "        self.stockfish.set_fen_position(board.fen())\n",
    "\n",
    "        while not done and game_moves < max_moves:\n",
    "            action_index, chosen_move, bit_state, valid_moves_tensor = self.select_action(board)\n",
    "            board_score_before = self.stockfish.get_evaluation()['value'] / 100\n",
    "            board.push(chosen_move)\n",
    "            self.stockfish.set_fen_position(board.fen())\n",
    "            done = board.is_game_over()\n",
    "\n",
    "            if done:\n",
    "                board_score_after = self.game_result(board)\n",
    "                agent.remember(self.MAX_PRIORITY, bit_state, action_index, board_score_after, None, done, valid_moves_tensor, None)\n",
    "                break\n",
    "                \n",
    "            board.push(random.choice(list(board.legal_moves)))\n",
    "            self.stockfish.set_fen_position(board.fen())\n",
    "            board_score_after = self.stockfish.get_evaluation()['value'] / 100\n",
    "            \n",
    "            done = board.is_game_over()\n",
    "            next_bit_state = self.convert_board_to_bitarray(board)\n",
    "            next_valid_moves_tensor, _ = agent.mask_valid_moves(board)\n",
    "            reward = board_score_after - board_score_before - 0.01\n",
    "            \n",
    "            loss.append(self.experience_replay())\n",
    "            self.adaptive_epsilon_decay()\n",
    "\n",
    "            agent.remember(self.MAX_PRIORITY, bit_state, action_index, reward, next_bit_state, done, valid_moves_tensor, next_valid_moves_tensor)\n",
    "            \n",
    "            game_moves += 1\n",
    "            steps += 1\n",
    "\n",
    "        return board_score_after\n",
    "    \n",
    "    def q_learning(self, games_to_play, max_game_moves, board_config=None):\n",
    "        \"\"\"\n",
    "        Train the agent using Q-learning.\n",
    "        \"\"\"\n",
    "        loss, final_score, steps = [], [], 0\n",
    "\n",
    "        for i in tqdm(range(games_to_play), desc=\"Training Games\"):\n",
    "            if i % 3000 == 0 and i > 0:\n",
    "                checkpoint_path = os.path.join(\"checkpoints\", f\"q_learnng_checkpoint_step_{i}.pth\")\n",
    "                torch.save(agent.policy_net.state_dict(), checkpoint_path)\n",
    "                print(f\"Checkpoint saved at step {i}: {checkpoint_path}\")\n",
    "            board = chess.Board() if board_config is None else chess.Board(board_config)\n",
    "            end_game_score = self.play_single_game(board, loss, max_game_moves, steps)\n",
    "            final_score.append(end_game_score)\n",
    "\n",
    "        return loss, final_score, steps\n"
   ]
  },
  {
   "cell_type": "code",
   "execution_count": 10,
   "metadata": {},
   "outputs": [],
   "source": [
    "board = chess.Board()\n",
    "agent = ChessAgent()\n",
    "\n",
    "# for i in range(20):\n",
    "#     agent.generate_random_sample(board)\n",
    "\n",
    "# loss = []\n",
    "# for i in range(20):\n",
    "#     loss.append(agent.experience_replay())\n",
    "\n",
    "# plt.plot(loss)\n",
    "# plt.show()\n"
   ]
  },
  {
   "cell_type": "code",
   "execution_count": 14,
   "metadata": {},
   "outputs": [],
   "source": [
    "def load_training_data_pickle(file_path=\"training_data.pkl\"):\n",
    "    with open(file_path, \"rb\") as f:\n",
    "        return pickle.load(f)\n",
    "\n",
    "def preprocess_training_data(training_data, agent):\n",
    "    \"\"\"\n",
    "    Preprocess the training data for supervised learning.\n",
    "    \"\"\"\n",
    "    states, actions = [], []\n",
    "    for board_state, best_move in training_data:\n",
    "        states.append(board_state)\n",
    "        actions.append(agent.get_move_index(best_move))\n",
    "    \n",
    "    # Convert to tensors\n",
    "    states = torch.tensor(np.array(states), dtype=torch.float32)\n",
    "    actions = torch.tensor(actions, dtype=torch.long)  # Long tensor for cross-entropy loss\n",
    "    return states, actions"
   ]
  },
  {
   "cell_type": "code",
   "execution_count": 14,
   "metadata": {},
   "outputs": [],
   "source": [
    "def supervised_pretraining(agent, states, actions, epochs=10, batch_size=50, checkpoint_dir=\"checkpoints\"):\n",
    "    \"\"\"\n",
    "    Pretrain the policy network using supervised learning with progress bars and checkpointing.\n",
    "    \"\"\"\n",
    "    # Create the dataset and data loader\n",
    "    dataset = torch.utils.data.TensorDataset(states, actions)\n",
    "    data_loader = torch.utils.data.DataLoader(dataset, batch_size=batch_size, shuffle=True)\n",
    "    \n",
    "    # Define loss function and optimizer\n",
    "    loss_fn = nn.CrossEntropyLoss()\n",
    "    optimizer = torch.optim.Adam(agent.policy_net.parameters(), lr=agent.learning_rate)\n",
    "    \n",
    "    # Ensure the checkpoint directory exists\n",
    "    os.makedirs(checkpoint_dir, exist_ok=True)\n",
    "\n",
    "    # Start training\n",
    "    global_step = 0  # Track overall steps for checkpointing\n",
    "    total_steps = len(data_loader) * epochs  # Total steps for tqdm\n",
    "\n",
    "    with tqdm(total=total_steps, desc=\"Training Progress\") as pbar:\n",
    "        for epoch in range(epochs):\n",
    "            epoch_loss = 0\n",
    "            \n",
    "            for batch_states, batch_actions in data_loader:\n",
    "                global_step += 1\n",
    "                \n",
    "                # Move data to the appropriate device\n",
    "                batch_states = batch_states.to(device)\n",
    "                batch_actions = batch_actions.to(device)\n",
    "                \n",
    "                # Forward pass\n",
    "                q_values = agent.policy_net(batch_states)\n",
    "                \n",
    "                # Compute loss\n",
    "                loss = loss_fn(q_values, batch_actions)\n",
    "                \n",
    "                # Backpropagation and optimization\n",
    "                optimizer.zero_grad()\n",
    "                loss.backward()\n",
    "                optimizer.step()\n",
    "                \n",
    "                # Update epoch loss\n",
    "                epoch_loss += loss.item()\n",
    "                \n",
    "                # Update tqdm progress bar\n",
    "                pbar.update(1)\n",
    "                pbar.set_postfix({\"Epoch\": epoch + 1, \"Loss\": f\"{loss.item():.4f}\"})\n",
    "                \n",
    "                # Save checkpoint every 20,000 steps\n",
    "                if global_step % 40000 == 0:\n",
    "                    checkpoint_path = os.path.join(checkpoint_dir, f\"checkpoint_step_{global_step}.pth\")\n",
    "                    torch.save(agent.policy_net.state_dict(), checkpoint_path)\n",
    "                    print(f\"Checkpoint saved at step {global_step}: {checkpoint_path}\")\n",
    "            \n",
    "            print(f\"Epoch {epoch + 1}/{epochs}, Loss: {epoch_loss / len(data_loader):.4f}\")\n",
    "    \n",
    "    # Save final model checkpoint\n",
    "    final_checkpoint_path = os.path.join(checkpoint_dir, \"final_checkpoint.pth\")\n",
    "    torch.save(agent.policy_net.state_dict(), final_checkpoint_path)\n",
    "    print(f\"Final checkpoint saved: {final_checkpoint_path}\")"
   ]
  },
  {
   "cell_type": "code",
   "execution_count": 36,
   "metadata": {},
   "outputs": [],
   "source": [
    "training_data = load_training_data_pickle()\n"
   ]
  },
  {
   "cell_type": "code",
   "execution_count": 38,
   "metadata": {},
   "outputs": [],
   "source": [
    "states, actions = preprocess_training_data(training_data, agent)"
   ]
  },
  {
   "cell_type": "code",
   "execution_count": 39,
   "metadata": {},
   "outputs": [
    {
     "name": "stdout",
     "output_type": "stream",
     "text": [
      "229653\n"
     ]
    }
   ],
   "source": [
    "print(len(actions))"
   ]
  },
  {
   "cell_type": "code",
   "execution_count": 46,
   "metadata": {},
   "outputs": [
    {
     "name": "stderr",
     "output_type": "stream",
     "text": [
      "Training Progress:   2%|▏         | 4599/229700 [02:48<2:29:52, 25.03it/s, Epoch=2, Loss=3.8207]"
     ]
    },
    {
     "name": "stdout",
     "output_type": "stream",
     "text": [
      "Epoch 1/50, Loss: 4.0671\n"
     ]
    },
    {
     "name": "stderr",
     "output_type": "stream",
     "text": [
      "Training Progress:   4%|▍         | 9193/229700 [05:39<2:16:36, 26.90it/s, Epoch=3, Loss=3.4685] "
     ]
    },
    {
     "name": "stdout",
     "output_type": "stream",
     "text": [
      "Epoch 2/50, Loss: 3.5943\n"
     ]
    },
    {
     "name": "stderr",
     "output_type": "stream",
     "text": [
      "Training Progress:   6%|▌         | 13787/229700 [08:29<2:15:32, 26.55it/s, Epoch=4, Loss=3.2452]"
     ]
    },
    {
     "name": "stdout",
     "output_type": "stream",
     "text": [
      "Epoch 3/50, Loss: 3.2721\n"
     ]
    },
    {
     "name": "stderr",
     "output_type": "stream",
     "text": [
      "Training Progress:   8%|▊         | 18381/229700 [11:18<2:11:29, 26.79it/s, Epoch=5, Loss=2.8575]"
     ]
    },
    {
     "name": "stdout",
     "output_type": "stream",
     "text": [
      "Epoch 4/50, Loss: 3.0444\n"
     ]
    },
    {
     "name": "stderr",
     "output_type": "stream",
     "text": [
      "Training Progress:  10%|█         | 22975/229700 [14:08<2:14:47, 25.56it/s, Epoch=6, Loss=3.8290] "
     ]
    },
    {
     "name": "stdout",
     "output_type": "stream",
     "text": [
      "Epoch 5/50, Loss: 2.8507\n"
     ]
    },
    {
     "name": "stderr",
     "output_type": "stream",
     "text": [
      "Training Progress:  12%|█▏        | 27569/229700 [16:58<2:08:55, 26.13it/s, Epoch=7, Loss=3.1430]"
     ]
    },
    {
     "name": "stdout",
     "output_type": "stream",
     "text": [
      "Epoch 6/50, Loss: 2.6949\n"
     ]
    },
    {
     "name": "stderr",
     "output_type": "stream",
     "text": [
      "Training Progress:  14%|█▍        | 32163/229700 [19:47<2:05:01, 26.33it/s, Epoch=8, Loss=1.9442]"
     ]
    },
    {
     "name": "stdout",
     "output_type": "stream",
     "text": [
      "Epoch 7/50, Loss: 2.5420\n"
     ]
    },
    {
     "name": "stderr",
     "output_type": "stream",
     "text": [
      "Training Progress:  16%|█▌        | 36757/229700 [22:36<2:01:50, 26.39it/s, Epoch=9, Loss=2.5079]"
     ]
    },
    {
     "name": "stdout",
     "output_type": "stream",
     "text": [
      "Epoch 8/50, Loss: 2.4153\n"
     ]
    },
    {
     "name": "stderr",
     "output_type": "stream",
     "text": [
      "Training Progress:  17%|█▋        | 40005/229700 [24:38<12:08:00,  4.34it/s, Epoch=9, Loss=2.4872]"
     ]
    },
    {
     "name": "stdout",
     "output_type": "stream",
     "text": [
      "Checkpoint saved at step 40000: checkpoints/checkpoint_step_40000.pth\n"
     ]
    },
    {
     "name": "stderr",
     "output_type": "stream",
     "text": [
      "Training Progress:  18%|█▊        | 41351/229700 [25:28<1:57:21, 26.75it/s, Epoch=10, Loss=3.4013]"
     ]
    },
    {
     "name": "stdout",
     "output_type": "stream",
     "text": [
      "Epoch 9/50, Loss: 2.2981\n"
     ]
    },
    {
     "name": "stderr",
     "output_type": "stream",
     "text": [
      "Training Progress:  20%|██        | 45945/229700 [28:17<1:53:53, 26.89it/s, Epoch=11, Loss=4.0302] "
     ]
    },
    {
     "name": "stdout",
     "output_type": "stream",
     "text": [
      "Epoch 10/50, Loss: 2.2205\n"
     ]
    },
    {
     "name": "stderr",
     "output_type": "stream",
     "text": [
      "Training Progress:  22%|██▏       | 50539/229700 [31:07<1:54:19, 26.12it/s, Epoch=12, Loss=2.0582] "
     ]
    },
    {
     "name": "stdout",
     "output_type": "stream",
     "text": [
      "Epoch 11/50, Loss: 2.1544\n"
     ]
    },
    {
     "name": "stderr",
     "output_type": "stream",
     "text": [
      "Training Progress:  24%|██▍       | 55133/229700 [33:56<1:49:48, 26.50it/s, Epoch=13, Loss=2.4667]"
     ]
    },
    {
     "name": "stdout",
     "output_type": "stream",
     "text": [
      "Epoch 12/50, Loss: 1.9918\n"
     ]
    },
    {
     "name": "stderr",
     "output_type": "stream",
     "text": [
      "Training Progress:  26%|██▌       | 59727/229700 [36:47<1:46:09, 26.68it/s, Epoch=14, Loss=1.7040]"
     ]
    },
    {
     "name": "stdout",
     "output_type": "stream",
     "text": [
      "Epoch 13/50, Loss: 1.9024\n"
     ]
    },
    {
     "name": "stderr",
     "output_type": "stream",
     "text": [
      "Training Progress:  28%|██▊       | 64321/229700 [39:36<1:42:21, 26.93it/s, Epoch=15, Loss=3.3717]    "
     ]
    },
    {
     "name": "stdout",
     "output_type": "stream",
     "text": [
      "Epoch 14/50, Loss: 16.5207\n"
     ]
    },
    {
     "name": "stderr",
     "output_type": "stream",
     "text": [
      "Training Progress:  30%|███       | 68915/229700 [42:26<1:42:22, 26.18it/s, Epoch=16, Loss=2.1603] "
     ]
    },
    {
     "name": "stdout",
     "output_type": "stream",
     "text": [
      "Epoch 15/50, Loss: 2.3549\n"
     ]
    },
    {
     "name": "stderr",
     "output_type": "stream",
     "text": [
      "Training Progress:  32%|███▏      | 73509/229700 [45:15<1:37:33, 26.68it/s, Epoch=17, Loss=1.1906]"
     ]
    },
    {
     "name": "stdout",
     "output_type": "stream",
     "text": [
      "Epoch 16/50, Loss: 1.7237\n"
     ]
    },
    {
     "name": "stderr",
     "output_type": "stream",
     "text": [
      "Training Progress:  34%|███▍      | 78103/229700 [48:05<1:34:05, 26.85it/s, Epoch=18, Loss=2.1381]   "
     ]
    },
    {
     "name": "stdout",
     "output_type": "stream",
     "text": [
      "Epoch 17/50, Loss: 2.1608\n"
     ]
    },
    {
     "name": "stderr",
     "output_type": "stream",
     "text": [
      "Training Progress:  35%|███▍      | 80005/229700 [49:18<10:08:39,  4.10it/s, Epoch=18, Loss=1.4069]"
     ]
    },
    {
     "name": "stdout",
     "output_type": "stream",
     "text": [
      "Checkpoint saved at step 80000: checkpoints/checkpoint_step_80000.pth\n"
     ]
    },
    {
     "name": "stderr",
     "output_type": "stream",
     "text": [
      "Training Progress:  36%|███▌      | 82697/229700 [50:58<1:33:11, 26.29it/s, Epoch=19, Loss=3.4939] "
     ]
    },
    {
     "name": "stdout",
     "output_type": "stream",
     "text": [
      "Epoch 18/50, Loss: 1.6964\n"
     ]
    },
    {
     "name": "stderr",
     "output_type": "stream",
     "text": [
      "Training Progress:  38%|███▊      | 87291/229700 [53:46<1:29:39, 26.47it/s, Epoch=20, Loss=1.6001]"
     ]
    },
    {
     "name": "stdout",
     "output_type": "stream",
     "text": [
      "Epoch 19/50, Loss: 1.5703\n"
     ]
    },
    {
     "name": "stderr",
     "output_type": "stream",
     "text": [
      "Training Progress:  40%|████      | 91885/229700 [56:35<1:25:36, 26.83it/s, Epoch=21, Loss=4.5905]  "
     ]
    },
    {
     "name": "stdout",
     "output_type": "stream",
     "text": [
      "Epoch 20/50, Loss: 1.5733\n"
     ]
    },
    {
     "name": "stderr",
     "output_type": "stream",
     "text": [
      "Training Progress:  42%|████▏     | 96479/229700 [59:24<1:25:26, 25.99it/s, Epoch=22, Loss=1.2713]"
     ]
    },
    {
     "name": "stdout",
     "output_type": "stream",
     "text": [
      "Epoch 21/50, Loss: 2.5647\n"
     ]
    },
    {
     "name": "stderr",
     "output_type": "stream",
     "text": [
      "Training Progress:  44%|████▍     | 101073/229700 [1:02:14<1:22:49, 25.88it/s, Epoch=23, Loss=1.4293]"
     ]
    },
    {
     "name": "stdout",
     "output_type": "stream",
     "text": [
      "Epoch 22/50, Loss: 1.5284\n"
     ]
    },
    {
     "name": "stderr",
     "output_type": "stream",
     "text": [
      "Training Progress:  46%|████▌     | 105667/229700 [1:05:04<1:17:32, 26.66it/s, Epoch=24, Loss=1.4978]"
     ]
    },
    {
     "name": "stdout",
     "output_type": "stream",
     "text": [
      "Epoch 23/50, Loss: 1.4205\n"
     ]
    },
    {
     "name": "stderr",
     "output_type": "stream",
     "text": [
      "Training Progress:  48%|████▊     | 110261/229700 [1:07:54<1:16:46, 25.93it/s, Epoch=25, Loss=2.6764]  "
     ]
    },
    {
     "name": "stdout",
     "output_type": "stream",
     "text": [
      "Epoch 24/50, Loss: 1.5675\n"
     ]
    },
    {
     "name": "stderr",
     "output_type": "stream",
     "text": [
      "Training Progress:  50%|█████     | 114855/229700 [1:10:43<1:11:24, 26.80it/s, Epoch=26, Loss=1.1245] "
     ]
    },
    {
     "name": "stdout",
     "output_type": "stream",
     "text": [
      "Epoch 25/50, Loss: 1.3752\n"
     ]
    },
    {
     "name": "stderr",
     "output_type": "stream",
     "text": [
      "Training Progress:  52%|█████▏    | 119449/229700 [1:13:32<1:08:33, 26.80it/s, Epoch=27, Loss=1.1332]"
     ]
    },
    {
     "name": "stdout",
     "output_type": "stream",
     "text": [
      "Epoch 26/50, Loss: 1.2446\n"
     ]
    },
    {
     "name": "stderr",
     "output_type": "stream",
     "text": [
      "Training Progress:  52%|█████▏    | 120005/229700 [1:13:56<10:00:47,  3.04it/s, Epoch=27, Loss=1.4621]"
     ]
    },
    {
     "name": "stdout",
     "output_type": "stream",
     "text": [
      "Checkpoint saved at step 120000: checkpoints/checkpoint_step_120000.pth\n"
     ]
    },
    {
     "name": "stderr",
     "output_type": "stream",
     "text": [
      "Training Progress:  54%|█████▍    | 124043/229700 [1:16:24<1:06:11, 26.60it/s, Epoch=28, Loss=3.2785]   "
     ]
    },
    {
     "name": "stdout",
     "output_type": "stream",
     "text": [
      "Epoch 27/50, Loss: 1.7315\n"
     ]
    },
    {
     "name": "stderr",
     "output_type": "stream",
     "text": [
      "Training Progress:  56%|█████▌    | 128637/229700 [1:19:14<1:02:46, 26.84it/s, Epoch=29, Loss=1.3806] "
     ]
    },
    {
     "name": "stdout",
     "output_type": "stream",
     "text": [
      "Epoch 28/50, Loss: 1.8693\n"
     ]
    },
    {
     "name": "stderr",
     "output_type": "stream",
     "text": [
      "Training Progress:  58%|█████▊    | 133231/229700 [1:22:05<1:00:30, 26.57it/s, Epoch=30, Loss=1.2300] "
     ]
    },
    {
     "name": "stdout",
     "output_type": "stream",
     "text": [
      "Epoch 29/50, Loss: 1.1608\n"
     ]
    },
    {
     "name": "stderr",
     "output_type": "stream",
     "text": [
      "Training Progress:  60%|██████    | 137825/229700 [1:24:55<56:49, 26.95it/s, Epoch=31, Loss=1.3725]  "
     ]
    },
    {
     "name": "stdout",
     "output_type": "stream",
     "text": [
      "Epoch 30/50, Loss: 1.1485\n"
     ]
    },
    {
     "name": "stderr",
     "output_type": "stream",
     "text": [
      "Training Progress:  62%|██████▏   | 142419/229700 [1:27:45<55:26, 26.24it/s, Epoch=32, Loss=0.7671]"
     ]
    },
    {
     "name": "stdout",
     "output_type": "stream",
     "text": [
      "Epoch 31/50, Loss: 1.1258\n"
     ]
    },
    {
     "name": "stderr",
     "output_type": "stream",
     "text": [
      "Training Progress:  64%|██████▍   | 147013/229700 [1:30:35<50:54, 27.07it/s, Epoch=33, Loss=0.6741]"
     ]
    },
    {
     "name": "stdout",
     "output_type": "stream",
     "text": [
      "Epoch 32/50, Loss: 1.0823\n"
     ]
    },
    {
     "name": "stderr",
     "output_type": "stream",
     "text": [
      "Training Progress:  66%|██████▌   | 151607/229700 [1:33:24<48:49, 26.65it/s, Epoch=34, Loss=2.8649] "
     ]
    },
    {
     "name": "stdout",
     "output_type": "stream",
     "text": [
      "Epoch 33/50, Loss: 1.0559\n"
     ]
    },
    {
     "name": "stderr",
     "output_type": "stream",
     "text": [
      "Training Progress:  68%|██████▊   | 156201/229700 [1:36:15<46:21, 26.43it/s, Epoch=35, Loss=0.9425]"
     ]
    },
    {
     "name": "stdout",
     "output_type": "stream",
     "text": [
      "Epoch 34/50, Loss: 1.0793\n"
     ]
    },
    {
     "name": "stderr",
     "output_type": "stream",
     "text": [
      "Training Progress:  70%|██████▉   | 160005/229700 [1:38:39<4:46:30,  4.05it/s, Epoch=35, Loss=1.3807]"
     ]
    },
    {
     "name": "stdout",
     "output_type": "stream",
     "text": [
      "Checkpoint saved at step 160000: checkpoints/checkpoint_step_160000.pth\n"
     ]
    },
    {
     "name": "stderr",
     "output_type": "stream",
     "text": [
      "Training Progress:  70%|███████   | 160795/229700 [1:39:08<42:48, 26.83it/s, Epoch=36, Loss=1.7514]  "
     ]
    },
    {
     "name": "stdout",
     "output_type": "stream",
     "text": [
      "Epoch 35/50, Loss: 1.0010\n"
     ]
    },
    {
     "name": "stderr",
     "output_type": "stream",
     "text": [
      "Training Progress:  72%|███████▏  | 165389/229700 [1:41:59<40:35, 26.40it/s, Epoch=37, Loss=0.9169]"
     ]
    },
    {
     "name": "stdout",
     "output_type": "stream",
     "text": [
      "Epoch 36/50, Loss: 0.9821\n"
     ]
    },
    {
     "name": "stderr",
     "output_type": "stream",
     "text": [
      "Training Progress:  74%|███████▍  | 169983/229700 [1:44:48<37:20, 26.66it/s, Epoch=38, Loss=0.7433]"
     ]
    },
    {
     "name": "stdout",
     "output_type": "stream",
     "text": [
      "Epoch 37/50, Loss: 0.9544\n"
     ]
    },
    {
     "name": "stderr",
     "output_type": "stream",
     "text": [
      "Training Progress:  76%|███████▌  | 174577/229700 [1:47:38<35:16, 26.04it/s, Epoch=39, Loss=1.0732]"
     ]
    },
    {
     "name": "stdout",
     "output_type": "stream",
     "text": [
      "Epoch 38/50, Loss: 0.9294\n"
     ]
    },
    {
     "name": "stderr",
     "output_type": "stream",
     "text": [
      "Training Progress:  78%|███████▊  | 179171/229700 [1:50:28<32:07, 26.21it/s, Epoch=40, Loss=4.7544]    "
     ]
    },
    {
     "name": "stdout",
     "output_type": "stream",
     "text": [
      "Epoch 39/50, Loss: 8.2425\n"
     ]
    },
    {
     "name": "stderr",
     "output_type": "stream",
     "text": [
      "Training Progress:  80%|████████  | 183765/229700 [1:53:18<29:11, 26.23it/s, Epoch=41, Loss=1.6173] "
     ]
    },
    {
     "name": "stdout",
     "output_type": "stream",
     "text": [
      "Epoch 40/50, Loss: 2.7286\n"
     ]
    },
    {
     "name": "stderr",
     "output_type": "stream",
     "text": [
      "Training Progress:  82%|████████▏ | 188359/229700 [1:56:08<25:48, 26.69it/s, Epoch=42, Loss=1.1233] "
     ]
    },
    {
     "name": "stdout",
     "output_type": "stream",
     "text": [
      "Epoch 41/50, Loss: 1.1591\n"
     ]
    },
    {
     "name": "stderr",
     "output_type": "stream",
     "text": [
      "Training Progress:  84%|████████▍ | 192953/229700 [1:58:59<22:55, 26.71it/s, Epoch=43, Loss=0.7012]"
     ]
    },
    {
     "name": "stdout",
     "output_type": "stream",
     "text": [
      "Epoch 42/50, Loss: 0.8770\n"
     ]
    },
    {
     "name": "stderr",
     "output_type": "stream",
     "text": [
      "Training Progress:  86%|████████▌ | 197547/229700 [2:01:48<20:32, 26.08it/s, Epoch=44, Loss=0.9524]"
     ]
    },
    {
     "name": "stdout",
     "output_type": "stream",
     "text": [
      "Epoch 43/50, Loss: 0.8670\n"
     ]
    },
    {
     "name": "stderr",
     "output_type": "stream",
     "text": [
      "Training Progress:  87%|████████▋ | 200005/229700 [2:03:21<1:55:24,  4.29it/s, Epoch=44, Loss=0.7722]"
     ]
    },
    {
     "name": "stdout",
     "output_type": "stream",
     "text": [
      "Checkpoint saved at step 200000: checkpoints/checkpoint_step_200000.pth\n"
     ]
    },
    {
     "name": "stderr",
     "output_type": "stream",
     "text": [
      "Training Progress:  88%|████████▊ | 202141/229700 [2:04:40<17:17, 26.57it/s, Epoch=45, Loss=0.5220]  "
     ]
    },
    {
     "name": "stdout",
     "output_type": "stream",
     "text": [
      "Epoch 44/50, Loss: 0.8653\n"
     ]
    },
    {
     "name": "stderr",
     "output_type": "stream",
     "text": [
      "Training Progress:  90%|█████████ | 206735/229700 [2:07:30<14:17, 26.78it/s, Epoch=46, Loss=0.5774]"
     ]
    },
    {
     "name": "stdout",
     "output_type": "stream",
     "text": [
      "Epoch 45/50, Loss: 0.8544\n"
     ]
    },
    {
     "name": "stderr",
     "output_type": "stream",
     "text": [
      "Training Progress:  92%|█████████▏| 211329/229700 [2:10:19<11:28, 26.67it/s, Epoch=47, Loss=1.3886]"
     ]
    },
    {
     "name": "stdout",
     "output_type": "stream",
     "text": [
      "Epoch 46/50, Loss: 0.8364\n"
     ]
    },
    {
     "name": "stderr",
     "output_type": "stream",
     "text": [
      "Training Progress:  94%|█████████▍| 215923/229700 [2:13:09<08:35, 26.72it/s, Epoch=48, Loss=3.4732]    "
     ]
    },
    {
     "name": "stdout",
     "output_type": "stream",
     "text": [
      "Epoch 47/50, Loss: 16.5498\n"
     ]
    },
    {
     "name": "stderr",
     "output_type": "stream",
     "text": [
      "Training Progress:  96%|█████████▌| 220517/229700 [2:15:58<05:47, 26.41it/s, Epoch=49, Loss=0.9875]  "
     ]
    },
    {
     "name": "stdout",
     "output_type": "stream",
     "text": [
      "Epoch 48/50, Loss: 3.0689\n"
     ]
    },
    {
     "name": "stderr",
     "output_type": "stream",
     "text": [
      "Training Progress:  98%|█████████▊| 225111/229700 [2:18:48<02:50, 26.96it/s, Epoch=50, Loss=0.6415] "
     ]
    },
    {
     "name": "stdout",
     "output_type": "stream",
     "text": [
      "Epoch 49/50, Loss: 0.9389\n"
     ]
    },
    {
     "name": "stderr",
     "output_type": "stream",
     "text": [
      "Training Progress: 100%|██████████| 229700/229700 [2:21:39<00:00, 27.03it/s, Epoch=50, Loss=589.0634]\n"
     ]
    },
    {
     "name": "stdout",
     "output_type": "stream",
     "text": [
      "Epoch 50/50, Loss: 0.9072\n",
      "Final checkpoint saved: checkpoints/final_checkpoint.pth\n"
     ]
    }
   ],
   "source": [
    "supervised_pretraining(agent, states, actions, epochs=50, batch_size=50)\n"
   ]
  },
  {
   "cell_type": "code",
   "execution_count": 25,
   "metadata": {},
   "outputs": [],
   "source": [
    "agent.save_model(\"pretrained_final_checkpoint.pth\")"
   ]
  },
  {
   "cell_type": "code",
   "execution_count": 10,
   "metadata": {},
   "outputs": [
    {
     "name": "stderr",
     "output_type": "stream",
     "text": [
      "Training Games:   0%|          | 2/13000 [00:02<4:38:34,  1.29s/it]/tmp/ipykernel_70220/1251775394.py:142: UserWarning: Creating a tensor from a list of numpy.ndarrays is extremely slow. Please consider converting the list to a single numpy.ndarray with numpy.array() before converting to a tensor. (Triggered internally at ../torch/csrc/utils/tensor_new.cpp:245.)\n",
      "  state_tensor = torch.tensor(states, dtype=torch.float32, device=device)\n",
      "Training Games:  23%|██▎       | 3000/13000 [2:08:28<6:49:23,  2.46s/it] "
     ]
    },
    {
     "name": "stdout",
     "output_type": "stream",
     "text": [
      "Checkpoint saved at step 3000: checkpoints/q_learnng_checkpoint_step_3000.pth\n"
     ]
    },
    {
     "name": "stderr",
     "output_type": "stream",
     "text": [
      "Training Games:  26%|██▌       | 3393/13000 [2:24:29<7:16:03,  2.72s/it]IOPub message rate exceeded.\n",
      "The Jupyter server will temporarily stop sending output\n",
      "to the client in order to avoid crashing it.\n",
      "To change this limit, set the config variable\n",
      "`--ServerApp.iopub_msg_rate_limit`.\n",
      "\n",
      "Current values:\n",
      "ServerApp.iopub_msg_rate_limit=1000.0 (msgs/sec)\n",
      "ServerApp.rate_limit_window=3.0 (secs)\n",
      "\n",
      "Training Games:  92%|█████████▏| 12000/13000 [8:27:49<41:11,  2.47s/it]  "
     ]
    },
    {
     "name": "stdout",
     "output_type": "stream",
     "text": [
      "Checkpoint saved at step 12000: checkpoints/q_learnng_checkpoint_step_12000.pth\n"
     ]
    },
    {
     "name": "stderr",
     "output_type": "stream",
     "text": [
      "Training Games: 100%|██████████| 13000/13000 [9:10:32<00:00,  2.54s/it]\n"
     ]
    },
    {
     "data": {
      "image/png": "[encoded data removed]",
      "text/plain": [
       "<Figure size 1200x600 with 2 Axes>"
      ]
     },
     "metadata": {},
     "output_type": "display_data"
    }
   ],
   "source": [
    "games_to_play, max_game_moves = 13000, 50\n",
    "loss, score, steps = agent.q_learning(games_to_play=games_to_play, max_game_moves=max_game_moves)\n",
    "\n",
    "score_df = pd.DataFrame(score, columns=[\"score\"])\n",
    "score_df['ma'] = score_df[\"score\"].rolling(window=games_to_play // 5).mean()\n",
    "loss_df = pd.DataFrame(loss, columns=[\"loss\"])\n",
    "loss_df['ma'] = loss_df[\"loss\"].rolling(window=steps // 5).mean()\n",
    "\n",
    "fig, (ax1, ax2) = plt.subplots(1, 2, figsize=(12, 6))\n",
    "ax1.plot(score_df.index, score_df[\"score\"], linewidth=0.2)\n",
    "ax1.plot(score_df.index, score_df[\"ma\"], label=\"Moving Average\")\n",
    "ax1.set_title('Final Score by Game')\n",
    "ax1.legend()\n",
    "ax2.plot(loss_df.index, loss_df[\"loss\"], linewidth=0.1)\n",
    "ax2.plot(loss_df.index, loss_df[\"ma\"], label=\"Moving Average\")\n",
    "ax2.set_title('Loss by Training Step')\n",
    "ax2.legend()\n",
    "\n",
    "plt.tight_layout()\n",
    "plt.show()"
   ]
  },
  {
   "cell_type": "code",
   "execution_count": 12,
   "metadata": {},
   "outputs": [
    {
     "name": "stdout",
     "output_type": "stream",
     "text": [
      "Final checkpoint saved: ./checkpoints/q_learning_final_checkpoint.pth\n"
     ]
    }
   ],
   "source": [
    "final_checkpoint_path = os.path.join(\"./checkpoints\", \"q_learning_final_checkpoint.pth\")\n",
    "torch.save(agent.policy_net.state_dict(), final_checkpoint_path)\n",
    "print(f\"Final checkpoint saved: {final_checkpoint_path}\")"
   ]
  },
  {
   "cell_type": "code",
   "execution_count": 13,
   "metadata": {},
   "outputs": [
    {
     "name": "stdout",
     "output_type": "stream",
     "text": [
      "1/2-1/2 Draw: 100%\n"
     ]
    }
   ],
   "source": [
    "def choose_move(agent, board):\n",
    "    \n",
    "    if agent == 'random':\n",
    "        chosen_move = random.choice(list(board.legal_moves))\n",
    "    \n",
    "    else:\n",
    "        bit_state = agent.convert_board_to_bitarray(board)\n",
    "        valid_moves_tensor, valid_move_dict = agent.mask_valid_moves(board)\n",
    "\n",
    "        with torch.no_grad():\n",
    "            tensor = torch.from_numpy(bit_state).float().unsqueeze(0)\n",
    "            policy_values = agent.policy_net(tensor.to(device), valid_moves_tensor.to(device))\n",
    "            chosen_move_index = int(policy_values.max(1)[1].view(1, 1))\n",
    "            \n",
    "            if chosen_move_index not in valid_move_dict:\n",
    "                chosen_move = random.choice(list(board.legal_moves))\n",
    "            else:\n",
    "                chosen_move = valid_move_dict[chosen_move_index]\n",
    "                \n",
    "    return chosen_move\n",
    "\n",
    "\n",
    "def test(agent, games=1, board_config=None):\n",
    "\n",
    "    outcomes = []\n",
    "    for game in range(games):\n",
    "        \n",
    "        done = False\n",
    "        \n",
    "        # Create a new standard board\n",
    "        if board_config is None:\n",
    "            board = chess.Board()\n",
    "        \n",
    "        # Create a board with the desired configuration (pieces and starting positions)\n",
    "        else:\n",
    "            board = chess.Board(board_config)\n",
    "        \n",
    "        game_moves = 0\n",
    "        while not done:\n",
    "            game_moves += 1\n",
    "            \n",
    "            # white moves\n",
    "            if game_moves % 2 != 0:\n",
    "                board.push(choose_move(agent, board))\n",
    "            \n",
    "            # black moves\n",
    "            else:\n",
    "                board.push(choose_move(\"random\", board))\n",
    "                \n",
    "            done = board.result(claim_draw=True) != '*'\n",
    "\n",
    "        outcomes.append(board.result(claim_draw=True))\n",
    "\n",
    "    outcome_dict = {\"1-0\":\"White won\", \"1/2-1/2\":\"Draw\", \"0-1\":\"Black won\"}\n",
    "    for o in set(outcomes):\n",
    "        print(f\"{o} {outcome_dict[o]}: {round(outcomes.count(o)/len(outcomes)*100)}%\")\n",
    "\n",
    "test(agent, games=20)"
   ]
  },
  {
   "cell_type": "code",
   "execution_count": 14,
   "metadata": {},
   "outputs": [
    {
     "name": "stdout",
     "output_type": "stream",
     "text": [
      "1/2-1/2 (Draw): 95%\n",
      "0-1 (Black (Random) won): 5%\n",
      "\n",
      "Summary:\n",
      "Agent wins: 0\n",
      "Agent losses: 1\n",
      "Draws: 19\n"
     ]
    }
   ],
   "source": [
    "def test(agent, games=1, board_config=None):\n",
    "    outcomes = []\n",
    "    \n",
    "    for game in range(games):\n",
    "        done = False\n",
    "        \n",
    "        # Create a new standard board\n",
    "        if board_config is None:\n",
    "            board = chess.Board()\n",
    "        \n",
    "        # Create a board with the desired configuration (pieces and starting positions)\n",
    "        else:\n",
    "            board = chess.Board(board_config)\n",
    "        \n",
    "        game_moves = 0\n",
    "        while not done:\n",
    "            game_moves += 1\n",
    "            \n",
    "            # White moves (agent)\n",
    "            if game_moves % 2 != 0:\n",
    "                board.push(choose_move(agent, board))\n",
    "            \n",
    "            # Black moves (random)\n",
    "            else:\n",
    "                board.push(choose_move(\"random\", board))\n",
    "                \n",
    "            done = board.result(claim_draw=True) != '*'\n",
    "\n",
    "        outcomes.append(board.result(claim_draw=True))\n",
    "    \n",
    "    # Count results\n",
    "    agent_wins = outcomes.count(\"1-0\")\n",
    "    agent_losses = outcomes.count(\"0-1\")\n",
    "    draws = outcomes.count(\"1/2-1/2\")\n",
    "    \n",
    "    # Outcome dictionary for description\n",
    "    outcome_dict = {\"1-0\": \"White (Agent) won\", \"1/2-1/2\": \"Draw\", \"0-1\": \"Black (Random) won\"}\n",
    "    \n",
    "    # Print statistics\n",
    "    for outcome in set(outcomes):\n",
    "        print(f\"{outcome} ({outcome_dict[outcome]}): {round(outcomes.count(outcome)/len(outcomes)*100)}%\")\n",
    "    \n",
    "    print(\"\\nSummary:\")\n",
    "    print(f\"Agent wins: {agent_wins}\")\n",
    "    print(f\"Agent losses: {agent_losses}\")\n",
    "    print(f\"Draws: {draws}\")\n",
    "\n",
    "test(agent, 20)"
   ]
  },
  {
   "cell_type": "code",
   "execution_count": 15,
   "metadata": {},
   "outputs": [
    {
     "name": "stdout",
     "output_type": "stream",
     "text": [
      "Stockfish level: 1: {'Wins': 0, 'Losses': 8, 'Draws': 12, 'Win Rate': 0.3, 'Stockfish Level': 1}\n",
      "Stockfish level: 5: {'Wins': 0, 'Losses': 13, 'Draws': 7, 'Win Rate': 0.175, 'Stockfish Level': 5}\n",
      "Stockfish level: 10: {'Wins': 0, 'Losses': 19, 'Draws': 1, 'Win Rate': 0.025, 'Stockfish Level': 10}\n",
      "Stockfish level: 15: {'Wins': 0, 'Losses': 18, 'Draws': 2, 'Win Rate': 0.05, 'Stockfish Level': 15}\n"
     ]
    }
   ],
   "source": [
    "def configure_stockfish_using_skill_level(skill_level):\n",
    "    stockfish = Stockfish(path=stockfish_path)\n",
    "    stockfish.set_skill_level(skill_level)\n",
    "    return stockfish\n",
    "\n",
    "def configure_stockfish_using_rating(elo_rating):\n",
    "    stockfish = Stockfish(path=stockfish_path)\n",
    "    stockfish.set_elo_rating(elo_rating)\n",
    "    return stockfish\n",
    "\n",
    "def play_single_stockfish_game(agent, stockfish, max_moves=50):\n",
    "    board = chess.Board()\n",
    "    stockfish.set_fen_position(board.fen())\n",
    "\n",
    "    for move_count in range(max_moves):\n",
    "        if board.turn:\n",
    "            _, move, _, _ = agent.select_action(board, evaluate=True)\n",
    "        else:\n",
    "            move = chess.Move.from_uci(stockfish.get_best_move())\n",
    "        board.push(move)\n",
    "        stockfish.set_fen_position(board.fen())\n",
    "\n",
    "        if board.is_game_over():\n",
    "            break\n",
    "\n",
    "    return board.result()\n",
    "\n",
    "def evaluate_agent(agent, skill_levels, games_per_rating=20):\n",
    "    results = []\n",
    "\n",
    "    for level in skill_levels:\n",
    "        stockfish = configure_stockfish_using_skill_level(level)\n",
    "        outcomes = {\"Wins\": 0, \"Losses\": 0, \"Draws\": 0}\n",
    "\n",
    "        for _ in range(games_per_rating):\n",
    "            result = play_single_stockfish_game(agent, stockfish)\n",
    "            if result == \"1-0\":\n",
    "                outcomes[\"Wins\"] += 1\n",
    "            elif result == \"0-1\":\n",
    "                outcomes[\"Losses\"] += 1\n",
    "            else:\n",
    "                outcomes[\"Draws\"] += 1\n",
    "\n",
    "        win_rate = (outcomes[\"Wins\"] + 0.5 * outcomes[\"Draws\"]) / games_per_rating\n",
    "        outcomes[\"Win Rate\"] = win_rate\n",
    "        outcomes[\"Stockfish Level\"] = level\n",
    "        results.append(outcomes)\n",
    "\n",
    "        print(f\"Stockfish level: {level}: {outcomes}\")\n",
    "\n",
    "    return results\n",
    "\n",
    "stockfish_skill_levels = [1, 5, 10, 15] \n",
    "results = evaluate_agent(agent, stockfish_skill_levels)"
   ]
  },
  {
   "cell_type": "markdown",
   "metadata": {},
   "source": [
    "##### "
   ]
  }
 ],
 "metadata": {
  "kaggle": {
   "accelerator": "gpu",
   "dataSources": [
    {
     "isSourceIdPinned": true,
     "modelId": 168146,
     "modelInstanceId": 145576,
     "sourceId": 171063,
     "sourceType": "modelInstanceVersion"
    }
   ],
   "dockerImageVersionId": 30786,
   "isGpuEnabled": true,
   "isInternetEnabled": true,
   "language": "python",
   "sourceType": "notebook"
  },
  "kernelspec": {
   "display_name": "Python 3 (ipykernel)",
   "language": "python",
   "name": "python3"
  },
  "language_info": {
   "codemirror_mode": {
    "name": "ipython",
    "version": 3
   },
   "file_extension": ".py",
   "mimetype": "text/x-python",
   "name": "python",
   "nbconvert_exporter": "python",
   "pygments_lexer": "ipython3",
   "version": "3.11.9"
  }
 },
 "nbformat": 4,
 "nbformat_minor": 4
}
