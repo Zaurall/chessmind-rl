{
 "cells": [
  {
   "cell_type": "markdown",
   "metadata": {},
   "source": [
    "This notebook aims on making a letter detection model to detect if the king is on the \"E\" or \"D\" row - to understand the color of the player."
   ]
  },
  {
   "cell_type": "code",
   "execution_count": 1,
   "metadata": {
    "ExecuteTime": {
     "end_time": "2024-10-12T11:29:51.540640700Z",
     "start_time": "2024-10-12T11:29:46.918509400Z"
    }
   },
   "outputs": [],
   "source": [
    "import torch\n",
    "import torch.nn as nn\n",
    "import torch.nn.functional as F\n",
    "import torch.optim as optim\n",
    "from torch.utils.data import DataLoader, TensorDataset\n",
    "from torchvision import transforms"
   ]
  },
  {
   "cell_type": "markdown",
   "metadata": {},
   "source": [
    "Transformation for the images from a dataset"
   ]
  },
  {
   "cell_type": "code",
   "execution_count": 2,
   "metadata": {
    "ExecuteTime": {
     "end_time": "2024-10-12T11:29:51.555351400Z",
     "start_time": "2024-10-12T11:29:51.544617900Z"
    }
   },
   "outputs": [],
   "source": [
    "from torchvision.io import read_image\n",
    "\n",
    "def load_img(fname):\n",
    "    img = read_image(fname)\n",
    "    x = img / 255.\n",
    "    \n",
    "    transform = transforms.Compose([\n",
    "        transforms.Resize((20, 20)),\n",
    "        transforms.Normalize(mean=[0.485, 0.456, 0.406], std=[0.229, 0.224, 0.225]),\n",
    "    ])\n",
    "\n",
    "    return transform(x)"
   ]
  },
  {
   "cell_type": "code",
   "execution_count": 3,
   "metadata": {
    "ExecuteTime": {
     "end_time": "2024-10-12T11:29:52.243589300Z",
     "start_time": "2024-10-12T11:29:51.557435400Z"
    }
   },
   "outputs": [
    {
     "data": {
      "text/plain": [
       "Index(['image_path', 'label'], dtype='object')"
      ]
     },
     "execution_count": 3,
     "metadata": {},
     "output_type": "execute_result"
    }
   ],
   "source": [
    "import pandas as pd\n",
    "\n",
    "train_features = pd.read_csv(f\"../data/corners/image_labels.csv\")\n",
    "\n",
    "train_features.columns"
   ]
  },
  {
   "cell_type": "markdown",
   "metadata": {},
   "source": [
    "Replacing alphabetical features with numerical ones (classifying)"
   ]
  },
  {
   "cell_type": "code",
   "execution_count": 4,
   "metadata": {
    "ExecuteTime": {
     "end_time": "2024-10-12T11:29:52.446777800Z",
     "start_time": "2024-10-12T11:29:52.243589300Z"
    }
   },
   "outputs": [
    {
     "name": "stderr",
     "output_type": "stream",
     "text": [
      "C:\\Users\\Zaurall\\AppData\\Local\\Temp\\ipykernel_11464\\3175941237.py:11: FutureWarning: Downcasting behavior in `replace` is deprecated and will be removed in a future version. To retain the old behavior, explicitly call `result.infer_objects(copy=False)`. To opt-in to the future behavior, set `pd.set_option('future.no_silent_downcasting', True)`\n",
      "  labels.replace('E', 2, inplace=True)\n"
     ]
    }
   ],
   "source": [
    "img_path = \"../data/corners\"\n",
    "\n",
    "# Load and transform images \n",
    "images = torch.stack([load_img(f\"{img_path}/{item['image_path']}\") for _, item in  train_features.iterrows()])\n",
    "\n",
    "# Select label(s) from train_features\n",
    "labels = train_features['label']\n",
    "# Leave values that only 1 or 0 and convert to float just for simplicity\n",
    "labels.replace('-', 0, inplace=True)\n",
    "labels.replace('D', 1, inplace=True)\n",
    "labels.replace('E', 2, inplace=True)\n",
    "labels = torch.from_numpy(labels.to_numpy()).float()"
   ]
  },
  {
   "cell_type": "code",
   "execution_count": 5,
   "metadata": {
    "ExecuteTime": {
     "end_time": "2024-10-12T11:29:52.456885300Z",
     "start_time": "2024-10-12T11:29:52.445782500Z"
    }
   },
   "outputs": [
    {
     "data": {
      "text/plain": [
       "(torch.Size([64, 3, 20, 20]), torch.Size([64]))"
      ]
     },
     "execution_count": 5,
     "metadata": {},
     "output_type": "execute_result"
    }
   ],
   "source": [
    "images.shape, labels.shape"
   ]
  },
  {
   "cell_type": "markdown",
   "metadata": {},
   "source": [
    "Splitting data frame to test the model"
   ]
  },
  {
   "cell_type": "code",
   "execution_count": 6,
   "metadata": {
    "ExecuteTime": {
     "end_time": "2024-10-12T11:29:54.926112200Z",
     "start_time": "2024-10-12T11:29:54.904668700Z"
    }
   },
   "outputs": [],
   "source": [
    "processed_dataset = TensorDataset(images, labels)\n",
    "\n",
    "# Set proportion and split dataset into train and validation parts\n",
    "proportion = 0.8\n",
    "\n",
    "train_dataset, val_dataset = torch.utils.data.random_split(\n",
    "    processed_dataset,\n",
    "   [(int(len(images) * proportion)), len(images) - int(len(images) * proportion)],\n",
    ")"
   ]
  },
  {
   "cell_type": "code",
   "execution_count": 7,
   "metadata": {
    "ExecuteTime": {
     "end_time": "2024-10-12T11:29:56.275010800Z",
     "start_time": "2024-10-12T11:29:56.256659900Z"
    }
   },
   "outputs": [],
   "source": [
    "batch_size = 32\n",
    "train_loader = DataLoader(train_dataset, batch_size=batch_size, shuffle=True)\n",
    "val_loader = DataLoader(val_dataset, batch_size=batch_size)"
   ]
  },
  {
   "cell_type": "markdown",
   "metadata": {},
   "source": [
    "Testing data loaders"
   ]
  },
  {
   "cell_type": "code",
   "execution_count": 8,
   "metadata": {
    "ExecuteTime": {
     "end_time": "2024-10-12T11:29:59.208080600Z",
     "start_time": "2024-10-12T11:29:58.245548700Z"
    }
   },
   "outputs": [
    {
     "name": "stderr",
     "output_type": "stream",
     "text": [
      "Clipping input data to the valid range for imshow with RGB data ([0..1] for floats or [0..255] for integers). Got range [-1.843908..2.2009807].\n",
      "Clipping input data to the valid range for imshow with RGB data ([0..1] for floats or [0..255] for integers). Got range [-0.7645023..2.2710087].\n",
      "Clipping input data to the valid range for imshow with RGB data ([0..1] for floats or [0..255] for integers). Got range [-0.4275379..2.2710087].\n",
      "Clipping input data to the valid range for imshow with RGB data ([0..1] for floats or [0..255] for integers). Got range [-1.5350274..1.9920374].\n",
      "Clipping input data to the valid range for imshow with RGB data ([0..1] for floats or [0..255] for integers). Got range [-0.29740003..1.9920374].\n"
     ]
    },
    {
     "data": {
      "image/png": "[encoded data removed]",
      "text/plain": [
       "<Figure size 1200x400 with 5 Axes>"
      ]
     },
     "metadata": {},
     "output_type": "display_data"
    }
   ],
   "source": [
    "import matplotlib.pyplot as plt\n",
    "\n",
    "\n",
    "for images, labels in train_loader:\n",
    "    fig, axes = plt.subplots(1, 5, figsize=(12, 4))\n",
    "    for i in range(5):\n",
    "        ax = axes[i]\n",
    "\n",
    "        img = images[i]\n",
    "        img = img.permute(1, 2, 0)\n",
    "\n",
    "        ax.imshow(img)\n",
    "        ax.set_title(f'letter: {labels[i].item()}')\n",
    "        ax.axis('off')\n",
    "    plt.show()\n",
    "    break"
   ]
  },
  {
   "cell_type": "code",
   "execution_count": 9,
   "metadata": {
    "ExecuteTime": {
     "end_time": "2024-10-12T11:30:03.549232200Z",
     "start_time": "2024-10-12T11:30:03.541975700Z"
    }
   },
   "outputs": [],
   "source": [
    "class SimpleCNN(nn.Module):\n",
    "    def __init__(self):\n",
    "        super(SimpleCNN, self).__init__()\n",
    "        self.conv1 = nn.Conv2d(3, 32, kernel_size=3, padding=1)\n",
    "        self.conv2 = nn.Conv2d(32, 64, kernel_size=3, padding=1)\n",
    "        self.conv3 = nn.Conv2d(64, 64, kernel_size=3, padding=1)\n",
    "        self.pool = nn.MaxPool2d(kernel_size=2, stride=2)\n",
    "        self.flatten = nn.Flatten()\n",
    "        self.fc1 = nn.Linear(64 * 5 * 5, 256)\n",
    "        self.fc2 = nn.Linear(256, 64)\n",
    "        self.fc3 = nn.Linear(64, 3)\n",
    "\n",
    "    def forward(self, x):\n",
    "        x = self.pool(nn.functional.relu(self.conv1(x)))\n",
    "        x = self.pool(nn.functional.relu(self.conv2(x)))\n",
    "        x = nn.functional.relu(self.conv3(x))\n",
    "        x = self.flatten(x)\n",
    "        x = nn.functional.relu(self.fc1(x))\n",
    "        x = nn.functional.relu(self.fc2(x))\n",
    "        x = self.fc3(x)\n",
    "        return x"
   ]
  },
  {
   "cell_type": "code",
   "execution_count": 10,
   "metadata": {
    "ExecuteTime": {
     "end_time": "2024-10-12T11:30:04.846652100Z",
     "start_time": "2024-10-12T11:30:04.814028100Z"
    }
   },
   "outputs": [],
   "source": [
    "model = SimpleCNN()\n",
    "criterion = nn.CrossEntropyLoss()\n",
    "optimizer = optim.Adam(model.parameters(), lr=0.001)"
   ]
  },
  {
   "cell_type": "markdown",
   "metadata": {},
   "source": [
    "Training the model"
   ]
  },
  {
   "cell_type": "code",
   "execution_count": 11,
   "metadata": {
    "ExecuteTime": {
     "end_time": "2024-10-12T11:30:13.677082500Z",
     "start_time": "2024-10-12T11:30:12.473399500Z"
    }
   },
   "outputs": [
    {
     "name": "stdout",
     "output_type": "stream",
     "text": [
      "Epoch 1/40, Loss: 1.093811571598053\n",
      "Validation Loss: 1.035690426826477, Accuracy: 69.23076923076923%\n",
      "Epoch 2/40, Loss: 1.075357973575592\n",
      "Validation Loss: 0.8994680643081665, Accuracy: 69.23076923076923%\n",
      "Epoch 3/40, Loss: 1.0538113713264465\n",
      "Validation Loss: 0.879233717918396, Accuracy: 69.23076923076923%\n",
      "Epoch 4/40, Loss: 1.0332316756248474\n",
      "Validation Loss: 0.9043020606040955, Accuracy: 69.23076923076923%\n",
      "Epoch 5/40, Loss: 0.9891873896121979\n",
      "Validation Loss: 0.7844113707542419, Accuracy: 84.61538461538461%\n",
      "Epoch 6/40, Loss: 0.9367756545543671\n",
      "Validation Loss: 0.7974169850349426, Accuracy: 84.61538461538461%\n",
      "Epoch 7/40, Loss: 0.866126149892807\n",
      "Validation Loss: 0.6353638768196106, Accuracy: 84.61538461538461%\n",
      "Epoch 8/40, Loss: 0.7436406016349792\n",
      "Validation Loss: 0.5677130222320557, Accuracy: 92.3076923076923%\n",
      "Epoch 9/40, Loss: 0.6457114815711975\n",
      "Validation Loss: 0.3834956884384155, Accuracy: 92.3076923076923%\n",
      "Epoch 10/40, Loss: 0.6094653606414795\n",
      "Validation Loss: 0.4472598731517792, Accuracy: 92.3076923076923%\n",
      "Epoch 11/40, Loss: 0.5946239233016968\n",
      "Validation Loss: 0.30923715233802795, Accuracy: 92.3076923076923%\n",
      "Epoch 12/40, Loss: 0.4935789406299591\n",
      "Validation Loss: 0.2657482922077179, Accuracy: 92.3076923076923%\n",
      "Epoch 13/40, Loss: 0.4850020706653595\n",
      "Validation Loss: 0.20842494070529938, Accuracy: 92.3076923076923%\n",
      "Epoch 14/40, Loss: 0.46300502121448517\n",
      "Validation Loss: 0.2092810720205307, Accuracy: 92.3076923076923%\n",
      "Epoch 15/40, Loss: 0.4094531238079071\n",
      "Validation Loss: 0.15820805728435516, Accuracy: 100.0%\n",
      "Epoch 16/40, Loss: 0.42523543536663055\n",
      "Validation Loss: 0.13545554876327515, Accuracy: 100.0%\n",
      "Epoch 17/40, Loss: 0.3704600930213928\n",
      "Validation Loss: 0.13418790698051453, Accuracy: 92.3076923076923%\n",
      "Epoch 18/40, Loss: 0.3714703619480133\n",
      "Validation Loss: 0.140786275267601, Accuracy: 92.3076923076923%\n",
      "Epoch 19/40, Loss: 0.3762497156858444\n",
      "Validation Loss: 0.12119323760271072, Accuracy: 100.0%\n",
      "Epoch 20/40, Loss: 0.3237825781106949\n",
      "Validation Loss: 0.11711803823709488, Accuracy: 100.0%\n",
      "Epoch 21/40, Loss: 0.36529675126075745\n",
      "Validation Loss: 0.10813403874635696, Accuracy: 100.0%\n",
      "Epoch 22/40, Loss: 0.3313291519880295\n",
      "Validation Loss: 0.10260222852230072, Accuracy: 100.0%\n",
      "Epoch 23/40, Loss: 0.31887291371822357\n",
      "Validation Loss: 0.08493009954690933, Accuracy: 100.0%\n",
      "Epoch 24/40, Loss: 0.2959531098604202\n",
      "Validation Loss: 0.08308523148298264, Accuracy: 100.0%\n",
      "Epoch 25/40, Loss: 0.2700139284133911\n",
      "Validation Loss: 0.050249699503183365, Accuracy: 100.0%\n",
      "Epoch 26/40, Loss: 0.25671109557151794\n",
      "Validation Loss: 0.03569917380809784, Accuracy: 100.0%\n",
      "Epoch 27/40, Loss: 0.2409714311361313\n",
      "Validation Loss: 0.03045647218823433, Accuracy: 100.0%\n",
      "Epoch 28/40, Loss: 0.14115867018699646\n",
      "Validation Loss: 0.02182878740131855, Accuracy: 100.0%\n",
      "Epoch 29/40, Loss: 0.16249466314911842\n",
      "Validation Loss: 0.02383257821202278, Accuracy: 100.0%\n",
      "Epoch 30/40, Loss: 0.15480313450098038\n",
      "Validation Loss: 0.019061405211687088, Accuracy: 100.0%\n",
      "Epoch 31/40, Loss: 0.07387165352702141\n",
      "Validation Loss: 0.01579630747437477, Accuracy: 100.0%\n",
      "Epoch 32/40, Loss: 0.09825049713253975\n",
      "Validation Loss: 0.01905224658548832, Accuracy: 100.0%\n",
      "Epoch 33/40, Loss: 0.07715064287185669\n",
      "Validation Loss: 0.012507940642535686, Accuracy: 100.0%\n",
      "Epoch 34/40, Loss: 0.03622021246701479\n",
      "Validation Loss: 0.003888887818902731, Accuracy: 100.0%\n",
      "Epoch 35/40, Loss: 0.04400675557553768\n",
      "Validation Loss: 0.003010447835549712, Accuracy: 100.0%\n",
      "Epoch 36/40, Loss: 0.024266499560326338\n",
      "Validation Loss: 0.004747616592794657, Accuracy: 100.0%\n",
      "Epoch 37/40, Loss: 0.022597393486648798\n",
      "Validation Loss: 0.004570591263473034, Accuracy: 100.0%\n",
      "Epoch 38/40, Loss: 0.01136964000761509\n",
      "Validation Loss: 0.0021301789674907923, Accuracy: 100.0%\n",
      "Epoch 39/40, Loss: 0.0068801832385361195\n",
      "Validation Loss: 0.0012962385080754757, Accuracy: 100.0%\n",
      "Epoch 40/40, Loss: 0.010914483107626438\n",
      "Validation Loss: 0.0010483049554750323, Accuracy: 100.0%\n"
     ]
    }
   ],
   "source": [
    "num_epochs = 40\n",
    "for epoch in range(num_epochs):\n",
    "    model.train()\n",
    "    running_loss = 0.0\n",
    "    for inputs, labels in train_loader:\n",
    "        labels = labels.long()\n",
    "        optimizer.zero_grad()\n",
    "        outputs = model(inputs)\n",
    "        loss = criterion(outputs, labels)\n",
    "        loss.backward()\n",
    "        optimizer.step()\n",
    "        running_loss += loss.item()\n",
    "    \n",
    "    print(f'Epoch {epoch+1}/{num_epochs}, Loss: {running_loss/len(train_loader)}')\n",
    "\n",
    "    # Validation\n",
    "    model.eval()\n",
    "    val_loss = 0.0\n",
    "    correct = 0\n",
    "    total = 0\n",
    "    with torch.no_grad():\n",
    "        for inputs, labels in val_loader:\n",
    "            labels = labels.long()\n",
    "            outputs = model(inputs)\n",
    "            loss = criterion(outputs, labels)\n",
    "            val_loss += loss.item()\n",
    "            _, predicted = torch.max(outputs.data, 1)\n",
    "            total += labels.size(0)\n",
    "            correct += (predicted == labels).sum().item()\n",
    "    \n",
    "    print(f'Validation Loss: {val_loss/len(val_loader)}, Accuracy: {100 * correct / total}%')\n",
    "\n",
    "# Save the model\n",
    "torch.save(model.state_dict(), '../models/letter_detection_model.pt')"
   ]
  },
  {
   "cell_type": "markdown",
   "metadata": {},
   "source": [
    "The model is accurate. The next cell is the example of usage."
   ]
  },
  {
   "cell_type": "code",
   "execution_count": 13,
   "metadata": {
    "ExecuteTime": {
     "end_time": "2024-10-12T11:30:35.610854500Z",
     "start_time": "2024-10-12T11:30:35.568610100Z"
    }
   },
   "outputs": [
    {
     "name": "stdout",
     "output_type": "stream",
     "text": [
      "Predicted: tensor([0, 0, 1, 1, 1, 1, 0, 1, 1, 2, 0, 1, 0, 0, 0, 1, 0, 0, 0, 0, 1, 0, 0, 0,\n",
      "        1, 0, 0, 2, 2, 2, 2, 2]), Actual: tensor([0, 0, 1, 1, 1, 1, 0, 1, 1, 2, 0, 1, 0, 0, 0, 1, 0, 0, 0, 0, 1, 0, 0, 0,\n",
      "        1, 0, 0, 2, 2, 2, 2, 2])\n",
      "Predicted: tensor([0, 1, 1, 1, 2, 2, 0, 2, 0, 2, 1, 0, 2, 1, 1, 0, 0, 0, 1]), Actual: tensor([0, 1, 1, 1, 2, 2, 0, 2, 0, 2, 1, 0, 2, 1, 1, 0, 0, 0, 1])\n"
     ]
    },
    {
     "name": "stderr",
     "output_type": "stream",
     "text": [
      "C:\\Users\\Zaurall\\AppData\\Local\\Temp\\ipykernel_11464\\596966827.py:2: FutureWarning: You are using `torch.load` with `weights_only=False` (the current default value), which uses the default pickle module implicitly. It is possible to construct malicious pickle data which will execute arbitrary code during unpickling (See https://github.com/pytorch/pytorch/blob/main/SECURITY.md#untrusted-models for more details). In a future release, the default value for `weights_only` will be flipped to `True`. This limits the functions that could be executed during unpickling. Arbitrary objects will no longer be allowed to be loaded via this mode unless they are explicitly allowlisted by the user via `torch.serialization.add_safe_globals`. We recommend you start setting `weights_only=True` for any use case where you don't have full control of the loaded file. Please open an issue on GitHub for any issues related to this experimental feature.\n",
      "  model.load_state_dict(torch.load('../models/letter_detection_model.pt'))\n"
     ]
    }
   ],
   "source": [
    "model = SimpleCNN()\n",
    "model.load_state_dict(torch.load('../models/letter_detection_model.pt'))\n",
    "model.eval()\n",
    "\n",
    "with torch.no_grad():\n",
    "    for inputs, labels in train_loader: #Change loader to some different input\n",
    "        labels = labels.long()\n",
    "        outputs = model(inputs)\n",
    "        _, predicted = torch.max(outputs.data, 1)\n",
    "        print(f'Predicted: {predicted}, Actual: {labels}')"
   ]
  },
  {
   "cell_type": "code",
   "execution_count": null,
   "metadata": {
    "collapsed": false
   },
   "outputs": [],
   "source": []
  }
 ],
 "metadata": {
  "kernelspec": {
   "display_name": "Python 3",
   "language": "python",
   "name": "python3"
  },
  "language_info": {
   "codemirror_mode": {
    "name": "ipython",
    "version": 3
   },
   "file_extension": ".py",
   "mimetype": "text/x-python",
   "name": "python",
   "nbconvert_exporter": "python",
   "pygments_lexer": "ipython3",
   "version": "3.12.1"
  }
 },
 "nbformat": 4,
 "nbformat_minor": 2
}
