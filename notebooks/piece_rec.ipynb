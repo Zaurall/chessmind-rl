{
 "cells": [
  {
   "metadata": {
    "ExecuteTime": {
     "end_time": "2024-10-05T11:03:34.242238Z",
     "start_time": "2024-10-05T11:03:34.232253Z"
    }
   },
   "cell_type": "code",
   "source": [
    "import tensorflow as tf\n",
    "import pandas as pd\n",
    "import os\n",
    "from sklearn.model_selection import train_test_split\n",
    "\n",
    "image_size = (224, 224)  \n",
    "batch_size = 32          \n",
    "\n",
    "csv_file = \"chessmind-rl/data/cells/dataset.csv\"  \n",
    "image_dir = \"chessmind-rl/data/cells/\"      \n",
    "\n",
    "df = pd.read_csv(csv_file)\n",
    "\n",
    "df['image_path'] = df['Filename'].apply(lambda x: os.path.join(image_dir, x))\n",
    "\n",
    "train_df, test_df = train_test_split(df, test_size=0.2, random_state=42)\n",
    "\n",
    "df"
   ],
   "id": "14b1ad0b918ef330",
   "outputs": [
    {
     "data": {
      "text/plain": [
       "           Site  Figure  Color                                   Filename  \\\n",
       "0    chessarena  bishop  black       chessarena_black_bishop_on_black.png   \n",
       "1    chessarena  bishop  black       chessarena_black_bishop_on_white.png   \n",
       "2    chessarena  bishop  black       chessarena_black_bishop_selected.png   \n",
       "3    chessarena    king  black            chessarena_black_king_check.png   \n",
       "4    chessarena    king  black        chessarena_black_king_checkmate.png   \n",
       "..          ...     ...    ...                                        ...   \n",
       "169     lichess   queen  white  lichess_white_queen_on_white_selected.png   \n",
       "170     lichess    rook  white            lichess_white_rook_on_black.png   \n",
       "171     lichess    rook  white   lichess_white_rook_on_black_selected.png   \n",
       "172     lichess    rook  white            lichess_white_rook_on_white.png   \n",
       "173     lichess    rook  white   lichess_white_rook_on_white_selected.png   \n",
       "\n",
       "                                            image_path  \n",
       "0    chessmind-rl/data/cells/chessarena_black_bisho...  \n",
       "1    chessmind-rl/data/cells/chessarena_black_bisho...  \n",
       "2    chessmind-rl/data/cells/chessarena_black_bisho...  \n",
       "3    chessmind-rl/data/cells/chessarena_black_king_...  \n",
       "4    chessmind-rl/data/cells/chessarena_black_king_...  \n",
       "..                                                 ...  \n",
       "169  chessmind-rl/data/cells/lichess_white_queen_on...  \n",
       "170  chessmind-rl/data/cells/lichess_white_rook_on_...  \n",
       "171  chessmind-rl/data/cells/lichess_white_rook_on_...  \n",
       "172  chessmind-rl/data/cells/lichess_white_rook_on_...  \n",
       "173  chessmind-rl/data/cells/lichess_white_rook_on_...  \n",
       "\n",
       "[174 rows x 5 columns]"
      ],
      "text/html": [
       "<div>\n",
       "<style scoped>\n",
       "    .dataframe tbody tr th:only-of-type {\n",
       "        vertical-align: middle;\n",
       "    }\n",
       "\n",
       "    .dataframe tbody tr th {\n",
       "        vertical-align: top;\n",
       "    }\n",
       "\n",
       "    .dataframe thead th {\n",
       "        text-align: right;\n",
       "    }\n",
       "</style>\n",
       "<table border=\"1\" class=\"dataframe\">\n",
       "  <thead>\n",
       "    <tr style=\"text-align: right;\">\n",
       "      <th></th>\n",
       "      <th>Site</th>\n",
       "      <th>Figure</th>\n",
       "      <th>Color</th>\n",
       "      <th>Filename</th>\n",
       "      <th>image_path</th>\n",
       "    </tr>\n",
       "  </thead>\n",
       "  <tbody>\n",
       "    <tr>\n",
       "      <th>0</th>\n",
       "      <td>chessarena</td>\n",
       "      <td>bishop</td>\n",
       "      <td>black</td>\n",
       "      <td>chessarena_black_bishop_on_black.png</td>\n",
       "      <td>chessmind-rl/data/cells/chessarena_black_bisho...</td>\n",
       "    </tr>\n",
       "    <tr>\n",
       "      <th>1</th>\n",
       "      <td>chessarena</td>\n",
       "      <td>bishop</td>\n",
       "      <td>black</td>\n",
       "      <td>chessarena_black_bishop_on_white.png</td>\n",
       "      <td>chessmind-rl/data/cells/chessarena_black_bisho...</td>\n",
       "    </tr>\n",
       "    <tr>\n",
       "      <th>2</th>\n",
       "      <td>chessarena</td>\n",
       "      <td>bishop</td>\n",
       "      <td>black</td>\n",
       "      <td>chessarena_black_bishop_selected.png</td>\n",
       "      <td>chessmind-rl/data/cells/chessarena_black_bisho...</td>\n",
       "    </tr>\n",
       "    <tr>\n",
       "      <th>3</th>\n",
       "      <td>chessarena</td>\n",
       "      <td>king</td>\n",
       "      <td>black</td>\n",
       "      <td>chessarena_black_king_check.png</td>\n",
       "      <td>chessmind-rl/data/cells/chessarena_black_king_...</td>\n",
       "    </tr>\n",
       "    <tr>\n",
       "      <th>4</th>\n",
       "      <td>chessarena</td>\n",
       "      <td>king</td>\n",
       "      <td>black</td>\n",
       "      <td>chessarena_black_king_checkmate.png</td>\n",
       "      <td>chessmind-rl/data/cells/chessarena_black_king_...</td>\n",
       "    </tr>\n",
       "    <tr>\n",
       "      <th>...</th>\n",
       "      <td>...</td>\n",
       "      <td>...</td>\n",
       "      <td>...</td>\n",
       "      <td>...</td>\n",
       "      <td>...</td>\n",
       "    </tr>\n",
       "    <tr>\n",
       "      <th>169</th>\n",
       "      <td>lichess</td>\n",
       "      <td>queen</td>\n",
       "      <td>white</td>\n",
       "      <td>lichess_white_queen_on_white_selected.png</td>\n",
       "      <td>chessmind-rl/data/cells/lichess_white_queen_on...</td>\n",
       "    </tr>\n",
       "    <tr>\n",
       "      <th>170</th>\n",
       "      <td>lichess</td>\n",
       "      <td>rook</td>\n",
       "      <td>white</td>\n",
       "      <td>lichess_white_rook_on_black.png</td>\n",
       "      <td>chessmind-rl/data/cells/lichess_white_rook_on_...</td>\n",
       "    </tr>\n",
       "    <tr>\n",
       "      <th>171</th>\n",
       "      <td>lichess</td>\n",
       "      <td>rook</td>\n",
       "      <td>white</td>\n",
       "      <td>lichess_white_rook_on_black_selected.png</td>\n",
       "      <td>chessmind-rl/data/cells/lichess_white_rook_on_...</td>\n",
       "    </tr>\n",
       "    <tr>\n",
       "      <th>172</th>\n",
       "      <td>lichess</td>\n",
       "      <td>rook</td>\n",
       "      <td>white</td>\n",
       "      <td>lichess_white_rook_on_white.png</td>\n",
       "      <td>chessmind-rl/data/cells/lichess_white_rook_on_...</td>\n",
       "    </tr>\n",
       "    <tr>\n",
       "      <th>173</th>\n",
       "      <td>lichess</td>\n",
       "      <td>rook</td>\n",
       "      <td>white</td>\n",
       "      <td>lichess_white_rook_on_white_selected.png</td>\n",
       "      <td>chessmind-rl/data/cells/lichess_white_rook_on_...</td>\n",
       "    </tr>\n",
       "  </tbody>\n",
       "</table>\n",
       "<p>174 rows × 5 columns</p>\n",
       "</div>"
      ]
     },
     "execution_count": 14,
     "metadata": {},
     "output_type": "execute_result"
    }
   ],
   "execution_count": 14
  },
  {
   "metadata": {
    "ExecuteTime": {
     "end_time": "2024-10-05T11:03:34.460794Z",
     "start_time": "2024-10-05T11:03:34.456932Z"
    }
   },
   "cell_type": "code",
   "source": [
    "def preprocess_image(file_path, label_figure, label_color):\n",
    "    img = tf.io.read_file(file_path)\n",
    "    img = tf.image.decode_png(img, channels=3)\n",
    "    img = tf.image.resize(img, image_size)\n",
    "    img = img / 255.0  \n",
    "\n",
    "    return img, (label_figure, label_color)\n",
    "\n",
    "\n",
    "def create_dataset(dataframe):\n",
    "    file_paths = dataframe['image_path'].values\n",
    "    figure_labels = dataframe['Figure'].map(figure_to_label).values\n",
    "    color_labels = dataframe['Color'].map(color_to_label).values\n",
    "    \n",
    "    dataset = tf.data.Dataset.from_tensor_slices((file_paths, figure_labels, color_labels))\n",
    "    dataset = dataset.map(lambda x, y, z: preprocess_image(x, y, z), num_parallel_calls=tf.data.AUTOTUNE)\n",
    "    dataset = dataset.batch(batch_size).prefetch(buffer_size=tf.data.AUTOTUNE)\n",
    "    \n",
    "    return dataset\n"
   ],
   "id": "40542dc3583eb376",
   "outputs": [],
   "execution_count": 15
  },
  {
   "metadata": {
    "ExecuteTime": {
     "end_time": "2024-10-05T11:03:34.717916Z",
     "start_time": "2024-10-05T11:03:34.671226Z"
    }
   },
   "cell_type": "code",
   "source": [
    "figure_to_label = {figure: idx for idx, figure in enumerate(df['Figure'].unique())}\n",
    "color_to_label = {color: idx for idx, color in enumerate(df['Color'].unique())}\n",
    "\n",
    "train_dataset = create_dataset(train_df)\n",
    "test_dataset = create_dataset(test_df)\n",
    "\n"
   ],
   "id": "e7a3470ebef82b96",
   "outputs": [],
   "execution_count": 16
  },
  {
   "metadata": {
    "ExecuteTime": {
     "end_time": "2024-10-05T11:03:34.918635Z",
     "start_time": "2024-10-05T11:03:34.914274Z"
    }
   },
   "cell_type": "code",
   "source": [
    "from tensorflow.keras import layers, models\n",
    "from tensorflow.keras.optimizers import Adam\n",
    "\n",
    "def create_custom_model(input_shape, num_figures, num_colors):\n",
    "    inputs = layers.Input(shape=input_shape)\n",
    "    x = layers.Conv2D(32, (3, 3), activation='relu')(inputs)\n",
    "    x = layers.MaxPooling2D((2, 2))(x)\n",
    "    x = layers.Conv2D(64, (3, 3), activation='relu')(x)\n",
    "    x = layers.MaxPooling2D((2, 2))(x)\n",
    "    x = layers.Conv2D(128, (3, 3), activation='relu')(x)\n",
    "    x = layers.MaxPooling2D((2, 2))(x)\n",
    "    x = layers.Conv2D(128, (3, 3), activation='relu')(x)\n",
    "    x = layers.MaxPooling2D((2, 2))(x)\n",
    "    x = layers.Flatten()(x)\n",
    "    x = layers.Dense(256, activation='relu')(x)\n",
    "    x = layers.Dropout(0.5)(x)\n",
    "\n",
    "    figure_output = layers.Dense(num_figures, activation='softmax', name='figure_output')(x)\n",
    "    color_output = layers.Dense(num_colors, activation='softmax', name='color_output')(x)\n",
    "    model = models.Model(inputs=inputs, outputs=[figure_output, color_output])\n",
    "    return model\n",
    "\n",
    "input_shape = (224, 224, 3)  \n",
    "num_figures = len(figure_to_label) \n",
    "num_colors = len(color_to_label)   "
   ],
   "id": "f47b34e4f2877efa",
   "outputs": [],
   "execution_count": 17
  },
  {
   "metadata": {
    "ExecuteTime": {
     "end_time": "2024-10-05T11:03:56.699256Z",
     "start_time": "2024-10-05T11:03:35.132361Z"
    }
   },
   "cell_type": "code",
   "source": [
    "    \n",
    "model = create_custom_model(input_shape, num_figures, num_colors)\n",
    "\n",
    "model.compile(\n",
    "    optimizer=Adam(learning_rate=0.001),\n",
    "    loss={\n",
    "        'figure_output': 'sparse_categorical_crossentropy', \n",
    "        'color_output': 'sparse_categorical_crossentropy'\n",
    "    },\n",
    "    metrics={\n",
    "        'figure_output': ['accuracy'],  \n",
    "        'color_output': ['accuracy']    \n",
    "    }\n",
    ")\n",
    "\n",
    "model.summary()\n",
    "\n",
    "history = model.fit(train_dataset, epochs=15, validation_data=test_dataset)"
   ],
   "id": "c4d10b34259e7d1",
   "outputs": [
    {
     "data": {
      "text/plain": [
       "\u001B[1mModel: \"functional_2\"\u001B[0m\n"
      ],
      "text/html": [
       "<pre style=\"white-space:pre;overflow-x:auto;line-height:normal;font-family:Menlo,'DejaVu Sans Mono',consolas,'Courier New',monospace\"><span style=\"font-weight: bold\">Model: \"functional_2\"</span>\n",
       "</pre>\n"
      ]
     },
     "metadata": {},
     "output_type": "display_data"
    },
    {
     "data": {
      "text/plain": [
       "┏━━━━━━━━━━━━━━━━━━━━━┳━━━━━━━━━━━━━━━━━━━┳━━━━━━━━━━━━┳━━━━━━━━━━━━━━━━━━━┓\n",
       "┃\u001B[1m \u001B[0m\u001B[1mLayer (type)       \u001B[0m\u001B[1m \u001B[0m┃\u001B[1m \u001B[0m\u001B[1mOutput Shape     \u001B[0m\u001B[1m \u001B[0m┃\u001B[1m \u001B[0m\u001B[1m   Param #\u001B[0m\u001B[1m \u001B[0m┃\u001B[1m \u001B[0m\u001B[1mConnected to     \u001B[0m\u001B[1m \u001B[0m┃\n",
       "┡━━━━━━━━━━━━━━━━━━━━━╇━━━━━━━━━━━━━━━━━━━╇━━━━━━━━━━━━╇━━━━━━━━━━━━━━━━━━━┩\n",
       "│ input_layer_2       │ (\u001B[38;5;45mNone\u001B[0m, \u001B[38;5;34m224\u001B[0m, \u001B[38;5;34m224\u001B[0m,  │          \u001B[38;5;34m0\u001B[0m │ -                 │\n",
       "│ (\u001B[38;5;33mInputLayer\u001B[0m)        │ \u001B[38;5;34m3\u001B[0m)                │            │                   │\n",
       "├─────────────────────┼───────────────────┼────────────┼───────────────────┤\n",
       "│ conv2d_8 (\u001B[38;5;33mConv2D\u001B[0m)   │ (\u001B[38;5;45mNone\u001B[0m, \u001B[38;5;34m222\u001B[0m, \u001B[38;5;34m222\u001B[0m,  │        \u001B[38;5;34m896\u001B[0m │ input_layer_2[\u001B[38;5;34m0\u001B[0m]… │\n",
       "│                     │ \u001B[38;5;34m32\u001B[0m)               │            │                   │\n",
       "├─────────────────────┼───────────────────┼────────────┼───────────────────┤\n",
       "│ max_pooling2d_8     │ (\u001B[38;5;45mNone\u001B[0m, \u001B[38;5;34m111\u001B[0m, \u001B[38;5;34m111\u001B[0m,  │          \u001B[38;5;34m0\u001B[0m │ conv2d_8[\u001B[38;5;34m0\u001B[0m][\u001B[38;5;34m0\u001B[0m]    │\n",
       "│ (\u001B[38;5;33mMaxPooling2D\u001B[0m)      │ \u001B[38;5;34m32\u001B[0m)               │            │                   │\n",
       "├─────────────────────┼───────────────────┼────────────┼───────────────────┤\n",
       "│ conv2d_9 (\u001B[38;5;33mConv2D\u001B[0m)   │ (\u001B[38;5;45mNone\u001B[0m, \u001B[38;5;34m109\u001B[0m, \u001B[38;5;34m109\u001B[0m,  │     \u001B[38;5;34m18,496\u001B[0m │ max_pooling2d_8[\u001B[38;5;34m…\u001B[0m │\n",
       "│                     │ \u001B[38;5;34m64\u001B[0m)               │            │                   │\n",
       "├─────────────────────┼───────────────────┼────────────┼───────────────────┤\n",
       "│ max_pooling2d_9     │ (\u001B[38;5;45mNone\u001B[0m, \u001B[38;5;34m54\u001B[0m, \u001B[38;5;34m54\u001B[0m,    │          \u001B[38;5;34m0\u001B[0m │ conv2d_9[\u001B[38;5;34m0\u001B[0m][\u001B[38;5;34m0\u001B[0m]    │\n",
       "│ (\u001B[38;5;33mMaxPooling2D\u001B[0m)      │ \u001B[38;5;34m64\u001B[0m)               │            │                   │\n",
       "├─────────────────────┼───────────────────┼────────────┼───────────────────┤\n",
       "│ conv2d_10 (\u001B[38;5;33mConv2D\u001B[0m)  │ (\u001B[38;5;45mNone\u001B[0m, \u001B[38;5;34m52\u001B[0m, \u001B[38;5;34m52\u001B[0m,    │     \u001B[38;5;34m73,856\u001B[0m │ max_pooling2d_9[\u001B[38;5;34m…\u001B[0m │\n",
       "│                     │ \u001B[38;5;34m128\u001B[0m)              │            │                   │\n",
       "├─────────────────────┼───────────────────┼────────────┼───────────────────┤\n",
       "│ max_pooling2d_10    │ (\u001B[38;5;45mNone\u001B[0m, \u001B[38;5;34m26\u001B[0m, \u001B[38;5;34m26\u001B[0m,    │          \u001B[38;5;34m0\u001B[0m │ conv2d_10[\u001B[38;5;34m0\u001B[0m][\u001B[38;5;34m0\u001B[0m]   │\n",
       "│ (\u001B[38;5;33mMaxPooling2D\u001B[0m)      │ \u001B[38;5;34m128\u001B[0m)              │            │                   │\n",
       "├─────────────────────┼───────────────────┼────────────┼───────────────────┤\n",
       "│ conv2d_11 (\u001B[38;5;33mConv2D\u001B[0m)  │ (\u001B[38;5;45mNone\u001B[0m, \u001B[38;5;34m24\u001B[0m, \u001B[38;5;34m24\u001B[0m,    │    \u001B[38;5;34m147,584\u001B[0m │ max_pooling2d_10… │\n",
       "│                     │ \u001B[38;5;34m128\u001B[0m)              │            │                   │\n",
       "├─────────────────────┼───────────────────┼────────────┼───────────────────┤\n",
       "│ max_pooling2d_11    │ (\u001B[38;5;45mNone\u001B[0m, \u001B[38;5;34m12\u001B[0m, \u001B[38;5;34m12\u001B[0m,    │          \u001B[38;5;34m0\u001B[0m │ conv2d_11[\u001B[38;5;34m0\u001B[0m][\u001B[38;5;34m0\u001B[0m]   │\n",
       "│ (\u001B[38;5;33mMaxPooling2D\u001B[0m)      │ \u001B[38;5;34m128\u001B[0m)              │            │                   │\n",
       "├─────────────────────┼───────────────────┼────────────┼───────────────────┤\n",
       "│ flatten_2 (\u001B[38;5;33mFlatten\u001B[0m) │ (\u001B[38;5;45mNone\u001B[0m, \u001B[38;5;34m18432\u001B[0m)     │          \u001B[38;5;34m0\u001B[0m │ max_pooling2d_11… │\n",
       "├─────────────────────┼───────────────────┼────────────┼───────────────────┤\n",
       "│ dense_2 (\u001B[38;5;33mDense\u001B[0m)     │ (\u001B[38;5;45mNone\u001B[0m, \u001B[38;5;34m256\u001B[0m)       │  \u001B[38;5;34m4,718,848\u001B[0m │ flatten_2[\u001B[38;5;34m0\u001B[0m][\u001B[38;5;34m0\u001B[0m]   │\n",
       "├─────────────────────┼───────────────────┼────────────┼───────────────────┤\n",
       "│ dropout_2 (\u001B[38;5;33mDropout\u001B[0m) │ (\u001B[38;5;45mNone\u001B[0m, \u001B[38;5;34m256\u001B[0m)       │          \u001B[38;5;34m0\u001B[0m │ dense_2[\u001B[38;5;34m0\u001B[0m][\u001B[38;5;34m0\u001B[0m]     │\n",
       "├─────────────────────┼───────────────────┼────────────┼───────────────────┤\n",
       "│ figure_output       │ (\u001B[38;5;45mNone\u001B[0m, \u001B[38;5;34m8\u001B[0m)         │      \u001B[38;5;34m2,056\u001B[0m │ dropout_2[\u001B[38;5;34m0\u001B[0m][\u001B[38;5;34m0\u001B[0m]   │\n",
       "│ (\u001B[38;5;33mDense\u001B[0m)             │                   │            │                   │\n",
       "├─────────────────────┼───────────────────┼────────────┼───────────────────┤\n",
       "│ color_output        │ (\u001B[38;5;45mNone\u001B[0m, \u001B[38;5;34m4\u001B[0m)         │      \u001B[38;5;34m1,028\u001B[0m │ dropout_2[\u001B[38;5;34m0\u001B[0m][\u001B[38;5;34m0\u001B[0m]   │\n",
       "│ (\u001B[38;5;33mDense\u001B[0m)             │                   │            │                   │\n",
       "└─────────────────────┴───────────────────┴────────────┴───────────────────┘\n"
      ],
      "text/html": [
       "<pre style=\"white-space:pre;overflow-x:auto;line-height:normal;font-family:Menlo,'DejaVu Sans Mono',consolas,'Courier New',monospace\">┏━━━━━━━━━━━━━━━━━━━━━┳━━━━━━━━━━━━━━━━━━━┳━━━━━━━━━━━━┳━━━━━━━━━━━━━━━━━━━┓\n",
       "┃<span style=\"font-weight: bold\"> Layer (type)        </span>┃<span style=\"font-weight: bold\"> Output Shape      </span>┃<span style=\"font-weight: bold\">    Param # </span>┃<span style=\"font-weight: bold\"> Connected to      </span>┃\n",
       "┡━━━━━━━━━━━━━━━━━━━━━╇━━━━━━━━━━━━━━━━━━━╇━━━━━━━━━━━━╇━━━━━━━━━━━━━━━━━━━┩\n",
       "│ input_layer_2       │ (<span style=\"color: #00d7ff; text-decoration-color: #00d7ff\">None</span>, <span style=\"color: #00af00; text-decoration-color: #00af00\">224</span>, <span style=\"color: #00af00; text-decoration-color: #00af00\">224</span>,  │          <span style=\"color: #00af00; text-decoration-color: #00af00\">0</span> │ -                 │\n",
       "│ (<span style=\"color: #0087ff; text-decoration-color: #0087ff\">InputLayer</span>)        │ <span style=\"color: #00af00; text-decoration-color: #00af00\">3</span>)                │            │                   │\n",
       "├─────────────────────┼───────────────────┼────────────┼───────────────────┤\n",
       "│ conv2d_8 (<span style=\"color: #0087ff; text-decoration-color: #0087ff\">Conv2D</span>)   │ (<span style=\"color: #00d7ff; text-decoration-color: #00d7ff\">None</span>, <span style=\"color: #00af00; text-decoration-color: #00af00\">222</span>, <span style=\"color: #00af00; text-decoration-color: #00af00\">222</span>,  │        <span style=\"color: #00af00; text-decoration-color: #00af00\">896</span> │ input_layer_2[<span style=\"color: #00af00; text-decoration-color: #00af00\">0</span>]… │\n",
       "│                     │ <span style=\"color: #00af00; text-decoration-color: #00af00\">32</span>)               │            │                   │\n",
       "├─────────────────────┼───────────────────┼────────────┼───────────────────┤\n",
       "│ max_pooling2d_8     │ (<span style=\"color: #00d7ff; text-decoration-color: #00d7ff\">None</span>, <span style=\"color: #00af00; text-decoration-color: #00af00\">111</span>, <span style=\"color: #00af00; text-decoration-color: #00af00\">111</span>,  │          <span style=\"color: #00af00; text-decoration-color: #00af00\">0</span> │ conv2d_8[<span style=\"color: #00af00; text-decoration-color: #00af00\">0</span>][<span style=\"color: #00af00; text-decoration-color: #00af00\">0</span>]    │\n",
       "│ (<span style=\"color: #0087ff; text-decoration-color: #0087ff\">MaxPooling2D</span>)      │ <span style=\"color: #00af00; text-decoration-color: #00af00\">32</span>)               │            │                   │\n",
       "├─────────────────────┼───────────────────┼────────────┼───────────────────┤\n",
       "│ conv2d_9 (<span style=\"color: #0087ff; text-decoration-color: #0087ff\">Conv2D</span>)   │ (<span style=\"color: #00d7ff; text-decoration-color: #00d7ff\">None</span>, <span style=\"color: #00af00; text-decoration-color: #00af00\">109</span>, <span style=\"color: #00af00; text-decoration-color: #00af00\">109</span>,  │     <span style=\"color: #00af00; text-decoration-color: #00af00\">18,496</span> │ max_pooling2d_8[<span style=\"color: #00af00; text-decoration-color: #00af00\">…</span> │\n",
       "│                     │ <span style=\"color: #00af00; text-decoration-color: #00af00\">64</span>)               │            │                   │\n",
       "├─────────────────────┼───────────────────┼────────────┼───────────────────┤\n",
       "│ max_pooling2d_9     │ (<span style=\"color: #00d7ff; text-decoration-color: #00d7ff\">None</span>, <span style=\"color: #00af00; text-decoration-color: #00af00\">54</span>, <span style=\"color: #00af00; text-decoration-color: #00af00\">54</span>,    │          <span style=\"color: #00af00; text-decoration-color: #00af00\">0</span> │ conv2d_9[<span style=\"color: #00af00; text-decoration-color: #00af00\">0</span>][<span style=\"color: #00af00; text-decoration-color: #00af00\">0</span>]    │\n",
       "│ (<span style=\"color: #0087ff; text-decoration-color: #0087ff\">MaxPooling2D</span>)      │ <span style=\"color: #00af00; text-decoration-color: #00af00\">64</span>)               │            │                   │\n",
       "├─────────────────────┼───────────────────┼────────────┼───────────────────┤\n",
       "│ conv2d_10 (<span style=\"color: #0087ff; text-decoration-color: #0087ff\">Conv2D</span>)  │ (<span style=\"color: #00d7ff; text-decoration-color: #00d7ff\">None</span>, <span style=\"color: #00af00; text-decoration-color: #00af00\">52</span>, <span style=\"color: #00af00; text-decoration-color: #00af00\">52</span>,    │     <span style=\"color: #00af00; text-decoration-color: #00af00\">73,856</span> │ max_pooling2d_9[<span style=\"color: #00af00; text-decoration-color: #00af00\">…</span> │\n",
       "│                     │ <span style=\"color: #00af00; text-decoration-color: #00af00\">128</span>)              │            │                   │\n",
       "├─────────────────────┼───────────────────┼────────────┼───────────────────┤\n",
       "│ max_pooling2d_10    │ (<span style=\"color: #00d7ff; text-decoration-color: #00d7ff\">None</span>, <span style=\"color: #00af00; text-decoration-color: #00af00\">26</span>, <span style=\"color: #00af00; text-decoration-color: #00af00\">26</span>,    │          <span style=\"color: #00af00; text-decoration-color: #00af00\">0</span> │ conv2d_10[<span style=\"color: #00af00; text-decoration-color: #00af00\">0</span>][<span style=\"color: #00af00; text-decoration-color: #00af00\">0</span>]   │\n",
       "│ (<span style=\"color: #0087ff; text-decoration-color: #0087ff\">MaxPooling2D</span>)      │ <span style=\"color: #00af00; text-decoration-color: #00af00\">128</span>)              │            │                   │\n",
       "├─────────────────────┼───────────────────┼────────────┼───────────────────┤\n",
       "│ conv2d_11 (<span style=\"color: #0087ff; text-decoration-color: #0087ff\">Conv2D</span>)  │ (<span style=\"color: #00d7ff; text-decoration-color: #00d7ff\">None</span>, <span style=\"color: #00af00; text-decoration-color: #00af00\">24</span>, <span style=\"color: #00af00; text-decoration-color: #00af00\">24</span>,    │    <span style=\"color: #00af00; text-decoration-color: #00af00\">147,584</span> │ max_pooling2d_10… │\n",
       "│                     │ <span style=\"color: #00af00; text-decoration-color: #00af00\">128</span>)              │            │                   │\n",
       "├─────────────────────┼───────────────────┼────────────┼───────────────────┤\n",
       "│ max_pooling2d_11    │ (<span style=\"color: #00d7ff; text-decoration-color: #00d7ff\">None</span>, <span style=\"color: #00af00; text-decoration-color: #00af00\">12</span>, <span style=\"color: #00af00; text-decoration-color: #00af00\">12</span>,    │          <span style=\"color: #00af00; text-decoration-color: #00af00\">0</span> │ conv2d_11[<span style=\"color: #00af00; text-decoration-color: #00af00\">0</span>][<span style=\"color: #00af00; text-decoration-color: #00af00\">0</span>]   │\n",
       "│ (<span style=\"color: #0087ff; text-decoration-color: #0087ff\">MaxPooling2D</span>)      │ <span style=\"color: #00af00; text-decoration-color: #00af00\">128</span>)              │            │                   │\n",
       "├─────────────────────┼───────────────────┼────────────┼───────────────────┤\n",
       "│ flatten_2 (<span style=\"color: #0087ff; text-decoration-color: #0087ff\">Flatten</span>) │ (<span style=\"color: #00d7ff; text-decoration-color: #00d7ff\">None</span>, <span style=\"color: #00af00; text-decoration-color: #00af00\">18432</span>)     │          <span style=\"color: #00af00; text-decoration-color: #00af00\">0</span> │ max_pooling2d_11… │\n",
       "├─────────────────────┼───────────────────┼────────────┼───────────────────┤\n",
       "│ dense_2 (<span style=\"color: #0087ff; text-decoration-color: #0087ff\">Dense</span>)     │ (<span style=\"color: #00d7ff; text-decoration-color: #00d7ff\">None</span>, <span style=\"color: #00af00; text-decoration-color: #00af00\">256</span>)       │  <span style=\"color: #00af00; text-decoration-color: #00af00\">4,718,848</span> │ flatten_2[<span style=\"color: #00af00; text-decoration-color: #00af00\">0</span>][<span style=\"color: #00af00; text-decoration-color: #00af00\">0</span>]   │\n",
       "├─────────────────────┼───────────────────┼────────────┼───────────────────┤\n",
       "│ dropout_2 (<span style=\"color: #0087ff; text-decoration-color: #0087ff\">Dropout</span>) │ (<span style=\"color: #00d7ff; text-decoration-color: #00d7ff\">None</span>, <span style=\"color: #00af00; text-decoration-color: #00af00\">256</span>)       │          <span style=\"color: #00af00; text-decoration-color: #00af00\">0</span> │ dense_2[<span style=\"color: #00af00; text-decoration-color: #00af00\">0</span>][<span style=\"color: #00af00; text-decoration-color: #00af00\">0</span>]     │\n",
       "├─────────────────────┼───────────────────┼────────────┼───────────────────┤\n",
       "│ figure_output       │ (<span style=\"color: #00d7ff; text-decoration-color: #00d7ff\">None</span>, <span style=\"color: #00af00; text-decoration-color: #00af00\">8</span>)         │      <span style=\"color: #00af00; text-decoration-color: #00af00\">2,056</span> │ dropout_2[<span style=\"color: #00af00; text-decoration-color: #00af00\">0</span>][<span style=\"color: #00af00; text-decoration-color: #00af00\">0</span>]   │\n",
       "│ (<span style=\"color: #0087ff; text-decoration-color: #0087ff\">Dense</span>)             │                   │            │                   │\n",
       "├─────────────────────┼───────────────────┼────────────┼───────────────────┤\n",
       "│ color_output        │ (<span style=\"color: #00d7ff; text-decoration-color: #00d7ff\">None</span>, <span style=\"color: #00af00; text-decoration-color: #00af00\">4</span>)         │      <span style=\"color: #00af00; text-decoration-color: #00af00\">1,028</span> │ dropout_2[<span style=\"color: #00af00; text-decoration-color: #00af00\">0</span>][<span style=\"color: #00af00; text-decoration-color: #00af00\">0</span>]   │\n",
       "│ (<span style=\"color: #0087ff; text-decoration-color: #0087ff\">Dense</span>)             │                   │            │                   │\n",
       "└─────────────────────┴───────────────────┴────────────┴───────────────────┘\n",
       "</pre>\n"
      ]
     },
     "metadata": {},
     "output_type": "display_data"
    },
    {
     "data": {
      "text/plain": [
       "\u001B[1m Total params: \u001B[0m\u001B[38;5;34m4,962,764\u001B[0m (18.93 MB)\n"
      ],
      "text/html": [
       "<pre style=\"white-space:pre;overflow-x:auto;line-height:normal;font-family:Menlo,'DejaVu Sans Mono',consolas,'Courier New',monospace\"><span style=\"font-weight: bold\"> Total params: </span><span style=\"color: #00af00; text-decoration-color: #00af00\">4,962,764</span> (18.93 MB)\n",
       "</pre>\n"
      ]
     },
     "metadata": {},
     "output_type": "display_data"
    },
    {
     "data": {
      "text/plain": [
       "\u001B[1m Trainable params: \u001B[0m\u001B[38;5;34m4,962,764\u001B[0m (18.93 MB)\n"
      ],
      "text/html": [
       "<pre style=\"white-space:pre;overflow-x:auto;line-height:normal;font-family:Menlo,'DejaVu Sans Mono',consolas,'Courier New',monospace\"><span style=\"font-weight: bold\"> Trainable params: </span><span style=\"color: #00af00; text-decoration-color: #00af00\">4,962,764</span> (18.93 MB)\n",
       "</pre>\n"
      ]
     },
     "metadata": {},
     "output_type": "display_data"
    },
    {
     "data": {
      "text/plain": [
       "\u001B[1m Non-trainable params: \u001B[0m\u001B[38;5;34m0\u001B[0m (0.00 B)\n"
      ],
      "text/html": [
       "<pre style=\"white-space:pre;overflow-x:auto;line-height:normal;font-family:Menlo,'DejaVu Sans Mono',consolas,'Courier New',monospace\"><span style=\"font-weight: bold\"> Non-trainable params: </span><span style=\"color: #00af00; text-decoration-color: #00af00\">0</span> (0.00 B)\n",
       "</pre>\n"
      ]
     },
     "metadata": {},
     "output_type": "display_data"
    },
    {
     "name": "stdout",
     "output_type": "stream",
     "text": [
      "Epoch 1/15\n",
      "\u001B[1m5/5\u001B[0m \u001B[32m━━━━━━━━━━━━━━━━━━━━\u001B[0m\u001B[37m\u001B[0m \u001B[1m3s\u001B[0m 294ms/step - color_output_accuracy: 0.4046 - color_output_loss: 1.4626 - figure_output_accuracy: 0.1474 - figure_output_loss: 2.1866 - loss: 3.6667 - val_color_output_accuracy: 0.9714 - val_color_output_loss: 0.8364 - val_figure_output_accuracy: 0.3143 - val_figure_output_loss: 2.0428 - val_loss: 2.8219\n",
      "Epoch 2/15\n",
      "\u001B[1m5/5\u001B[0m \u001B[32m━━━━━━━━━━━━━━━━━━━━\u001B[0m\u001B[37m\u001B[0m \u001B[1m1s\u001B[0m 254ms/step - color_output_accuracy: 0.6432 - color_output_loss: 1.0624 - figure_output_accuracy: 0.1487 - figure_output_loss: 2.0765 - loss: 3.1384 - val_color_output_accuracy: 0.8857 - val_color_output_loss: 0.5644 - val_figure_output_accuracy: 0.3714 - val_figure_output_loss: 2.0014 - val_loss: 2.3519\n",
      "Epoch 3/15\n",
      "\u001B[1m5/5\u001B[0m \u001B[32m━━━━━━━━━━━━━━━━━━━━\u001B[0m\u001B[37m\u001B[0m \u001B[1m1s\u001B[0m 260ms/step - color_output_accuracy: 0.7623 - color_output_loss: 0.9111 - figure_output_accuracy: 0.2544 - figure_output_loss: 1.9263 - loss: 2.8490 - val_color_output_accuracy: 0.9714 - val_color_output_loss: 0.2660 - val_figure_output_accuracy: 0.3714 - val_figure_output_loss: 1.5986 - val_loss: 1.9420\n",
      "Epoch 4/15\n",
      "\u001B[1m5/5\u001B[0m \u001B[32m━━━━━━━━━━━━━━━━━━━━\u001B[0m\u001B[37m\u001B[0m \u001B[1m1s\u001B[0m 254ms/step - color_output_accuracy: 0.6886 - color_output_loss: 0.8548 - figure_output_accuracy: 0.4047 - figure_output_loss: 1.6175 - loss: 2.4689 - val_color_output_accuracy: 0.9714 - val_color_output_loss: 0.3452 - val_figure_output_accuracy: 0.8286 - val_figure_output_loss: 1.3079 - val_loss: 1.4714\n",
      "Epoch 5/15\n",
      "\u001B[1m5/5\u001B[0m \u001B[32m━━━━━━━━━━━━━━━━━━━━\u001B[0m\u001B[37m\u001B[0m \u001B[1m1s\u001B[0m 263ms/step - color_output_accuracy: 0.7916 - color_output_loss: 0.5766 - figure_output_accuracy: 0.5916 - figure_output_loss: 1.1543 - loss: 1.7297 - val_color_output_accuracy: 0.9143 - val_color_output_loss: 0.1997 - val_figure_output_accuracy: 0.9429 - val_figure_output_loss: 0.7287 - val_loss: 0.8548\n",
      "Epoch 6/15\n",
      "\u001B[1m5/5\u001B[0m \u001B[32m━━━━━━━━━━━━━━━━━━━━\u001B[0m\u001B[37m\u001B[0m \u001B[1m1s\u001B[0m 260ms/step - color_output_accuracy: 0.8048 - color_output_loss: 0.5912 - figure_output_accuracy: 0.7807 - figure_output_loss: 0.7444 - loss: 1.3327 - val_color_output_accuracy: 0.9429 - val_color_output_loss: 0.2278 - val_figure_output_accuracy: 0.9143 - val_figure_output_loss: 0.7066 - val_loss: 0.8125\n",
      "Epoch 7/15\n",
      "\u001B[1m5/5\u001B[0m \u001B[32m━━━━━━━━━━━━━━━━━━━━\u001B[0m\u001B[37m\u001B[0m \u001B[1m1s\u001B[0m 257ms/step - color_output_accuracy: 0.8183 - color_output_loss: 0.4476 - figure_output_accuracy: 0.8113 - figure_output_loss: 0.6580 - loss: 1.1098 - val_color_output_accuracy: 0.9714 - val_color_output_loss: 0.1257 - val_figure_output_accuracy: 0.9429 - val_figure_output_loss: 0.2798 - val_loss: 0.4877\n",
      "Epoch 8/15\n",
      "\u001B[1m5/5\u001B[0m \u001B[32m━━━━━━━━━━━━━━━━━━━━\u001B[0m\u001B[37m\u001B[0m \u001B[1m1s\u001B[0m 266ms/step - color_output_accuracy: 0.8470 - color_output_loss: 0.4731 - figure_output_accuracy: 0.8261 - figure_output_loss: 0.5204 - loss: 0.9911 - val_color_output_accuracy: 0.9429 - val_color_output_loss: 0.2287 - val_figure_output_accuracy: 0.9429 - val_figure_output_loss: 0.3522 - val_loss: 0.7175\n",
      "Epoch 9/15\n",
      "\u001B[1m5/5\u001B[0m \u001B[32m━━━━━━━━━━━━━━━━━━━━\u001B[0m\u001B[37m\u001B[0m \u001B[1m1s\u001B[0m 265ms/step - color_output_accuracy: 0.8331 - color_output_loss: 0.4594 - figure_output_accuracy: 0.8151 - figure_output_loss: 0.5098 - loss: 0.9768 - val_color_output_accuracy: 0.9429 - val_color_output_loss: 0.2579 - val_figure_output_accuracy: 0.8857 - val_figure_output_loss: 0.3729 - val_loss: 0.4843\n",
      "Epoch 10/15\n",
      "\u001B[1m5/5\u001B[0m \u001B[32m━━━━━━━━━━━━━━━━━━━━\u001B[0m\u001B[37m\u001B[0m \u001B[1m1s\u001B[0m 262ms/step - color_output_accuracy: 0.8822 - color_output_loss: 0.3077 - figure_output_accuracy: 0.8685 - figure_output_loss: 0.3403 - loss: 0.6556 - val_color_output_accuracy: 0.9714 - val_color_output_loss: 0.1337 - val_figure_output_accuracy: 0.9429 - val_figure_output_loss: 0.2287 - val_loss: 0.3281\n",
      "Epoch 11/15\n",
      "\u001B[1m5/5\u001B[0m \u001B[32m━━━━━━━━━━━━━━━━━━━━\u001B[0m\u001B[37m\u001B[0m \u001B[1m1s\u001B[0m 262ms/step - color_output_accuracy: 0.8594 - color_output_loss: 0.3308 - figure_output_accuracy: 0.8698 - figure_output_loss: 0.3307 - loss: 0.6613 - val_color_output_accuracy: 0.9714 - val_color_output_loss: 0.1962 - val_figure_output_accuracy: 0.9429 - val_figure_output_loss: 0.2867 - val_loss: 0.4622\n",
      "Epoch 12/15\n",
      "\u001B[1m5/5\u001B[0m \u001B[32m━━━━━━━━━━━━━━━━━━━━\u001B[0m\u001B[37m\u001B[0m \u001B[1m1s\u001B[0m 262ms/step - color_output_accuracy: 0.8979 - color_output_loss: 0.2559 - figure_output_accuracy: 0.8890 - figure_output_loss: 0.3284 - loss: 0.5895 - val_color_output_accuracy: 0.9714 - val_color_output_loss: 0.2201 - val_figure_output_accuracy: 0.9429 - val_figure_output_loss: 0.5610 - val_loss: 0.4027\n",
      "Epoch 13/15\n",
      "\u001B[1m5/5\u001B[0m \u001B[32m━━━━━━━━━━━━━━━━━━━━\u001B[0m\u001B[37m\u001B[0m \u001B[1m1s\u001B[0m 263ms/step - color_output_accuracy: 0.9046 - color_output_loss: 0.2040 - figure_output_accuracy: 0.9189 - figure_output_loss: 0.2262 - loss: 0.4397 - val_color_output_accuracy: 0.9429 - val_color_output_loss: 0.3023 - val_figure_output_accuracy: 0.9143 - val_figure_output_loss: 0.3115 - val_loss: 0.3659\n",
      "Epoch 14/15\n",
      "\u001B[1m5/5\u001B[0m \u001B[32m━━━━━━━━━━━━━━━━━━━━\u001B[0m\u001B[37m\u001B[0m \u001B[1m1s\u001B[0m 260ms/step - color_output_accuracy: 0.8979 - color_output_loss: 0.1894 - figure_output_accuracy: 0.8835 - figure_output_loss: 0.3474 - loss: 0.5378 - val_color_output_accuracy: 0.9429 - val_color_output_loss: 0.2642 - val_figure_output_accuracy: 0.9143 - val_figure_output_loss: 0.3191 - val_loss: 0.3031\n",
      "Epoch 15/15\n",
      "\u001B[1m5/5\u001B[0m \u001B[32m━━━━━━━━━━━━━━━━━━━━\u001B[0m\u001B[37m\u001B[0m \u001B[1m1s\u001B[0m 262ms/step - color_output_accuracy: 0.9526 - color_output_loss: 0.1713 - figure_output_accuracy: 0.9350 - figure_output_loss: 0.2296 - loss: 0.3991 - val_color_output_accuracy: 0.9429 - val_color_output_loss: 0.2906 - val_figure_output_accuracy: 0.9429 - val_figure_output_loss: 0.4030 - val_loss: 0.2765\n"
     ]
    }
   ],
   "execution_count": 18
  },
  {
   "metadata": {
    "ExecuteTime": {
     "end_time": "2024-10-05T11:04:24.575775Z",
     "start_time": "2024-10-05T11:04:24.389057Z"
    }
   },
   "cell_type": "code",
   "source": [
    "from joblib import dump\n",
    "\n",
    "dump(model, 'chessmind-rl/models/model_figures.joblib')"
   ],
   "id": "28fd2f566c51e8b3",
   "outputs": [
    {
     "data": {
      "text/plain": [
       "['chessmind-rl/models/model_figures.joblib']"
      ]
     },
     "execution_count": 19,
     "metadata": {},
     "output_type": "execute_result"
    }
   ],
   "execution_count": 19
  },
  {
   "metadata": {
    "ExecuteTime": {
     "end_time": "2024-10-04T20:45:36.759413Z",
     "start_time": "2024-10-04T20:45:36.757524Z"
    }
   },
   "cell_type": "code",
   "source": "",
   "id": "3d010f9bca3c9204",
   "outputs": [],
   "execution_count": null
  }
 ],
 "metadata": {
  "kernelspec": {
   "display_name": "Python 3",
   "language": "python",
   "name": "python3"
  },
  "language_info": {
   "codemirror_mode": {
    "name": "ipython",
    "version": 2
   },
   "file_extension": ".py",
   "mimetype": "text/x-python",
   "name": "python",
   "nbconvert_exporter": "python",
   "pygments_lexer": "ipython2",
   "version": "2.7.6"
  }
 },
 "nbformat": 4,
 "nbformat_minor": 5
}
